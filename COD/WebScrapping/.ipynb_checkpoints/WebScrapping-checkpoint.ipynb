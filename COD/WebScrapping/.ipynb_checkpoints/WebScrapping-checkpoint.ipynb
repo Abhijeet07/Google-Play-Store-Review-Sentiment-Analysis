{
 "cells": [
  {
   "cell_type": "code",
   "execution_count": 27,
   "metadata": {},
   "outputs": [],
   "source": [
    "import json"
   ]
  },
  {
   "cell_type": "code",
   "execution_count": 6,
   "metadata": {},
   "outputs": [],
   "source": [
    "import pandas as pd"
   ]
  },
  {
   "cell_type": "code",
   "execution_count": 7,
   "metadata": {},
   "outputs": [],
   "source": [
    "from tqdm import tqdm"
   ]
  },
  {
   "cell_type": "code",
   "execution_count": 9,
   "metadata": {},
   "outputs": [],
   "source": [
    "import seaborn as sns\n",
    "import matplotlib.pyplot as plt"
   ]
  },
  {
   "cell_type": "code",
   "execution_count": 10,
   "metadata": {},
   "outputs": [],
   "source": [
    "from pygments import highlight\n",
    "from pygments.lexers import JsonLexer\n",
    "from pygments.formatters import TerminalFormatter"
   ]
  },
  {
   "cell_type": "code",
   "execution_count": 11,
   "metadata": {},
   "outputs": [],
   "source": [
    "from google_play_scraper import Sort, reviews, app"
   ]
  },
  {
   "cell_type": "code",
   "execution_count": 12,
   "metadata": {},
   "outputs": [],
   "source": [
    "%matplotlib inline\n",
    "%config InlineBackend.figure_format='retina'"
   ]
  },
  {
   "cell_type": "code",
   "execution_count": 29,
   "metadata": {},
   "outputs": [],
   "source": [
    "def print_json(json_object):\n",
    "  json_str = json.dumps(\n",
    "    json_object,\n",
    "    indent=2,\n",
    "    sort_keys=True,\n",
    "    default=str\n",
    "  )\n",
    "  print(highlight(json_str, JsonLexer(), TerminalFormatter()))"
   ]
  },
  {
   "cell_type": "code",
   "execution_count": 13,
   "metadata": {},
   "outputs": [],
   "source": [
    "sns.set(style='whitegrid', palette='muted', font_scale=1.2)"
   ]
  },
  {
   "cell_type": "code",
   "execution_count": 14,
   "metadata": {},
   "outputs": [],
   "source": [
    "app_packages = ['com.tencent.ig']"
   ]
  },
  {
   "cell_type": "code",
   "execution_count": 25,
   "metadata": {},
   "outputs": [
    {
     "name": "stderr",
     "output_type": "stream",
     "text": [
      "100%|██████████| 1/1 [00:07<00:00,  7.14s/it]\n"
     ]
    }
   ],
   "source": [
    "app_reviews = []\n",
    "for ap in tqdm(app_packages):\n",
    "        for score in list(range(1,6)):\n",
    "            for sort_order in [Sort.MOST_RELEVANT, Sort.NEWEST]:\n",
    "                rvs, _ = reviews(\n",
    "                    ap,\n",
    "                    lang='en',\n",
    "                    country='us',\n",
    "                    sort=sort_order,\n",
    "                    count= 200 if score == 3 else 100,\n",
    "                    filter_score_with=score\n",
    "                  )\n",
    "                \n",
    "                for r in rvs:\n",
    "                    r['sortOrder'] = 'most_relevant' if sort_order == Sort.MOST_RELEVANT else 'newest'\n",
    "                    r['appId'] = ap\n",
    "                    app_reviews.extend(rvs)"
   ]
  },
  {
   "cell_type": "code",
   "execution_count": 61,
   "metadata": {},
   "outputs": [
    {
     "name": "stdout",
     "output_type": "stream",
     "text": [
      "{\n",
      "  \u001b[94m\"appId\"\u001b[39;49;00m: \u001b[33m\"com.tencent.ig\"\u001b[39;49;00m,\n",
      "  \u001b[94m\"at\"\u001b[39;49;00m: \u001b[33m\"2020-06-04 20:18:43\"\u001b[39;49;00m,\n",
      "  \u001b[94m\"content\"\u001b[39;49;00m: \u001b[33m\"Game used to be light. But now its filled with pointless contents. Gameplays are becoming more choppy. Cant even play properly on mid end device also. What are the devs trying to achieve?\"\u001b[39;49;00m,\n",
      "  \u001b[94m\"repliedAt\"\u001b[39;49;00m: \u001b[34mnull\u001b[39;49;00m,\n",
      "  \u001b[94m\"replyContent\"\u001b[39;49;00m: \u001b[34mnull\u001b[39;49;00m,\n",
      "  \u001b[94m\"reviewCreatedVersion\"\u001b[39;49;00m: \u001b[34mnull\u001b[39;49;00m,\n",
      "  \u001b[94m\"reviewId\"\u001b[39;49;00m: \u001b[33m\"gp:AOqpTOFNuOFgNMC6jrxm3NWDPyF1-sdunXuV_jMPXJG_ne4Bfz_P2GkcmkXJeRRFgqUoSXLQT3fEJjJCBQIwdfo\"\u001b[39;49;00m,\n",
      "  \u001b[94m\"score\"\u001b[39;49;00m: \u001b[34m2\u001b[39;49;00m,\n",
      "  \u001b[94m\"sortOrder\"\u001b[39;49;00m: \u001b[33m\"newest\"\u001b[39;49;00m,\n",
      "  \u001b[94m\"thumbsUpCount\"\u001b[39;49;00m: \u001b[34m0\u001b[39;49;00m,\n",
      "  \u001b[94m\"userImage\"\u001b[39;49;00m: \u001b[33m\"https://lh3.googleusercontent.com/a-/AOh14Gh-08tYtGqqktiebQtKN33AJ-2NUJHk8s14oBtInQ\"\u001b[39;49;00m,\n",
      "  \u001b[94m\"userName\"\u001b[39;49;00m: \u001b[33m\"Aamjit Yanglem\"\u001b[39;49;00m\n",
      "}\n",
      "\n"
     ]
    }
   ],
   "source": [
    "print_json(app_reviews[32013])"
   ]
  },
  {
   "cell_type": "code",
   "execution_count": 62,
   "metadata": {},
   "outputs": [
    {
     "data": {
      "text/plain": [
       "160000"
      ]
     },
     "execution_count": 62,
     "metadata": {},
     "output_type": "execute_result"
    }
   ],
   "source": [
    "len(app_reviews)"
   ]
  },
  {
   "cell_type": "code",
   "execution_count": 65,
   "metadata": {},
   "outputs": [],
   "source": [
    "app_reviews_df = pd.DataFrame(app_reviews)\n",
    "app_reviews_df.to_csv(r'/Users/abhijeet/Documents/Sentiment Analysis/reviews_pubg.csv', index=None, header=True)"
   ]
  },
  {
   "cell_type": "code",
   "execution_count": 124,
   "metadata": {},
   "outputs": [
    {
     "data": {
      "text/html": [
       "<div>\n",
       "<style scoped>\n",
       "    .dataframe tbody tr th:only-of-type {\n",
       "        vertical-align: middle;\n",
       "    }\n",
       "\n",
       "    .dataframe tbody tr th {\n",
       "        vertical-align: top;\n",
       "    }\n",
       "\n",
       "    .dataframe thead th {\n",
       "        text-align: right;\n",
       "    }\n",
       "</style>\n",
       "<table border=\"1\" class=\"dataframe\">\n",
       "  <thead>\n",
       "    <tr style=\"text-align: right;\">\n",
       "      <th></th>\n",
       "      <th>reviewId</th>\n",
       "      <th>userName</th>\n",
       "      <th>userImage</th>\n",
       "      <th>content</th>\n",
       "      <th>score</th>\n",
       "      <th>thumbsUpCount</th>\n",
       "      <th>reviewCreatedVersion</th>\n",
       "      <th>at</th>\n",
       "      <th>replyContent</th>\n",
       "      <th>repliedAt</th>\n",
       "      <th>sortOrder</th>\n",
       "      <th>appId</th>\n",
       "    </tr>\n",
       "  </thead>\n",
       "  <tbody>\n",
       "    <tr>\n",
       "      <th>0</th>\n",
       "      <td>gp:AOqpTOGYYo7sqhQ2pQfq4IdfrwhH8w1Llbi5_bm400g...</td>\n",
       "      <td>Cayne Game</td>\n",
       "      <td>https://lh3.googleusercontent.com/a-/AOh14Ghkz...</td>\n",
       "      <td>It's a decent game, just really bad implementa...</td>\n",
       "      <td>1</td>\n",
       "      <td>552</td>\n",
       "      <td>0.18.0</td>\n",
       "      <td>2020-05-21 18:18:38</td>\n",
       "      <td>Hello, thanks for your valuable feedback! We a...</td>\n",
       "      <td>2020-05-26 16:34:16</td>\n",
       "      <td>most_relevant</td>\n",
       "      <td>com.tencent.ig</td>\n",
       "    </tr>\n",
       "    <tr>\n",
       "      <th>1</th>\n",
       "      <td>gp:AOqpTOHCVZ2rGvks88eIbmvRUIPVqC3EuLiwfrHGkVn...</td>\n",
       "      <td>Iron man</td>\n",
       "      <td>https://lh3.googleusercontent.com/-l2gai4OTeN8...</td>\n",
       "      <td>Pubg is getting worst day by day, need to fix ...</td>\n",
       "      <td>1</td>\n",
       "      <td>73</td>\n",
       "      <td>0.18.0</td>\n",
       "      <td>2020-06-03 13:23:39</td>\n",
       "      <td>Hello, thank you for your feedback. For assist...</td>\n",
       "      <td>2020-06-04 16:14:54</td>\n",
       "      <td>most_relevant</td>\n",
       "      <td>com.tencent.ig</td>\n",
       "    </tr>\n",
       "    <tr>\n",
       "      <th>2</th>\n",
       "      <td>gp:AOqpTOERlGov8aKJaI4VJNBxZ4sv1ZbhqJq2Ahctpw2...</td>\n",
       "      <td>Mehul Mahendracumar</td>\n",
       "      <td>https://lh3.googleusercontent.com/a-/AOh14GhGa...</td>\n",
       "      <td>Too many hackers and too many team ups in solo...</td>\n",
       "      <td>1</td>\n",
       "      <td>59</td>\n",
       "      <td>0.18.0</td>\n",
       "      <td>2020-06-02 18:22:47</td>\n",
       "      <td>None</td>\n",
       "      <td>NaT</td>\n",
       "      <td>most_relevant</td>\n",
       "      <td>com.tencent.ig</td>\n",
       "    </tr>\n",
       "    <tr>\n",
       "      <th>3</th>\n",
       "      <td>gp:AOqpTOGJg9d95DH9JLkm284jg_k00ZGrnTvaWq9Nkr6...</td>\n",
       "      <td>Ashlay Steve GamingOP</td>\n",
       "      <td>https://lh3.googleusercontent.com/a-/AOh14GgGh...</td>\n",
       "      <td>Too many hackers and too many team ups in solo...</td>\n",
       "      <td>1</td>\n",
       "      <td>83</td>\n",
       "      <td>0.18.0</td>\n",
       "      <td>2020-05-30 04:41:02</td>\n",
       "      <td>Hi, We have a zero-tolerance stance on cheatin...</td>\n",
       "      <td>2020-06-02 15:55:26</td>\n",
       "      <td>most_relevant</td>\n",
       "      <td>com.tencent.ig</td>\n",
       "    </tr>\n",
       "    <tr>\n",
       "      <th>4</th>\n",
       "      <td>gp:AOqpTOFor9YMGgRdMo7S36YIftmydfJAO0Uiv_yW3gv...</td>\n",
       "      <td>prakash chandraker</td>\n",
       "      <td>https://lh3.googleusercontent.com/-JYWfROijFcM...</td>\n",
       "      <td>Mike glitches are too often. Need to restart t...</td>\n",
       "      <td>1</td>\n",
       "      <td>2996</td>\n",
       "      <td>0.18.0</td>\n",
       "      <td>2020-05-30 22:25:58</td>\n",
       "      <td>Hello prakash, thank you for your feedback. We...</td>\n",
       "      <td>2020-06-01 16:29:57</td>\n",
       "      <td>most_relevant</td>\n",
       "      <td>com.tencent.ig</td>\n",
       "    </tr>\n",
       "  </tbody>\n",
       "</table>\n",
       "</div>"
      ],
      "text/plain": [
       "                                            reviewId               userName  \\\n",
       "0  gp:AOqpTOGYYo7sqhQ2pQfq4IdfrwhH8w1Llbi5_bm400g...             Cayne Game   \n",
       "1  gp:AOqpTOHCVZ2rGvks88eIbmvRUIPVqC3EuLiwfrHGkVn...               Iron man   \n",
       "2  gp:AOqpTOERlGov8aKJaI4VJNBxZ4sv1ZbhqJq2Ahctpw2...    Mehul Mahendracumar   \n",
       "3  gp:AOqpTOGJg9d95DH9JLkm284jg_k00ZGrnTvaWq9Nkr6...  Ashlay Steve GamingOP   \n",
       "4  gp:AOqpTOFor9YMGgRdMo7S36YIftmydfJAO0Uiv_yW3gv...     prakash chandraker   \n",
       "\n",
       "                                           userImage  \\\n",
       "0  https://lh3.googleusercontent.com/a-/AOh14Ghkz...   \n",
       "1  https://lh3.googleusercontent.com/-l2gai4OTeN8...   \n",
       "2  https://lh3.googleusercontent.com/a-/AOh14GhGa...   \n",
       "3  https://lh3.googleusercontent.com/a-/AOh14GgGh...   \n",
       "4  https://lh3.googleusercontent.com/-JYWfROijFcM...   \n",
       "\n",
       "                                             content  score  thumbsUpCount  \\\n",
       "0  It's a decent game, just really bad implementa...      1            552   \n",
       "1  Pubg is getting worst day by day, need to fix ...      1             73   \n",
       "2  Too many hackers and too many team ups in solo...      1             59   \n",
       "3  Too many hackers and too many team ups in solo...      1             83   \n",
       "4  Mike glitches are too often. Need to restart t...      1           2996   \n",
       "\n",
       "  reviewCreatedVersion                  at  \\\n",
       "0               0.18.0 2020-05-21 18:18:38   \n",
       "1               0.18.0 2020-06-03 13:23:39   \n",
       "2               0.18.0 2020-06-02 18:22:47   \n",
       "3               0.18.0 2020-05-30 04:41:02   \n",
       "4               0.18.0 2020-05-30 22:25:58   \n",
       "\n",
       "                                        replyContent           repliedAt  \\\n",
       "0  Hello, thanks for your valuable feedback! We a... 2020-05-26 16:34:16   \n",
       "1  Hello, thank you for your feedback. For assist... 2020-06-04 16:14:54   \n",
       "2                                               None                 NaT   \n",
       "3  Hi, We have a zero-tolerance stance on cheatin... 2020-06-02 15:55:26   \n",
       "4  Hello prakash, thank you for your feedback. We... 2020-06-01 16:29:57   \n",
       "\n",
       "       sortOrder           appId  \n",
       "0  most_relevant  com.tencent.ig  \n",
       "1  most_relevant  com.tencent.ig  \n",
       "2  most_relevant  com.tencent.ig  \n",
       "3  most_relevant  com.tencent.ig  \n",
       "4  most_relevant  com.tencent.ig  "
      ]
     },
     "execution_count": 124,
     "metadata": {},
     "output_type": "execute_result"
    }
   ],
   "source": [
    "app_reviews_df.head()"
   ]
  },
  {
   "cell_type": "code",
   "execution_count": 68,
   "metadata": {},
   "outputs": [
    {
     "data": {
      "text/plain": [
       "160000"
      ]
     },
     "execution_count": 68,
     "metadata": {},
     "output_type": "execute_result"
    }
   ],
   "source": [
    "len(app_reviews_df)"
   ]
  },
  {
   "cell_type": "code",
   "execution_count": 125,
   "metadata": {},
   "outputs": [
    {
     "data": {
      "text/plain": [
       "(160000, 12)"
      ]
     },
     "execution_count": 125,
     "metadata": {},
     "output_type": "execute_result"
    }
   ],
   "source": [
    "app_reviews_df.shape"
   ]
  },
  {
   "cell_type": "code",
   "execution_count": 140,
   "metadata": {},
   "outputs": [],
   "source": [
    "app_reviews_df.drop_duplicates(keep='first', inplace = True)"
   ]
  },
  {
   "cell_type": "code",
   "execution_count": 148,
   "metadata": {},
   "outputs": [
    {
     "data": {
      "text/plain": [
       "(1200, 4)"
      ]
     },
     "execution_count": 148,
     "metadata": {},
     "output_type": "execute_result"
    }
   ],
   "source": [
    "app_reviews_df.shape\n"
   ]
  },
  {
   "cell_type": "code",
   "execution_count": null,
   "metadata": {},
   "outputs": [],
   "source": []
  },
  {
   "cell_type": "code",
   "execution_count": 143,
   "metadata": {},
   "outputs": [],
   "source": [
    "app_reviews_df.drop(['reviewId', 'userName', 'userImage','at','replyContent','repliedAt','appId','reviewCreatedVersion'], axis =1, inplace = True)"
   ]
  },
  {
   "cell_type": "code",
   "execution_count": 146,
   "metadata": {},
   "outputs": [],
   "source": [
    "app_reviews_df.shape\n",
    "app_reviews_df.to_csv(r'/Users/abhijeet/Documents/Sentiment Analysis/reviews_pubg.csv', index=None, header=True)"
   ]
  },
  {
   "cell_type": "code",
   "execution_count": 162,
   "metadata": {},
   "outputs": [
    {
     "data": {
      "text/plain": [
       "(790, 4)"
      ]
     },
     "execution_count": 162,
     "metadata": {},
     "output_type": "execute_result"
    }
   ],
   "source": [
    "app_reviews_df[app_reviews_df['content'].str.len() > 100 ].shape"
   ]
  },
  {
   "cell_type": "code",
   "execution_count": 163,
   "metadata": {},
   "outputs": [],
   "source": [
    "app_reviews_df.to_csv(r'/Users/abhijeet/Documents/Sentiment Analysis/clean_reviews_pubg.csv', index=None, header=True)"
   ]
  },
  {
   "cell_type": "code",
   "execution_count": 111,
   "metadata": {},
   "outputs": [],
   "source": [
    "new1.drop(['reviewId', 'userName', 'userImage','at','replyContent','repliedAt','appId','reviewCreatedVersion'], axis =1, inplace = True)"
   ]
  },
  {
   "cell_type": "code",
   "execution_count": null,
   "metadata": {},
   "outputs": [],
   "source": []
  },
  {
   "cell_type": "code",
   "execution_count": 112,
   "metadata": {},
   "outputs": [
    {
     "data": {
      "text/html": [
       "<div>\n",
       "<style scoped>\n",
       "    .dataframe tbody tr th:only-of-type {\n",
       "        vertical-align: middle;\n",
       "    }\n",
       "\n",
       "    .dataframe tbody tr th {\n",
       "        vertical-align: top;\n",
       "    }\n",
       "\n",
       "    .dataframe thead th {\n",
       "        text-align: right;\n",
       "    }\n",
       "</style>\n",
       "<table border=\"1\" class=\"dataframe\">\n",
       "  <thead>\n",
       "    <tr style=\"text-align: right;\">\n",
       "      <th></th>\n",
       "      <th>content</th>\n",
       "      <th>score</th>\n",
       "      <th>thumbsUpCount</th>\n",
       "      <th>sortOrder</th>\n",
       "    </tr>\n",
       "  </thead>\n",
       "  <tbody>\n",
       "    <tr>\n",
       "      <th>0</th>\n",
       "      <td>It's a decent game, just really bad implementa...</td>\n",
       "      <td>1</td>\n",
       "      <td>552</td>\n",
       "      <td>most_relevant</td>\n",
       "    </tr>\n",
       "    <tr>\n",
       "      <th>1</th>\n",
       "      <td>Pubg is getting worst day by day, need to fix ...</td>\n",
       "      <td>1</td>\n",
       "      <td>73</td>\n",
       "      <td>most_relevant</td>\n",
       "    </tr>\n",
       "    <tr>\n",
       "      <th>2</th>\n",
       "      <td>Too many hackers and too many team ups in solo...</td>\n",
       "      <td>1</td>\n",
       "      <td>59</td>\n",
       "      <td>most_relevant</td>\n",
       "    </tr>\n",
       "    <tr>\n",
       "      <th>3</th>\n",
       "      <td>Too many hackers and too many team ups in solo...</td>\n",
       "      <td>1</td>\n",
       "      <td>83</td>\n",
       "      <td>most_relevant</td>\n",
       "    </tr>\n",
       "    <tr>\n",
       "      <th>4</th>\n",
       "      <td>Mike glitches are too often. Need to restart t...</td>\n",
       "      <td>1</td>\n",
       "      <td>2996</td>\n",
       "      <td>most_relevant</td>\n",
       "    </tr>\n",
       "  </tbody>\n",
       "</table>\n",
       "</div>"
      ],
      "text/plain": [
       "                                             content  score  thumbsUpCount  \\\n",
       "0  It's a decent game, just really bad implementa...      1            552   \n",
       "1  Pubg is getting worst day by day, need to fix ...      1             73   \n",
       "2  Too many hackers and too many team ups in solo...      1             59   \n",
       "3  Too many hackers and too many team ups in solo...      1             83   \n",
       "4  Mike glitches are too often. Need to restart t...      1           2996   \n",
       "\n",
       "       sortOrder  \n",
       "0  most_relevant  \n",
       "1  most_relevant  \n",
       "2  most_relevant  \n",
       "3  most_relevant  \n",
       "4  most_relevant  "
      ]
     },
     "execution_count": 112,
     "metadata": {},
     "output_type": "execute_result"
    }
   ],
   "source": [
    "new1.head()"
   ]
  },
  {
   "cell_type": "code",
   "execution_count": 113,
   "metadata": {},
   "outputs": [
    {
     "data": {
      "text/plain": [
       "(160000, 4)"
      ]
     },
     "execution_count": 113,
     "metadata": {},
     "output_type": "execute_result"
    }
   ],
   "source": [
    "new1.shape\n"
   ]
  },
  {
   "cell_type": "code",
   "execution_count": 114,
   "metadata": {},
   "outputs": [],
   "source": [
    "neg_rev = new1.copy()"
   ]
  },
  {
   "cell_type": "code",
   "execution_count": 115,
   "metadata": {},
   "outputs": [],
   "source": [
    "neg_rev = neg_rev[neg_rev['score'] <=2]"
   ]
  },
  {
   "cell_type": "code",
   "execution_count": 116,
   "metadata": {},
   "outputs": [
    {
     "data": {
      "text/plain": [
       "(40000, 4)"
      ]
     },
     "execution_count": 116,
     "metadata": {},
     "output_type": "execute_result"
    }
   ],
   "source": [
    "neg_rev.shape"
   ]
  },
  {
   "cell_type": "code",
   "execution_count": 118,
   "metadata": {},
   "outputs": [],
   "source": [
    "neg_rev = neg_rev[neg_rev['thumbsUpCount']>200]"
   ]
  },
  {
   "cell_type": "code",
   "execution_count": 119,
   "metadata": {},
   "outputs": [
    {
     "data": {
      "text/html": [
       "<div>\n",
       "<style scoped>\n",
       "    .dataframe tbody tr th:only-of-type {\n",
       "        vertical-align: middle;\n",
       "    }\n",
       "\n",
       "    .dataframe tbody tr th {\n",
       "        vertical-align: top;\n",
       "    }\n",
       "\n",
       "    .dataframe thead th {\n",
       "        text-align: right;\n",
       "    }\n",
       "</style>\n",
       "<table border=\"1\" class=\"dataframe\">\n",
       "  <thead>\n",
       "    <tr style=\"text-align: right;\">\n",
       "      <th></th>\n",
       "      <th>content</th>\n",
       "      <th>score</th>\n",
       "      <th>thumbsUpCount</th>\n",
       "      <th>sortOrder</th>\n",
       "    </tr>\n",
       "  </thead>\n",
       "  <tbody>\n",
       "    <tr>\n",
       "      <th>0</th>\n",
       "      <td>It's a decent game, just really bad implementa...</td>\n",
       "      <td>1</td>\n",
       "      <td>552</td>\n",
       "      <td>most_relevant</td>\n",
       "    </tr>\n",
       "    <tr>\n",
       "      <th>4</th>\n",
       "      <td>Mike glitches are too often. Need to restart t...</td>\n",
       "      <td>1</td>\n",
       "      <td>2996</td>\n",
       "      <td>most_relevant</td>\n",
       "    </tr>\n",
       "    <tr>\n",
       "      <th>10</th>\n",
       "      <td>Hello makers, this game is amazing from the be...</td>\n",
       "      <td>1</td>\n",
       "      <td>2554</td>\n",
       "      <td>most_relevant</td>\n",
       "    </tr>\n",
       "    <tr>\n",
       "      <th>12</th>\n",
       "      <td>This game has become really very worst now. Be...</td>\n",
       "      <td>1</td>\n",
       "      <td>255</td>\n",
       "      <td>most_relevant</td>\n",
       "    </tr>\n",
       "    <tr>\n",
       "      <th>15</th>\n",
       "      <td>I find it hard to believe that this is a \"fair...</td>\n",
       "      <td>1</td>\n",
       "      <td>413</td>\n",
       "      <td>most_relevant</td>\n",
       "    </tr>\n",
       "    <tr>\n",
       "      <th>...</th>\n",
       "      <td>...</td>\n",
       "      <td>...</td>\n",
       "      <td>...</td>\n",
       "      <td>...</td>\n",
       "    </tr>\n",
       "    <tr>\n",
       "      <th>29906</th>\n",
       "      <td>Great game, TERRIBLE customer service. It is n...</td>\n",
       "      <td>2</td>\n",
       "      <td>264</td>\n",
       "      <td>most_relevant</td>\n",
       "    </tr>\n",
       "    <tr>\n",
       "      <th>29913</th>\n",
       "      <td>I really hate these problems: microphone isn't...</td>\n",
       "      <td>2</td>\n",
       "      <td>288</td>\n",
       "      <td>most_relevant</td>\n",
       "    </tr>\n",
       "    <tr>\n",
       "      <th>29924</th>\n",
       "      <td>Before the update, my game was doing great, bu...</td>\n",
       "      <td>2</td>\n",
       "      <td>520</td>\n",
       "      <td>most_relevant</td>\n",
       "    </tr>\n",
       "    <tr>\n",
       "      <th>29936</th>\n",
       "      <td>It is a good game but after a match my mic won...</td>\n",
       "      <td>2</td>\n",
       "      <td>302</td>\n",
       "      <td>most_relevant</td>\n",
       "    </tr>\n",
       "    <tr>\n",
       "      <th>29988</th>\n",
       "      <td>I'm facing a lot of glitches. The game crashes...</td>\n",
       "      <td>2</td>\n",
       "      <td>854</td>\n",
       "      <td>most_relevant</td>\n",
       "    </tr>\n",
       "  </tbody>\n",
       "</table>\n",
       "<p>2200 rows × 4 columns</p>\n",
       "</div>"
      ],
      "text/plain": [
       "                                                 content  score  \\\n",
       "0      It's a decent game, just really bad implementa...      1   \n",
       "4      Mike glitches are too often. Need to restart t...      1   \n",
       "10     Hello makers, this game is amazing from the be...      1   \n",
       "12     This game has become really very worst now. Be...      1   \n",
       "15     I find it hard to believe that this is a \"fair...      1   \n",
       "...                                                  ...    ...   \n",
       "29906  Great game, TERRIBLE customer service. It is n...      2   \n",
       "29913  I really hate these problems: microphone isn't...      2   \n",
       "29924  Before the update, my game was doing great, bu...      2   \n",
       "29936  It is a good game but after a match my mic won...      2   \n",
       "29988  I'm facing a lot of glitches. The game crashes...      2   \n",
       "\n",
       "       thumbsUpCount      sortOrder  \n",
       "0                552  most_relevant  \n",
       "4               2996  most_relevant  \n",
       "10              2554  most_relevant  \n",
       "12               255  most_relevant  \n",
       "15               413  most_relevant  \n",
       "...              ...            ...  \n",
       "29906            264  most_relevant  \n",
       "29913            288  most_relevant  \n",
       "29924            520  most_relevant  \n",
       "29936            302  most_relevant  \n",
       "29988            854  most_relevant  \n",
       "\n",
       "[2200 rows x 4 columns]"
      ]
     },
     "execution_count": 119,
     "metadata": {},
     "output_type": "execute_result"
    }
   ],
   "source": [
    "neg_rev"
   ]
  },
  {
   "cell_type": "code",
   "execution_count": 120,
   "metadata": {},
   "outputs": [],
   "source": [
    "neg_rev.to_csv(r'/Users/abhijeet/Documents/Sentiment Analysis/negative_reviews_pubg.csv', index=None, header=True)"
   ]
  },
  {
   "cell_type": "code",
   "execution_count": 121,
   "metadata": {},
   "outputs": [
    {
     "data": {
      "text/plain": [
       "(2200, 4)"
      ]
     },
     "execution_count": 121,
     "metadata": {},
     "output_type": "execute_result"
    }
   ],
   "source": [
    "neg_rev.shape"
   ]
  },
  {
   "cell_type": "code",
   "execution_count": 127,
   "metadata": {},
   "outputs": [
    {
     "data": {
      "text/plain": [
       "(22, 4)"
      ]
     },
     "execution_count": 127,
     "metadata": {},
     "output_type": "execute_result"
    }
   ],
   "source": [
    "neg_rev.drop_duplicates(keep ='first').shape"
   ]
  },
  {
   "cell_type": "code",
   "execution_count": 166,
   "metadata": {},
   "outputs": [],
   "source": [
    "rev = pd.read_csv('/Users/abhijeet/Documents/Sentiment Analysis/negative_reviews_pubg.csv')"
   ]
  },
  {
   "cell_type": "code",
   "execution_count": 167,
   "metadata": {},
   "outputs": [
    {
     "data": {
      "text/html": [
       "<div>\n",
       "<style scoped>\n",
       "    .dataframe tbody tr th:only-of-type {\n",
       "        vertical-align: middle;\n",
       "    }\n",
       "\n",
       "    .dataframe tbody tr th {\n",
       "        vertical-align: top;\n",
       "    }\n",
       "\n",
       "    .dataframe thead th {\n",
       "        text-align: right;\n",
       "    }\n",
       "</style>\n",
       "<table border=\"1\" class=\"dataframe\">\n",
       "  <thead>\n",
       "    <tr style=\"text-align: right;\">\n",
       "      <th></th>\n",
       "      <th>content</th>\n",
       "      <th>score</th>\n",
       "      <th>thumbsUpCount</th>\n",
       "      <th>sortOrder</th>\n",
       "    </tr>\n",
       "  </thead>\n",
       "  <tbody>\n",
       "    <tr>\n",
       "      <th>0</th>\n",
       "      <td>It's a decent game, just really bad implementa...</td>\n",
       "      <td>1</td>\n",
       "      <td>552</td>\n",
       "      <td>most_relevant</td>\n",
       "    </tr>\n",
       "    <tr>\n",
       "      <th>1</th>\n",
       "      <td>Pubg is getting worst day by day, need to fix ...</td>\n",
       "      <td>1</td>\n",
       "      <td>73</td>\n",
       "      <td>most_relevant</td>\n",
       "    </tr>\n",
       "    <tr>\n",
       "      <th>2</th>\n",
       "      <td>Too many hackers and too many team ups in solo...</td>\n",
       "      <td>1</td>\n",
       "      <td>59</td>\n",
       "      <td>most_relevant</td>\n",
       "    </tr>\n",
       "    <tr>\n",
       "      <th>3</th>\n",
       "      <td>Too many hackers and too many team ups in solo...</td>\n",
       "      <td>1</td>\n",
       "      <td>83</td>\n",
       "      <td>most_relevant</td>\n",
       "    </tr>\n",
       "    <tr>\n",
       "      <th>4</th>\n",
       "      <td>Mike glitches are too often. Need to restart t...</td>\n",
       "      <td>1</td>\n",
       "      <td>2996</td>\n",
       "      <td>most_relevant</td>\n",
       "    </tr>\n",
       "    <tr>\n",
       "      <th>...</th>\n",
       "      <td>...</td>\n",
       "      <td>...</td>\n",
       "      <td>...</td>\n",
       "      <td>...</td>\n",
       "    </tr>\n",
       "    <tr>\n",
       "      <th>1195</th>\n",
       "      <td>Sabka bap</td>\n",
       "      <td>5</td>\n",
       "      <td>0</td>\n",
       "      <td>newest</td>\n",
       "    </tr>\n",
       "    <tr>\n",
       "      <th>1196</th>\n",
       "      <td>Pubg lovers</td>\n",
       "      <td>5</td>\n",
       "      <td>0</td>\n",
       "      <td>newest</td>\n",
       "    </tr>\n",
       "    <tr>\n",
       "      <th>1197</th>\n",
       "      <td>Good morning🌞🌞🌞🌞</td>\n",
       "      <td>5</td>\n",
       "      <td>0</td>\n",
       "      <td>newest</td>\n",
       "    </tr>\n",
       "    <tr>\n",
       "      <th>1198</th>\n",
       "      <td>Nice</td>\n",
       "      <td>5</td>\n",
       "      <td>0</td>\n",
       "      <td>newest</td>\n",
       "    </tr>\n",
       "    <tr>\n",
       "      <th>1199</th>\n",
       "      <td>That is tha best game in all game.l like so much.</td>\n",
       "      <td>5</td>\n",
       "      <td>0</td>\n",
       "      <td>newest</td>\n",
       "    </tr>\n",
       "  </tbody>\n",
       "</table>\n",
       "<p>1200 rows × 4 columns</p>\n",
       "</div>"
      ],
      "text/plain": [
       "                                                content  score  thumbsUpCount  \\\n",
       "0     It's a decent game, just really bad implementa...      1            552   \n",
       "1     Pubg is getting worst day by day, need to fix ...      1             73   \n",
       "2     Too many hackers and too many team ups in solo...      1             59   \n",
       "3     Too many hackers and too many team ups in solo...      1             83   \n",
       "4     Mike glitches are too often. Need to restart t...      1           2996   \n",
       "...                                                 ...    ...            ...   \n",
       "1195                                          Sabka bap      5              0   \n",
       "1196                                        Pubg lovers      5              0   \n",
       "1197                                   Good morning🌞🌞🌞🌞      5              0   \n",
       "1198                                               Nice      5              0   \n",
       "1199  That is tha best game in all game.l like so much.      5              0   \n",
       "\n",
       "          sortOrder  \n",
       "0     most_relevant  \n",
       "1     most_relevant  \n",
       "2     most_relevant  \n",
       "3     most_relevant  \n",
       "4     most_relevant  \n",
       "...             ...  \n",
       "1195         newest  \n",
       "1196         newest  \n",
       "1197         newest  \n",
       "1198         newest  \n",
       "1199         newest  \n",
       "\n",
       "[1200 rows x 4 columns]"
      ]
     },
     "execution_count": 167,
     "metadata": {},
     "output_type": "execute_result"
    }
   ],
   "source": [
    "rev"
   ]
  },
  {
   "cell_type": "code",
   "execution_count": null,
   "metadata": {},
   "outputs": [],
   "source": []
  }
 ],
 "metadata": {
  "kernelspec": {
   "display_name": "Python 3",
   "language": "python",
   "name": "python3"
  },
  "language_info": {
   "codemirror_mode": {
    "name": "ipython",
    "version": 3
   },
   "file_extension": ".py",
   "mimetype": "text/x-python",
   "name": "python",
   "nbconvert_exporter": "python",
   "pygments_lexer": "ipython3",
   "version": "3.7.6"
  }
 },
 "nbformat": 4,
 "nbformat_minor": 4
}
