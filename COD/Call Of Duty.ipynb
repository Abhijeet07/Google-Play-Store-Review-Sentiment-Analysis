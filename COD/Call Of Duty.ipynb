{
 "cells": [
  {
   "cell_type": "code",
   "execution_count": 1,
   "metadata": {},
   "outputs": [],
   "source": [
    "import pandas as pd\n",
    "import numpy as np"
   ]
  },
  {
   "cell_type": "code",
   "execution_count": 2,
   "metadata": {},
   "outputs": [],
   "source": [
    "data = pd.read_csv('/Users/abhijeet/Documents/Review Sentiment Analysis/COD/reviews_cod.csv')"
   ]
  },
  {
   "cell_type": "code",
   "execution_count": 3,
   "metadata": {
    "scrolled": true
   },
   "outputs": [
    {
     "data": {
      "text/html": [
       "<div>\n",
       "<style scoped>\n",
       "    .dataframe tbody tr th:only-of-type {\n",
       "        vertical-align: middle;\n",
       "    }\n",
       "\n",
       "    .dataframe tbody tr th {\n",
       "        vertical-align: top;\n",
       "    }\n",
       "\n",
       "    .dataframe thead th {\n",
       "        text-align: right;\n",
       "    }\n",
       "</style>\n",
       "<table border=\"1\" class=\"dataframe\">\n",
       "  <thead>\n",
       "    <tr style=\"text-align: right;\">\n",
       "      <th></th>\n",
       "      <th>content</th>\n",
       "      <th>score</th>\n",
       "    </tr>\n",
       "  </thead>\n",
       "  <tbody>\n",
       "    <tr>\n",
       "      <th>0</th>\n",
       "      <td>Changing my last review. Since the last update...</td>\n",
       "      <td>1</td>\n",
       "    </tr>\n",
       "    <tr>\n",
       "      <th>1</th>\n",
       "      <td>I loved the game but my screen keeps going bla...</td>\n",
       "      <td>1</td>\n",
       "    </tr>\n",
       "    <tr>\n",
       "      <th>2</th>\n",
       "      <td>Ugh ..I'm so frustrated . I can't play the gam...</td>\n",
       "      <td>1</td>\n",
       "    </tr>\n",
       "    <tr>\n",
       "      <th>3</th>\n",
       "      <td>Stop spamming me with **** I've seen 1000 the ...</td>\n",
       "      <td>1</td>\n",
       "    </tr>\n",
       "    <tr>\n",
       "      <th>4</th>\n",
       "      <td>No matter what you try, on any android device ...</td>\n",
       "      <td>1</td>\n",
       "    </tr>\n",
       "    <tr>\n",
       "      <th>...</th>\n",
       "      <td>...</td>\n",
       "      <td>...</td>\n",
       "    </tr>\n",
       "    <tr>\n",
       "      <th>1182</th>\n",
       "      <td>Good graphics and excellent gameplayawesome ga...</td>\n",
       "      <td>5</td>\n",
       "    </tr>\n",
       "    <tr>\n",
       "      <th>1183</th>\n",
       "      <td>❤ lovely❤</td>\n",
       "      <td>5</td>\n",
       "    </tr>\n",
       "    <tr>\n",
       "      <th>1184</th>\n",
       "      <td>So far the game had been very good graphics an...</td>\n",
       "      <td>5</td>\n",
       "    </tr>\n",
       "    <tr>\n",
       "      <th>1185</th>\n",
       "      <td>Speed, action, zombies, battle royale, arms, h...</td>\n",
       "      <td>5</td>\n",
       "    </tr>\n",
       "    <tr>\n",
       "      <th>1186</th>\n",
       "      <td>There is mic glitch problem which used to happ...</td>\n",
       "      <td>5</td>\n",
       "    </tr>\n",
       "  </tbody>\n",
       "</table>\n",
       "<p>1187 rows × 2 columns</p>\n",
       "</div>"
      ],
      "text/plain": [
       "                                                content  score\n",
       "0     Changing my last review. Since the last update...      1\n",
       "1     I loved the game but my screen keeps going bla...      1\n",
       "2     Ugh ..I'm so frustrated . I can't play the gam...      1\n",
       "3     Stop spamming me with **** I've seen 1000 the ...      1\n",
       "4     No matter what you try, on any android device ...      1\n",
       "...                                                 ...    ...\n",
       "1182  Good graphics and excellent gameplayawesome ga...      5\n",
       "1183                                          ❤ lovely❤      5\n",
       "1184  So far the game had been very good graphics an...      5\n",
       "1185  Speed, action, zombies, battle royale, arms, h...      5\n",
       "1186  There is mic glitch problem which used to happ...      5\n",
       "\n",
       "[1187 rows x 2 columns]"
      ]
     },
     "execution_count": 3,
     "metadata": {},
     "output_type": "execute_result"
    }
   ],
   "source": [
    "data\n"
   ]
  },
  {
   "cell_type": "code",
   "execution_count": 4,
   "metadata": {},
   "outputs": [],
   "source": [
    "data.dropna(inplace = True)"
   ]
  },
  {
   "cell_type": "code",
   "execution_count": 5,
   "metadata": {},
   "outputs": [
    {
     "data": {
      "text/html": [
       "<div>\n",
       "<style scoped>\n",
       "    .dataframe tbody tr th:only-of-type {\n",
       "        vertical-align: middle;\n",
       "    }\n",
       "\n",
       "    .dataframe tbody tr th {\n",
       "        vertical-align: top;\n",
       "    }\n",
       "\n",
       "    .dataframe thead th {\n",
       "        text-align: right;\n",
       "    }\n",
       "</style>\n",
       "<table border=\"1\" class=\"dataframe\">\n",
       "  <thead>\n",
       "    <tr style=\"text-align: right;\">\n",
       "      <th></th>\n",
       "      <th>content</th>\n",
       "      <th>score</th>\n",
       "    </tr>\n",
       "  </thead>\n",
       "  <tbody>\n",
       "    <tr>\n",
       "      <th>0</th>\n",
       "      <td>Changing my last review. Since the last update...</td>\n",
       "      <td>1</td>\n",
       "    </tr>\n",
       "    <tr>\n",
       "      <th>1</th>\n",
       "      <td>I loved the game but my screen keeps going bla...</td>\n",
       "      <td>1</td>\n",
       "    </tr>\n",
       "    <tr>\n",
       "      <th>2</th>\n",
       "      <td>Ugh ..I'm so frustrated . I can't play the gam...</td>\n",
       "      <td>1</td>\n",
       "    </tr>\n",
       "    <tr>\n",
       "      <th>3</th>\n",
       "      <td>Stop spamming me with **** I've seen 1000 the ...</td>\n",
       "      <td>1</td>\n",
       "    </tr>\n",
       "    <tr>\n",
       "      <th>4</th>\n",
       "      <td>No matter what you try, on any android device ...</td>\n",
       "      <td>1</td>\n",
       "    </tr>\n",
       "    <tr>\n",
       "      <th>...</th>\n",
       "      <td>...</td>\n",
       "      <td>...</td>\n",
       "    </tr>\n",
       "    <tr>\n",
       "      <th>1182</th>\n",
       "      <td>Good graphics and excellent gameplayawesome ga...</td>\n",
       "      <td>5</td>\n",
       "    </tr>\n",
       "    <tr>\n",
       "      <th>1183</th>\n",
       "      <td>❤ lovely❤</td>\n",
       "      <td>5</td>\n",
       "    </tr>\n",
       "    <tr>\n",
       "      <th>1184</th>\n",
       "      <td>So far the game had been very good graphics an...</td>\n",
       "      <td>5</td>\n",
       "    </tr>\n",
       "    <tr>\n",
       "      <th>1185</th>\n",
       "      <td>Speed, action, zombies, battle royale, arms, h...</td>\n",
       "      <td>5</td>\n",
       "    </tr>\n",
       "    <tr>\n",
       "      <th>1186</th>\n",
       "      <td>There is mic glitch problem which used to happ...</td>\n",
       "      <td>5</td>\n",
       "    </tr>\n",
       "  </tbody>\n",
       "</table>\n",
       "<p>1187 rows × 2 columns</p>\n",
       "</div>"
      ],
      "text/plain": [
       "                                                content  score\n",
       "0     Changing my last review. Since the last update...      1\n",
       "1     I loved the game but my screen keeps going bla...      1\n",
       "2     Ugh ..I'm so frustrated . I can't play the gam...      1\n",
       "3     Stop spamming me with **** I've seen 1000 the ...      1\n",
       "4     No matter what you try, on any android device ...      1\n",
       "...                                                 ...    ...\n",
       "1182  Good graphics and excellent gameplayawesome ga...      5\n",
       "1183                                          ❤ lovely❤      5\n",
       "1184  So far the game had been very good graphics an...      5\n",
       "1185  Speed, action, zombies, battle royale, arms, h...      5\n",
       "1186  There is mic glitch problem which used to happ...      5\n",
       "\n",
       "[1187 rows x 2 columns]"
      ]
     },
     "execution_count": 5,
     "metadata": {},
     "output_type": "execute_result"
    }
   ],
   "source": [
    "data"
   ]
  },
  {
   "cell_type": "code",
   "execution_count": 6,
   "metadata": {},
   "outputs": [],
   "source": [
    "clean= []\n",
    "data1 = np.array(data)\n",
    "for i in range(0 , len(data1)):\n",
    "    w = data1[i][0]\n",
    "#     if len(w) > 20 :\n",
    "#         clean.append(data1[i])\n",
    "#     else:\n",
    "#         print(data1[i])\n",
    "    clean.append(data1[i])    "
   ]
  },   
  {
   "cell_type": "code",
   "execution_count": 8,
   "metadata": {},
   "outputs": [],
   "source": [
    "data1 = pd.DataFrame(clean,columns = [\"content\",\"score\"])"
   ]
  },
  {
   "cell_type": "code",
   "execution_count": 9,
   "metadata": {},
   "outputs": [],
   "source": [
    "#data1.to_csv(r'/Users/abhijeet/Documents/Review Sentiment Analysis/PUBG/clean_reviews.csv', index=False) "
   ]
  },
  {
   "cell_type": "code",
   "execution_count": 10,
   "metadata": {},
   "outputs": [
    {
     "data": {
      "text/plain": [
       "<bound method NDFrame.head of                                                 content  score\n",
       "0     Changing my last review. Since the last update...      1\n",
       "1     I loved the game but my screen keeps going bla...      1\n",
       "2     Ugh ..I'm so frustrated . I can't play the gam...      1\n",
       "3     Stop spamming me with **** I've seen 1000 the ...      1\n",
       "4     No matter what you try, on any android device ...      1\n",
       "...                                                 ...    ...\n",
       "1182  Good graphics and excellent gameplayawesome ga...      5\n",
       "1183                                          ❤ lovely❤      5\n",
       "1184  So far the game had been very good graphics an...      5\n",
       "1185  Speed, action, zombies, battle royale, arms, h...      5\n",
       "1186  There is mic glitch problem which used to happ...      5\n",
       "\n",
       "[1187 rows x 2 columns]>"
      ]
     },
     "execution_count": 10,
     "metadata": {},
     "output_type": "execute_result"
    }
   ],
   "source": [
    "data1.head"
   ]
  },
  {
   "cell_type": "code",
   "execution_count": 11,
   "metadata": {},
   "outputs": [
    {
     "data": {
      "text/plain": [
       "<bound method NDFrame.head of                                                 content  score\n",
       "0     Changing my last review. Since the last update...      1\n",
       "1     I loved the game but my screen keeps going bla...      1\n",
       "2     Ugh ..I'm so frustrated . I can't play the gam...      1\n",
       "3     Stop spamming me with **** I've seen 1000 the ...      1\n",
       "4     No matter what you try, on any android device ...      1\n",
       "...                                                 ...    ...\n",
       "1182  Good graphics and excellent gameplayawesome ga...      5\n",
       "1183                                          ❤ lovely❤      5\n",
       "1184  So far the game had been very good graphics an...      5\n",
       "1185  Speed, action, zombies, battle royale, arms, h...      5\n",
       "1186  There is mic glitch problem which used to happ...      5\n",
       "\n",
       "[1187 rows x 2 columns]>"
      ]
     },
     "execution_count": 11,
     "metadata": {},
     "output_type": "execute_result"
    }
   ],
   "source": [
    "data.head"
   ]
  },
  {
   "cell_type": "code",
   "execution_count": 12,
   "metadata": {},
   "outputs": [],
   "source": [
    "import nltk\n",
    "from nltk import pos_tag\n",
    "from nltk.tokenize import word_tokenize\n",
    "from nltk.stem import WordNetLemmatizer\n",
    "from nltk.corpus import wordnet\n",
    "import string"
   ]
  },
  {
   "cell_type": "code",
   "execution_count": 13,
   "metadata": {},
   "outputs": [],
   "source": [
    "def get_pos_tag(tag):\n",
    "    if tag.startswith('J'):\n",
    "        return wordnet.ADJ\n",
    "    elif tag.startswith('R'):\n",
    "        return wordnet.ADV\n",
    "    elif tag.startswith('V'):\n",
    "        return wordnet.VERB\n",
    "    elif tag.startswith('N'):\n",
    "        return wordnet.NOUN\n",
    "    else:\n",
    "        return wordnet.NOUN"
   ]
  },
  {
   "cell_type": "code",
   "execution_count": 14,
   "metadata": {},
   "outputs": [],
   "source": [
    "lemmatizer = WordNetLemmatizer()\n",
    "\n",
    "def deEmojify(inputString):\n",
    "    return inputString.encode('ascii', 'ignore').decode('ascii')\n",
    "\n",
    "def removeNumbers(inputString):\n",
    "    for ch in inputString:\n",
    "        if(ch>='0' and ch<='9'):\n",
    "            return False\n",
    "    return True\n",
    "#'mobile','game','play'\n",
    "#'pubg','player','download','problem','game','play','time','good','',' '\n",
    "# + ['pubg','player','download','issue','problem','',' '])\n",
    "from nltk.corpus import stopwords\n",
    "stop = set(stopwords.words('english') +['','game','activision','play','player'])\n",
    "punctuations = list(string.punctuation)\n",
    "stop.update(punctuations)\n",
    "\n",
    "def Clean_Reviews(rev):\n",
    "    #print(rev)\n",
    "    rev=word_tokenize(rev)\n",
    "   # output_rev = []\n",
    "    string = \"\"\n",
    "    for word in rev:\n",
    "        word = deEmojify(word)\n",
    "        if word.lower() not in stop and removeNumbers(word) == True:\n",
    "            pos = pos_tag([word])\n",
    "            clean_rev = lemmatizer.lemmatize( word , pos = get_pos_tag(pos[0][1]))\n",
    "            #print(clean_rev)\n",
    "            string +=clean_rev.lower()\n",
    "            string +=' '\n",
    "    return string.strip()"
   ]
  },
  {
   "cell_type": "code",
   "execution_count": 15,
   "metadata": {},
   "outputs": [
    {
     "data": {
      "text/plain": [
       "1187"
      ]
     },
     "execution_count": 15,
     "metadata": {},
     "output_type": "execute_result"
    }
   ],
   "source": [
    "inp = np.array(data1['content'])\n",
    "len(data1)"
   ]
  },
  {
   "cell_type": "code",
   "execution_count": 16,
   "metadata": {},
   "outputs": [
    {
     "data": {
      "text/plain": [
       "\"Ugh ..I'm so frustrated . I can't play the game after the new update . The  optimisation of game is pretty bad AT ALL!! because of the frame drops ... My device is on the lower end side .but it was running fine until now . I might even have to drop out of the tournament because of this and that makes me so sad bro . Please !! And I mean it please !! Give us better device optimization ... I want it more than new content ..what use will that be if I can't play the game ..I don't want to quit\""
      ]
     },
     "execution_count": 16,
     "metadata": {},
     "output_type": "execute_result"
    }
   ],
   "source": [
    "inp[2]"
   ]
  },
  {
   "cell_type": "code",
   "execution_count": 17,
   "metadata": {},
   "outputs": [],
   "source": [
    "for i in range(len(inp)):\n",
    "    new_doc=''\n",
    "    for j in range(len(inp[i])):\n",
    "        if not inp[i][j] in string.punctuation:\n",
    "            new_doc+=(inp[i][j])\n",
    "        else:\n",
    "            new_doc+=' '\n",
    "    new_doc.strip()\n",
    "    inp[i]=new_doc.strip()"
   ]
  },
  {
   "cell_type": "code",
   "execution_count": 18,
   "metadata": {},
   "outputs": [
    {
     "data": {
      "text/plain": [
       "'Changing my last review  Since the last update  It s gotten worse  Between the horrible lag  To the players with auto aim  bottomless magazines  super speed  and bulletproof vest  This game has gone from bad  to worse  Seems like this is an issue with every new season  If you re gonna play  Best to wait for them to patch the new bugs  Its what  season 6 or 7  And still the same issues with each new season  They continue to screw up over and over again and keep their jobs'"
      ]
     },
     "execution_count": 18,
     "metadata": {},
     "output_type": "execute_result"
    }
   ],
   "source": [
    "inp[0]"
   ]
  },
  {
   "cell_type": "code",
   "execution_count": 19,
   "metadata": {},
   "outputs": [],
   "source": [
    "clean_in = np.array([Clean_Reviews(i) for i in inp])"
   ]
  },
  {
   "cell_type": "code",
   "execution_count": 20,
   "metadata": {},
   "outputs": [
    {
     "data": {
      "text/plain": [
       "'changing last review since last update gotten bad horrible lag player auto aim bottomless magazine super speed bulletproof vest go bad bad seems like issue every new season gon na best wait patch new bug season still issue new season continue screw keep job'"
      ]
     },
     "execution_count": 20,
     "metadata": {},
     "output_type": "execute_result"
    }
   ],
   "source": [
    "clean_in[0]"
   ]
  },
  {
   "cell_type": "code",
   "execution_count": 21,
   "metadata": {},
   "outputs": [],
   "source": [
    "dependent = np.array(data1['score'])\n",
    "sentiment = ['negative','negative','neutral','positive','positive','positive']\n",
    "clean_out=np.array([sentiment[int(rating)] for rating in dependent])"
   ]
  },
  {
   "cell_type": "code",
   "execution_count": 22,
   "metadata": {},
   "outputs": [
    {
     "data": {
      "text/plain": [
       "array(['negative', 'negative', 'negative', ..., 'positive', 'positive',\n",
       "       'positive'], dtype='<U8')"
      ]
     },
     "execution_count": 22,
     "metadata": {},
     "output_type": "execute_result"
    }
   ],
   "source": [
    "clean_out"
   ]
  },
  {
   "cell_type": "code",
   "execution_count": 23,
   "metadata": {},
   "outputs": [],
   "source": [
    "from sklearn.model_selection import train_test_split\n",
    "x_train,x_test,Y_train,Y_test = train_test_split(clean_in , clean_out ,test_size=0.3)"
   ]
  },
  {
   "cell_type": "code",
   "execution_count": 24,
   "metadata": {},
   "outputs": [
    {
     "name": "stdout",
     "output_type": "stream",
     "text": [
      "830\n",
      "357\n",
      "830\n",
      "357\n"
     ]
    }
   ],
   "source": [
    "print(len(x_train))\n",
    "print(len(x_test))\n",
    "print(len(Y_train))\n",
    "print(len(Y_test))"
   ]
  },
  {
   "cell_type": "code",
   "execution_count": 25,
   "metadata": {},
   "outputs": [],
   "source": [
    "from sklearn.feature_extraction.text import TfidfVectorizer\n",
    "vec=TfidfVectorizer(max_features=1000,max_df=0.8,min_df=0.1,ngram_range=(1,3),)"
   ]
  },
  {
   "cell_type": "code",
   "execution_count": 26,
   "metadata": {},
   "outputs": [
    {
     "data": {
      "text/plain": [
       "TfidfVectorizer(analyzer='word', binary=False, decode_error='strict',\n",
       "                dtype=<class 'numpy.float64'>, encoding='utf-8',\n",
       "                input='content', lowercase=True, max_df=0.8, max_features=1000,\n",
       "                min_df=0.1, ngram_range=(1, 3), norm='l2', preprocessor=None,\n",
       "                smooth_idf=True, stop_words=None, strip_accents=None,\n",
       "                sublinear_tf=False, token_pattern='(?u)\\\\b\\\\w\\\\w+\\\\b',\n",
       "                tokenizer=None, use_idf=True, vocabulary=None)"
      ]
     },
     "execution_count": 26,
     "metadata": {},
     "output_type": "execute_result"
    }
   ],
   "source": [
    "vec.fit(x_train)"
   ]
  },
  {
   "cell_type": "code",
   "execution_count": 27,
   "metadata": {},
   "outputs": [],
   "source": [
    "x_train=vec.transform(x_train)\n",
    "x_test=vec.transform(x_test)"
   ]
  },
  {
   "cell_type": "code",
   "execution_count": 28,
   "metadata": {},
   "outputs": [],
   "source": [
    "from sklearn.naive_bayes import MultinomialNB,GaussianNB, BernoulliNB\n",
    "from sklearn.metrics import classification_report"
   ]
  },
  {
   "cell_type": "code",
   "execution_count": 29,
   "metadata": {},
   "outputs": [
    {
     "data": {
      "text/plain": [
       "0.7086834733893558"
      ]
     },
     "execution_count": 29,
     "metadata": {},
     "output_type": "execute_result"
    }
   ],
   "source": [
    "multinomial_Classifier = MultinomialNB()\n",
    "multinomial_Classifier.fit(x_train,Y_train)\n",
    "multinomial_Classifier.score(x_test,Y_test)"
   ]
  },
  {
   "cell_type": "code",
   "execution_count": 30,
   "metadata": {},
   "outputs": [
    {
     "data": {
      "text/plain": [
       "array(['negative', 'neutral', 'positive'], dtype='<U8')"
      ]
     },
     "execution_count": 30,
     "metadata": {},
     "output_type": "execute_result"
    }
   ],
   "source": [
    "multinomial_Classifier.classes_"
   ]
  },
  {
   "cell_type": "code",
   "execution_count": 31,
   "metadata": {},
   "outputs": [
    {
     "name": "stdout",
     "output_type": "stream",
     "text": [
      "              precision    recall  f1-score   support\n",
      "\n",
      "    negative       0.53      0.19      0.28        53\n",
      "     neutral       0.80      0.12      0.21        66\n",
      "    positive       0.72      0.99      0.83       238\n",
      "\n",
      "    accuracy                           0.71       357\n",
      "   macro avg       0.68      0.43      0.44       357\n",
      "weighted avg       0.70      0.71      0.63       357\n",
      "\n",
      "Accuracy =  70.86834733893558 %\n"
     ]
    }
   ],
   "source": [
    "Y_pred = multinomial_Classifier.predict(x_test)\n",
    "print(classification_report(Y_test,Y_pred))\n",
    "print('Accuracy = ', multinomial_Classifier.score(x_test,Y_test)*100,'%')"
   ]
  },
  {
   "cell_type": "code",
   "execution_count": 32,
   "metadata": {},
   "outputs": [
    {
     "data": {
      "text/plain": [
       "0.742296918767507"
      ]
     },
     "execution_count": 32,
     "metadata": {},
     "output_type": "execute_result"
    }
   ],
   "source": [
    "bernoulli_classifier=BernoulliNB()\n",
    "bernoulli_classifier.fit(x_train.todense(),Y_train)\n",
    "bernoulli_classifier.score(x_test.todense(),Y_test)"
   ]
  },
  {
   "cell_type": "code",
   "execution_count": 33,
   "metadata": {},
   "outputs": [],
   "source": [
    "y_pred = bernoulli_classifier.predict(x_test.todense())\n"
   ]
  },
  {
   "cell_type": "code",
   "execution_count": 34,
   "metadata": {},
   "outputs": [
    {
     "name": "stdout",
     "output_type": "stream",
     "text": [
      "              precision    recall  f1-score   support\n",
      "\n",
      "    negative       0.53      0.19      0.28        53\n",
      "     neutral       0.80      0.12      0.21        66\n",
      "    positive       0.72      0.99      0.83       238\n",
      "\n",
      "    accuracy                           0.71       357\n",
      "   macro avg       0.68      0.43      0.44       357\n",
      "weighted avg       0.70      0.71      0.63       357\n",
      "\n",
      "Accuracy =  74.2296918767507 %\n"
     ]
    }
   ],
   "source": [
    "print(classification_report(Y_test,Y_pred))\n",
    "print('Accuracy = ', bernoulli_classifier.score(x_test.todense(),Y_test)*100,'%')"
   ]
  },
  {
   "cell_type": "code",
   "execution_count": 35,
   "metadata": {},
   "outputs": [
    {
     "data": {
      "text/plain": [
       "0.5882352941176471"
      ]
     },
     "execution_count": 35,
     "metadata": {},
     "output_type": "execute_result"
    }
   ],
   "source": [
    "gaussian_classifier = GaussianNB()\n",
    "gaussian_classifier.fit(x_train.todense(), Y_train)\n",
    "gaussian_classifier.score(x_test.todense(), Y_test)"
   ]
  },
  {
   "cell_type": "code",
   "execution_count": 36,
   "metadata": {},
   "outputs": [],
   "source": [
    "y_pred = gaussian_classifier.predict(x_test.todense())"
   ]
  },
  {
   "cell_type": "code",
   "execution_count": 37,
   "metadata": {},
   "outputs": [
    {
     "name": "stdout",
     "output_type": "stream",
     "text": [
      "              precision    recall  f1-score   support\n",
      "\n",
      "    negative       0.53      0.19      0.28        53\n",
      "     neutral       0.80      0.12      0.21        66\n",
      "    positive       0.72      0.99      0.83       238\n",
      "\n",
      "    accuracy                           0.71       357\n",
      "   macro avg       0.68      0.43      0.44       357\n",
      "weighted avg       0.70      0.71      0.63       357\n",
      "\n",
      "Accuracy =  58.82352941176471 %\n"
     ]
    }
   ],
   "source": [
    "print(classification_report(Y_test,Y_pred))\n",
    "print('Accuracy = ', gaussian_classifier.score(x_test.todense(),Y_test)*100,'%')"
   ]
  },
  {
   "cell_type": "code",
   "execution_count": 38,
   "metadata": {},
   "outputs": [],
   "source": [
    "from sklearn.linear_model import LogisticRegression"
   ]
  },
  {
   "cell_type": "code",
   "execution_count": 39,
   "metadata": {},
   "outputs": [
    {
     "data": {
      "text/plain": [
       "0.7450980392156863"
      ]
     },
     "execution_count": 39,
     "metadata": {},
     "output_type": "execute_result"
    }
   ],
   "source": [
    "logistic_regressor = LogisticRegression()\n",
    "logistic_regressor.fit(x_train,Y_train)\n",
    "logistic_regressor.score(x_test,Y_test)"
   ]
  },
  {
   "cell_type": "code",
   "execution_count": 40,
   "metadata": {},
   "outputs": [],
   "source": [
    "y_pred = logistic_regressor.predict(x_test)"
   ]
  },
  {
   "cell_type": "code",
   "execution_count": 41,
   "metadata": {},
   "outputs": [
    {
     "name": "stdout",
     "output_type": "stream",
     "text": [
      "              precision    recall  f1-score   support\n",
      "\n",
      "    negative       0.53      0.19      0.28        53\n",
      "     neutral       0.80      0.12      0.21        66\n",
      "    positive       0.72      0.99      0.83       238\n",
      "\n",
      "    accuracy                           0.71       357\n",
      "   macro avg       0.68      0.43      0.44       357\n",
      "weighted avg       0.70      0.71      0.63       357\n",
      "\n",
      "Accuracy =  74.50980392156863 %\n"
     ]
    }
   ],
   "source": [
    "print(classification_report(Y_test,Y_pred))\n",
    "print('Accuracy = ', logistic_regressor.score(x_test.todense(),Y_test)*100,'%')"
   ]
  },
  {
   "cell_type": "code",
   "execution_count": 42,
   "metadata": {},
   "outputs": [],
   "source": [
    "from sklearn.ensemble import RandomForestClassifier"
   ]
  },
  {
   "cell_type": "code",
   "execution_count": 43,
   "metadata": {},
   "outputs": [
    {
     "data": {
      "text/plain": [
       "0.7366946778711485"
      ]
     },
     "execution_count": 43,
     "metadata": {},
     "output_type": "execute_result"
    }
   ],
   "source": [
    "rf_classifier = RandomForestClassifier()\n",
    "rf_classifier.fit(x_train,Y_train)\n",
    "rf_classifier.score(x_test,Y_test)"
   ]
  },
  {
   "cell_type": "code",
   "execution_count": 44,
   "metadata": {},
   "outputs": [],
   "source": [
    "Y_pred=rf_classifier.predict(x_test)"
   ]
  },
  {
   "cell_type": "code",
   "execution_count": 45,
   "metadata": {},
   "outputs": [
    {
     "name": "stdout",
     "output_type": "stream",
     "text": [
      "              precision    recall  f1-score   support\n",
      "\n",
      "    negative       0.45      0.38      0.41        53\n",
      "     neutral       0.56      0.35      0.43        66\n",
      "    positive       0.81      0.92      0.86       238\n",
      "\n",
      "    accuracy                           0.74       357\n",
      "   macro avg       0.61      0.55      0.57       357\n",
      "weighted avg       0.71      0.74      0.72       357\n",
      "\n",
      "Accuracy =  73.66946778711485 %\n"
     ]
    }
   ],
   "source": [
    "print(classification_report(Y_test,Y_pred))\n",
    "print('Accuracy = ', rf_classifier.score(x_test.todense(),Y_test)*100,'%')"
   ]
  },
  {
   "cell_type": "code",
   "execution_count": 46,
   "metadata": {},
   "outputs": [],
   "source": [
    "from sklearn.svm import LinearSVC"
   ]
  },
  {
   "cell_type": "code",
   "execution_count": 47,
   "metadata": {},
   "outputs": [],
   "source": [
    "svc_classifier = LinearSVC(C=200)"
   ]
  },
  {
   "cell_type": "code",
   "execution_count": 48,
   "metadata": {},
   "outputs": [
    {
     "name": "stderr",
     "output_type": "stream",
     "text": [
      "/Users/abhijeet/opt/anaconda3/lib/python3.7/site-packages/sklearn/svm/_base.py:947: ConvergenceWarning: Liblinear failed to converge, increase the number of iterations.\n",
      "  \"the number of iterations.\", ConvergenceWarning)\n"
     ]
    },
    {
     "data": {
      "text/plain": [
       "0.7142857142857143"
      ]
     },
     "execution_count": 48,
     "metadata": {},
     "output_type": "execute_result"
    }
   ],
   "source": [
    "svc_classifier.fit(x_train,Y_train)\n",
    "svc_classifier.score(x_test,Y_test)"
   ]
  },
  {
   "cell_type": "code",
   "execution_count": 49,
   "metadata": {},
   "outputs": [
    {
     "name": "stdout",
     "output_type": "stream",
     "text": [
      "              precision    recall  f1-score   support\n",
      "\n",
      "    negative       0.45      0.38      0.41        53\n",
      "     neutral       0.56      0.35      0.43        66\n",
      "    positive       0.81      0.92      0.86       238\n",
      "\n",
      "    accuracy                           0.74       357\n",
      "   macro avg       0.61      0.55      0.57       357\n",
      "weighted avg       0.71      0.74      0.72       357\n",
      "\n",
      "Accuracy =  71.42857142857143 %\n"
     ]
    }
   ],
   "source": [
    "print(classification_report(Y_test,Y_pred))\n",
    "print('Accuracy = ', svc_classifier.score(x_test.todense(),Y_test)*100,'%')"
   ]
  },
  {
   "cell_type": "code",
   "execution_count": 50,
   "metadata": {},
   "outputs": [],
   "source": [
    "import matplotlib.pyplot as plt\n",
    "from wordcloud import WordCloud"
   ]
  },
  {
   "cell_type": "code",
   "execution_count": 51,
   "metadata": {},
   "outputs": [],
   "source": [
    "# neg_reviews=np.array(pd.read_csv('/Users/abhijeet/Documents/Review Sentiment Analysis/PUBG/WordClouds/pubg_negative_reviews.csv')['text'])"
   ]
  },
  {
   "cell_type": "code",
   "execution_count": 52,
   "metadata": {},
   "outputs": [],
   "source": [
    "def wordcloud_draw(data,value, color = 'white'):\n",
    "    wordcloud = WordCloud(\n",
    "                      background_color=color,\n",
    "                      width=2500,\n",
    "                      height=1500,\n",
    "                      max_words=5000  \n",
    "                     ).generate(data)\n",
    "    plt.figure(1,figsize=(15, 15))\n",
    "    plt.imshow(wordcloud)\n",
    "    plt.axis('off')\n",
    "    if value == -1:\n",
    "        plt.savefig('/Users/abhijeet/Documents/Review Sentiment Analysis/COD/WordClouds/COD_neg_WC.jpg')\n",
    "    elif value == 0:\n",
    "        plt.savefig('/Users/abhijeet/Documents/Review Sentiment Analysis/COD/WordClouds/COD_neu_WC.jpg')\n",
    "    else :\n",
    "        plt.savefig('/Users/abhijeet/Documents/Review Sentiment Analysis/COD/WordClouds/COD_pos_WC.jpg')\n",
    "    plt.close()"
   ]
  },
  {
   "cell_type": "code",
   "execution_count": 53,
   "metadata": {},
   "outputs": [],
   "source": [
    "def wordcloud_draw2(data,value,color = 'white'):\n",
    "    wordcloud = WordCloud(\n",
    "                      background_color=color,\n",
    "                      width=2500,\n",
    "                      height=1500,\n",
    "                      max_words=100\n",
    "                     ).generate(data)\n",
    "    plt.figure(1,figsize=(13, 13))\n",
    "    plt.imshow(wordcloud)\n",
    "    plt.axis('off')\n",
    "    if value == -1:\n",
    "        plt.savefig('/Users/abhijeet/Documents/Review Sentiment Analysis/COD/WordClouds/COD_neg_WC_100.jpg')\n",
    "    elif value == 0:\n",
    "        plt.savefig('/Users/abhijeet/Documents/Review Sentiment Analysis/COD/WordClouds/COD_neu_WC_100.jpg')\n",
    "    else :\n",
    "        plt.savefig('/Users/abhijeet/Documents/Review Sentiment Analysis/COD/WordClouds/COD_pos_WC_100.jpg')\n",
    "    plt.close()"
   ]
  },
  {
   "cell_type": "code",
   "execution_count": null,
   "metadata": {},
   "outputs": [],
   "source": []
  },
  {
   "cell_type": "code",
   "execution_count": 54,
   "metadata": {},
   "outputs": [],
   "source": [
    "useless=['one','two','three','four','game','star','stars','five','play','players']\n",
    "def prepare_Words(reviews):\n",
    "    clean_document = ''\n",
    "    for doc in reviews:\n",
    "        clean_word =''\n",
    "        list_of_words = doc.split()\n",
    "        for word in doc:\n",
    "            if word not in useless:\n",
    "                clean_word+= word\n",
    "        clean_document += ' ' + clean_word\n",
    "   \n",
    "    return clean_document"
   ]
  },
  {
   "cell_type": "code",
   "execution_count": 55,
   "metadata": {},
   "outputs": [],
   "source": [
    "neg_reviews = np.array([clean_in[i] for i in range(len(clean_in)) if clean_out[i]=='negative'])\n",
    "neu_reviews = np.array([clean_in[i] for i in range(len(clean_in)) if clean_out[i]=='neutral'])\n",
    "pos_reviews = np.array([clean_in[i] for i in range(len(clean_in)) if clean_out[i]=='positive'])"
   ]
  },
  {
   "cell_type": "code",
   "execution_count": 56,
   "metadata": {},
   "outputs": [
    {
     "data": {
      "text/plain": [
       "array(['huge network bug right even use fast internet slows much sometimes even get upto ping please please fix apart bad est ever played mobile literally best get mobile device thank make call duty always near dear heart get mobile dream come true thank',\n",
       "       'write review improve extremely well regular since season love every thing put player one problem face audio especially br sometimes hear random scream player die nowhere around time hear single sound enemy right next behind best mobile opinion',\n",
       "       'glitch allow maybe move forward anything certain time would even clear cache unnecessary data app however still would glitch bad definitely cost lot game give star bad make person consider go pupg',\n",
       "       'bad graphic lot mode vtol goliath overpower hell think reduce duration add limited ammo balance also always people left match ranked mode lose match plus add real player instead bot em name easy recognize get kill whole match terrible',\n",
       "       'get hooked update season update show listen user practice map much need waiting new br map issue though main problem force close randomly even simply navigate menu probably something could fix later update update force close twice multiplayer match ratings go downy',\n",
       "       'share experience call duty mobile like fact people shoot bullet close die die bullet hit also like fact battle royale glitch make die also could add map frontline hope recieve review thank',\n",
       "       'awesome consistent upgrade continuous season bad problem signing last day whole authorisation error stuff manage resolve cry support need improvement support department many unresolved issue without answer solve bad optimisation mic issue',\n",
       "       'awesome love graphic love smooth love mode like lag even bad internet connection start lag also like way get use controller give less advantage people use one pretty unfair bad like say get use controller guy get advantage use controller give star',\n",
       "       'bad wonderful fulfil played longtime play start freeze lot blank jump recently reach level crash lose entire profile instal back start would give star problem need fix first new update rubbish deserve five start first guy make u start',\n",
       "       'might best first person shooter transition control smooth graphic movement also bad also full glitch crash network error please improve problem badly optimise edit sell tencent handle server bloody network drop point start reconnecting bad optimisation mic issue',\n",
       "       'currently face issue season update ping issue sudden rise ping stable internet connection tire multiple connection well delayed resignation shot br sometimes able see operator others restart whole app br match one friend also inform bug issue hope get fix soon',\n",
       "       'worst update ever cheater abroad throughout already glitchy especially see thru wall kick people return aim bot pathetic man get lay sniper rifle might well lightsabers overpowered power overly everybody sniper rank bum stop mix poor wack however knock map much animation character gun pass etc awesome still doable yo',\n",
       "       'would give app star consequent lag sometimes feel like slmming phone floor even season update didnt even fix lag issue live u sit since life need fix lag love character move back go forward cod mobile u fix give star thank u',\n",
       "       'really poor interms graphic mode everything last two major update fill bug important one able hear friend match pre match various mode suddenly u wil left alone u cant see anyone else keep say bug unless u clear bug soon time everyone stop play sure',\n",
       "       'poor afternoon play last update everything fine last update start close reason close menu already battle steadily without warning close played oneplus android smartphone thank advance bad optimisation mic issue',\n",
       "       'give three star right get awesome love addict even played original complete whole let get give star move board glitch end different area somebody come glitch end shoot able grab gun screen freeze soon start new already dead wait respawn',\n",
       "       'face problem since last week overall good keep disconnect wont pickup loot enemy teammate keep dissappearing glitch tried clearing cache bt dsnt solves problem hv restart get back normal ruin game experience since last week please solve problem',\n",
       "       'awesome good graphic gameplay awesomegraphics also felt well pugb mobile problem found voice chat work properly sometimes able hear friend hear plz fix new update glitched ever hardpoint rust enemy spawn behind keep kill fix plz otherwise annoy',\n",
       "       'fix smoke grenade amount credit store item kick anymore however still issue every time get camo completely different gun unlike setting br gun would lot well spend many xp card every camo every camo organize gun like br gun setting except attachment unlocked far gun',\n",
       "       'addictive great graphic good social interaction badly optimise feature keep interest issue found far would lag cause die repeat amount time battle royale excellent wifi much lag regular basis amaze',\n",
       "       'edit change review due fact bad connection cant connect ranked match get kick lose rank point fifty bad connection didnt even lose need change least low like rank point deduct match cant connect',\n",
       "       'fun give star lesser app purchase try spend money try get new skin developer would let u get skin u want example u purchase buy item available item buy twice u get list item except skin buy another u get repetitive item double without skin would u keep give repetitive useless item',\n",
       "       'much stuff unlike every cod simple dont get battle pas ruin aspect cod mobile hope fix add thing please make bite size addition mega phone data steal addition hope read review maybe fix problem',\n",
       "       'absolutely love lot issue kill people game work fine next empty clip someone die turn around kill like round use gun also war machine suck dew extreme drop round fire literally aim really high air shoot far ridiculous problem enemy invisible well server lag',\n",
       "       'call duty need fix several bug like spawn ongoing match multiplayer non ranked mode annoy smooth battle royal game need fix issue battle royal multiplayer mode like play really likely get rifle skin stuff frequently',\n",
       "       'cool lot problem first hacker rank match ruin fun kick never return back finish rank match broken two girl skin cheat try god please call duty mobile fix play call duty year',\n",
       "       'expect cousin philippine reason even find search friend say exist found even checked facebook friend friend list friend see philippine one move state',\n",
       "       'really like well do designer however occasionally review report screen suddenly go black sound remains also increasingly notice battle royale enemy simply dont die even empty full mag kill couple round something definitely right reduced star',\n",
       "       'runs smooth random crash freeze typical cod player though ie spawn trap camp ect pretty good chews battery life though expect update starting leggy crash new update control ruin using basically unplayable thanks gang',\n",
       "       'open app keep say error wifi checked found stable usable fast wifi enter keep say thing checked update none look official website none fix bug thing help please help rate played bug addict please help fix bug',\n",
       "       'great app work like console pc without purchase premium need pay work need ant get love purchase battle pas unable get account app keeps crash authorization code long way go save money',\n",
       "       'amaze issue recent update lag alot never face connection problem say download configuration fail make sure device connect internet even though fast internet connection resart well device please fix issue thing',\n",
       "       'new update awesome fully load new equipment come gameplay love new battle royale map extension still doubt scoreboard multiplayer match match kill take equal scoreboard eg kill enemy scoreboard read zero n continue zero sudden scoreboard increase exact reason u pls clear doubt',\n",
       "       'would give star rating however get teleport time sure due server issue bought asus rog phone specifically excellent cell reception well wifi feel ever experience teleport shift ghost however want say gameplay please fix fix rating like say top line game phone',\n",
       "       'wouldnt hav give cuz honestly great however really dont know people enjoy recent addition tank battle royal pretty annoy opinion mean u basically destroy anyone path fact place center safe zone end mean player choice come face face whoever lucky enough get first ultimately defeat purpose survival mode',\n",
       "       'new update bad hear team lag every old version well new one need good weapon character purchase else loose match developers please try fix bug graphic good new update thing mess also please avail good weapon try purchase new pwd weapon seem like guy fooling u instead get knife bomb bad',\n",
       "       'gon na lie even problem gam religiously still give star drop sometimes lose connection also ranked match happens end play thats v wlovever uneven ratio amount xp lose towards rank still really unfair',\n",
       "       'gameplay great many micro transaction every season stuff free season pas keep get few bad good stuff lock behind paywall wish zombie mode brought back honestly best gameplay mobile market lot scrap unbelievable',\n",
       "       'best shooter require feature graphic pretty smooth would definitely recommend anyone try find kill time edit change review star constantly keep crash sudden lag present change review till fix',\n",
       "       'star lag issue rank mode deduct rank point good team horrible solo one win next two lose point plan glue phone day rank hell first rank easy almost do rank set back go back mp match',\n",
       "       'ok awsome till season like add tank destroyed like usualy end tank well take shot think win ninja battle royal rabs like point need grab twice get building someone shoot help fix emove tank slow take max health',\n",
       "       'big fan also spend money play tablet samsung every time kik least three time annoy still love please fix update well still kik',\n",
       "       'fun bug need fix like someone go prone shoot watch one dude fly map gravity spike kill person front run back thru fence nuketown shot thru wall even though wall brick wood wall shot thru metal pole killhouse annoy bug fun',\n",
       "       'make pro rank match try get new ar reason take get mic doesnt work even reading comment screen jump bad focus aim ads like rig one win situation spent hundred dollar wont spend problem wont get resolve bring price every one experience new skin etc',\n",
       "       'great graphic good rush give dont give nice item tier go actually pay make fair enough like half half item dont think fair obtain cool stuff pay would give',\n",
       "       'love great work reason give star bug whenever start tdm domanation hard point always join late mean start match see match already start minute ago decent internet connction ping alway still face problem please fix soon possible thank',\n",
       "       'pros limited time mode battle royale mode also really enjoy get cool unlocks even ranked tons event cool gun skin available cons unskipable final kill cam way obtain premium currency besides pay season pas load time take long lot rubberbanding constant crash auto rotates even auto rotate phone final score spend money',\n",
       "       'new season update awesome even add warzone kill sound effect issue face free watch video lucky draw everytime try watch video spin lucky draw say already watch maximum amount video even watch single one come back next day codm please fix otherwise good',\n",
       "       'like female gamer expect see female character without pay money feel need show skill female female character man prove sexist approve gun great long awesome gun skin gameplay pretty cool',\n",
       "       'keep kick clear cache restart multiple time certain map mode crash frustrate play ranked match crash get ban leave fair enter match due crash please fix lg ram storage issue',\n",
       "       'awesome always crash time play battle royale please fix old season crash developer please fix love want continue play old game issue continue guess change awesome phone vivo adrenaline gpu snapdragon please fix thanks',\n",
       "       'fun also like lot sometimes help relieve stress kill people also get excite every time new mode come actually really enjoyable dont know people think think app everything good nothing rate bad however sometimes annoy gon na rate bye',\n",
       "       'great battle royale lag like crazy since last update map size increase also mic issue lot others talk ps face mic issue fix mic issue need turn every single time play ideal least becomes manageable please fix lag make especially unplayable',\n",
       "       'love love glitch screen blacking graphic setting way low new samsung would think would best tablet wrong stink sure else purchase make well would love give star would fix major problems',\n",
       "       'love opinion there problem take long download whenever battle royale middle screen turn black cant see anything restart reconnect love pls try fix problem need download call duty fast even though gb pls fix problem',\n",
       "       'since season theres new update know many people experience sudden wait second cant leave match press cancel wont let many lie told update go uninstall spent money',\n",
       "       'altogether okayish try pack much one map one get hold everything time hand grenade confuse one select plus selection take second loadout option nice well user friendly display screen concepts similar pubg much influence tencent also thus give appropriate reason cod leave pubg',\n",
       "       'changes need need selection mode ranked match love search destroy bug sometime rc shock freeze go forward season gun skin worst even uncommon look good epic well reward get transformation one another layer e pro master random reward playing single ranked show wait microphone access proper update guys do updt',\n",
       "       'ran problem reinstall app update go back sign account whenever click call duty icon sign crash process possible please help thank',\n",
       "       'get trouble load training round work fine try multiplayer mode screen turn black try instal several time store also sharing xender request provide solution problem thank phone detail samsung plus processor sd thank',\n",
       "       'c mon man nothing show still problem server connection continue server always get unstable nowadays rise stay due like previously past season plz yhe next update something server connectivity esp new season awesome server stable like always',\n",
       "       'good fun use controller work never work do everything wonder yall could something like one many problem move go stop like stand still keep run turn keep turn stop make quite aggravate',\n",
       "       'late version cod improve graphic control new map task radio active agent version back ground music good like previous version bgm awesome get bgm set mood please replace new bgm old one',\n",
       "       'freeze do battle royale heartbreaking loose due failure rather upset normal mp never issue last update start would call star top notch fun',\n",
       "       'regular multiplayer great however battle royale leaf much desire crash lot simplest thing use scope sniper switch weapon etc phone issue performance issue however come specifically battle royale battle royale crash multiple time per session make impossible also server lobby super laggy',\n",
       "       'reason less star one many time lag also one voice chat friend like similar game voice echo level echo increase number player three echo thrice definitely need resolve personal favourite ps mob basic definitely require excellence',\n",
       "       'last day unable access cod every time try open show sorry error google download please make sure connect stable network try later solve please go official website community page help network stable easily access game u plz help fix issue',\n",
       "       'latest review season update full lag br minute without frame drop freeze time realme especially br mode frame freeze black screen issue android snapdragon fps gameplay laggy hop one dedicate season performance improvement',\n",
       "       'good good graphic take lot memory lite version try update happen probably delete use guest level veteran tier delete able access account optimisation pretty bad',\n",
       "       'long time edit review wanted give star rating crash even frequently play br screen black happens know fix sooner later like kill sound warzone btw probably big fan call duty franchise',\n",
       "       'everytime come br app hang connect back hub fix issue must exit app goto setting app info force stop app clear cache still need work connectivity issue eagames add clear cache reconnect button inside option ask want client complain play',\n",
       "       'cool problem ranked cuz even though u well ranked match u still get ta lose rank xp u get worthless teammate blow match still even though u ger mvp kill end lose rank xp happen many time master push one gane legendary would great uf u fix like deduct rank xp mvp atleast',\n",
       "       'graphic good badly optimise make way big phone keep delete thing make room may delete overall solid let send gift friend late update wow',\n",
       "       'really good play around online good rating like one thing take network update attract make boring good please try improve hang battle royale love',\n",
       "       'whoa amaze say impressed could bear anything one notice old version invite friend join update notice play automatically go main menu anymore like say automatically go phone version use samsung',\n",
       "       'love choose mode want ranked even go close touch trip mine kill happens foe trip mine even kill also gotten bad much lag sometimes something go wrong log lose point wait along time another',\n",
       "       'millisecond synchronisation issue multiplayer gameplay please fix side player sync always example opponent able see able see although look spot shot think internet issue',\n",
       "       'reason put star thing like new update one tank really kill amusement wish u could remove stupid glitch hope u fix',\n",
       "       'good first come free pay win camo do modern warfare make cosmetic come back day ago do well get beat gunfight flame bullet use shot first really need fix scincierly',\n",
       "       'give star seem everytime put money get nothing repeat crate grateful get character one provide know miss season still well ratio chance get stuff',\n",
       "       'update lag much like cant talk teamates even mic like way u change everything like different way tier confuses people cp buy cool stuff cuz cool stuff found cp last update nice update trash continue may lead delete plz fix lag give',\n",
       "       'great fluid control third person camera kinda janky though overall great single mode would also great addition gripe fact die early br mode try leave still get penalise message',\n",
       "       'fun sometimes stressful good told brother danload like say fun even opinion call duty fun danload fun level danload fun little stressful fun',\n",
       "       'good pause lose connection right middle say connection connection fiber would think roll bug work apparently decide roll without check see bug pause middle cause kill lose upsetting',\n",
       "       'really good update become kind laggy problem still great frustrate find ranked match season ranked want reach legendary please something please reply tell whats',\n",
       "       'great cauee graphic everything general issue save progress facebook call duty id thats issue cause im old enough facebook dont know login anything call duty id thing know use google overall good yall add google id wlovever save progress please would star google sign',\n",
       "       'glitchy time try move forward mode mostly br glitch backwards move forward foot ping also high time besides great',\n",
       "       'change new update audio mic problem cant hear team mate back consistent wish go back way update',\n",
       "       'good battle royale friend like fact upto people squad would like see story mode also would playable friend awesome',\n",
       "       'write good review regret creator decide remove data someone uninstalled app accidently uninstalled app restart everything mean everthing kills death levels skins restart everything pretty much point want delete love much delete please try get account back want character',\n",
       "       'hello love lot play since long suddenly problem br mach would black screen minute even updater solution please solve',\n",
       "       'super sick galaxy smooth beautiful graphic new update suck map load take forever basic target mode ton lag change gunshot sfx add bunch whine character oohs ahhs even without get shot booo',\n",
       "       'since guy add new place br map another thing would see graphic get original thing look like leftover whenever br like make house original even though setting vey high graphic still something look leftover rest fantastic',\n",
       "       'overall nice beautiful graphic gameplay also reason change review star star last update lag crash problem battle royale becomes frequent adversely affected gameplay also plss fix problem make enjoyable',\n",
       "       'great except reward win always weapon xp many weapon upgrade ive upgraded weapon xp card use add different reward win',\n",
       "       'still good ever anything gunfight im crash lose abou exp ranked bc annoy havnt able ranked day battle royale still available crash twice per may die time take restart dont happens may device suks',\n",
       "       'fix lobby voice bug cut often need reopen connect voice also many ui latency issue bg music cut players able upcoming stage tournament bug fix see gameplay bug yet overall update good buggy fix',\n",
       "       'like lot best add offline mode add local offline mode bot join beta try lot wot let download google download good network storage',\n",
       "       'get star still issue mainly lot lag abd connectivity problem server size issue believe one minute play great problem next disconnect skip lag',\n",
       "       'expect like real cod pc unfortunately see story line mode expectation see battle royal call duty seem copy pubg fortnite still run smoothly get good fps',\n",
       "       'awsome think ppl need least get ahold played nobody yet also chat enable disable graphic good ima go fun guy battle royal crash need fix',\n",
       "       'developers since recent update ranked matchmaking take long approx time even ranked mode get player please check matchmaking issue',\n",
       "       'new add fabulous due technical issue hope like sound problem example would low evaluation hope cod team fix problem sooner possible',\n",
       "       'play since release late update happy reduce graphic quality seem like play pubg rather cod extend map new feature amaze graphic go considerably less take away complete experience play',\n",
       "       'run smoothly new season arrive start give issue like freeze midgame lobby sometimes mode selection please fix soon dont want miss progress season',\n",
       "       'fun great new update horrible left rust option rust best one yet also left kill comfermbed capture flag star get well never let collect cordite gun challenge use well bad ever',\n",
       "       'sure death sound loud ridiculous fast pace multiple respawn likely death sound becomes annoy',\n",
       "       'almost time controller lag time even disconnect wifi bad issue use controller still happens also disconnect ranked match give penalty leaving justified blatantly tell disconnect still get penalty',\n",
       "       'really fantastic except battle royal mode nothing good good graphic gameplay suck mode set efficient otherwise really good well pubg comparison multiplayer',\n",
       "       'recent update aggravate constant lag run smoothly go player scope glitching death get ta admit map update ect awesome',\n",
       "       'alright problem lag issue amount space take point think worth cause also lag phone thing',\n",
       "       'new version good previous version good apart graphic new version great bad place start point die enemy stand right behind',\n",
       "       'great time run smoothly new update lag way use kick glitch etc great',\n",
       "       'really like someone hit use leg time die legs head damage increases legs would lowest annoy way get special coins buy love even get stuff unless unlock never able get battle pas well atleast put star fix problem low',\n",
       "       'pretty fun hard get gun expect lot crate give small amount credit lead anything good remove zombie mode go fun',\n",
       "       'season update lose every rank match noob yeah good either still best connection problem idk whats wrong new badly optimise ping suddenly drop show reconnecting problem cellular data every application work like yt ig n accept something sir bug rlly get nerv please fix asap expect good',\n",
       "       'everything perfect late update issue mic unable chat chat game possible glitch mic lobby connect friend team please resolve mic issue',\n",
       "       'like lot would give star due match make process end abruptly match loose side score something like time spoil gameplay please improve',\n",
       "       'graphics quality reduce use season update especially br mode also notice minor performance issue well character bug br character head disappear middle match poltergeist alert work recent br match final zone two enemy left ar weapon accessory provide training mode along weapon tanks powered get nerf',\n",
       "       'rate star way many hacker people msmc kill yu within shot across map crossfire mean least remove hacker everything else awesome hacker problem pls ban codm',\n",
       "       'wow map way big played minute saw one encourage camper gameplay get boring run around freely long',\n",
       "       'everything fine time server crash continue even middle match doubt internet speed want mention new update solve server issue yet',\n",
       "       'many problem download additional last file take hour still download work thing happen time use extra gb data download still work',\n",
       "       'cod mobile one best mobile game ever played understand business micro transaction greedy revamp draw system system truly take advantage gamers',\n",
       "       'whole good first download bought pas straight away within hour expire warn customer care unhelpful didnt care nice know legally rob customer careful buying pass',\n",
       "       'love glitch login cod account say account registration complete take page black blank hope guy fix bug',\n",
       "       'last update good infact way well new update sound get crack deal lag issue much important sound good every time restart still effect sound',\n",
       "       'changed star star season update love new map location new option personally feel different map instead huge map give time',\n",
       "       'could make well graphic low end phone like ram phone notice see player various character skin match custom skin show match would appreciate look otherwise would give five star',\n",
       "       'love update season crush randomly asus rog phone never problem even try reinstall nothing work need help change star start work good',\n",
       "       'good new season update seems lot hacker cheater around things like stood next someone shotgun rifle still kill',\n",
       "       'good multiplayer mode battle royal lag freeze low graphic cant sometimes voice chat problem cant hear togethers voice give star hope fix problem future beacuse good',\n",
       "       'good let download new update keep stop restart download third time try download new update update fourth try finally work',\n",
       "       'good interest problem drive tank display normal time every thing ziczacking even new area problem need help developer',\n",
       "       'please fix audio work fine lobby get battle royale stop work unable communicate partner help need',\n",
       "       'good please eliminate bot battle royal every match legendary league please eliminate well matchmaking battle royal well experience',\n",
       "       'gon na give star everytime battle royal match kick pray dead really bad make want secondly pas finish say premium pas get chest pls change finish pas still make high pls give like coin something extend',\n",
       "       'definitely one best popular mobile fps game lot bug tbh need free update notice do way well give back community thier player',\n",
       "       'problem voice chat whenever lobby hear jump voice chat stop work come match',\n",
       "       'problem mic start new version please fix bad u cqn contact get kill try press save sentence',\n",
       "       'keep great work new avatar hard get weather effect like rainny windy snow sunny night mode please remove weapon extra skin ton unnecessary junk skin dosent make difference',\n",
       "       'update yesterday keep crash middle also im lobby suddenly crash already delete cache restart phone u instal instal keep crash',\n",
       "       'sound keep fading hear music footstep mic stop work tap mic button also tank powerful make br mode even bad phone tecno camon air',\n",
       "       'free lucky draw new update work try watch ad keep say watch intel briefing even watch even single ad pls resolve issue',\n",
       "       'lag moment come contact people even though good signal load time odd consider load everything else phone quickly',\n",
       "       'late update show bug audio turn microphone headphone connect show error say please check microphone access already checked twice',\n",
       "       'great always issue lagg maybe mic work expect well big franchise',\n",
       "       'good update wont load intro wont pas say load dissapeared stick load screen proceeds crash say work',\n",
       "       'love gameplay map hate mic connection drop went bad bad literally cant hear fun u cant talk friend really need fix',\n",
       "       'would give star still lot bug anyone wan na free fine waste money unless rich cuz probably gon na get sorta bug probably ruin mood play',\n",
       "       'use say best last update since crash lot get bad hope fix',\n",
       "       'would give star look optimize minimal lag bug prblm face new problem watch advertisement give u reward plzz guide problem still show ur advertisement reach check midnight utc',\n",
       "       'one best game category though must find solution network issue happens middle point return piss lot',\n",
       "       'amaze everytime new season always issue mic fix end season new season start back old',\n",
       "       'ever since hardpoint add ranked mode disaster play ranked bad thing come percent game despite one mode delete thing',\n",
       "       'new update mess voice chat hardly work please fix patch update wait till next month get fix thank',\n",
       "       'awesome love addictive constant freeze random black screen become super super annoy would give star',\n",
       "       'like much im little problem get past log part ive update season need help problem',\n",
       "       'update cod season keep say load time even good internet work youtube instagram apps internet cod keep say say please help really love',\n",
       "       'like alot specially battle royale ruin stupid tank literally bad thing could spend alot time money something dont change tank anymore',\n",
       "       'sound quality poor add new gun sound bug hear shot bad try fix',\n",
       "       'love able pick spend money take back hate dont spend money crate draw worth get thing',\n",
       "       'new update problem voice chat bad hear clearly battle royal hang mission taught network switch wifi still dsame start wen update please work',\n",
       "       'love sometimes frustrate try load say good network connection played countless time place',\n",
       "       'improve level system level month solve microphone soo terible alway get connecte disconnecte ecco voice voice build first awful',\n",
       "       'great issue much need address voice interaction player battle royale multiplayer awful overall perfect plz fix star side',\n",
       "       'phone crash osok restart use happen promp hunt modality come instal runner could fix happen know',\n",
       "       'change rating star three star multiplayer still fun especially weekly feature mode battle pas season fun excite reward however connection issue mainly battle royal lot server single room lag cost often hitboxes also goofy work do overall still fun',\n",
       "       'update smoothly play lag note play high setting even medium setting gameplay smooth update give less star otherwise best',\n",
       "       'please remove tank battle royale overpower shot epic armor also much health try shoot tank get snip tank kill',\n",
       "       'amaze problem first force upgrade every update take away lot feature well completely slow make impossible strong wi fi connection stable line lag even delayed think poor feature especially popular maybe spare phone take last',\n",
       "       'trouble multiplayer match multiplayer match often one day maximum time load screen count upto also match start',\n",
       "       'team make really bad normal tdms time teammate bot even try run attack case opponent team',\n",
       "       'ever battle royal long period always force close contact multiple time support bother reply also mic team doesnt work properly time cant hear hear one etc',\n",
       "       'pathetic update able hear team mate speak match make multiplayer mode boring please solve bug',\n",
       "       'nice like fun others br game action update run perfectly high graphic start drop frame sometimes snapdragon',\n",
       "       'actually love may one best moible game ever however wont rate star play battle royal game screen would turn black restart pretty sure screen turn black play br lot player frustrate overall excellent perfect',\n",
       "       'great im sniper would like say thwt dlc weapon horrible regular weapon unplayable certain map especially choppy phone term fun little problem change',\n",
       "       'gameplay smooth fun watch intel briefing ad video reward credit look store still show option join beta',\n",
       "       'annoy battel royal time lag screen get black even phone ram want tell u community fix asap please',\n",
       "       'recent update able login account send login page good recommend fix bug get acount',\n",
       "       'good guy need fix battle royale every time mode always kick match crash also put match already start besides good',\n",
       "       'pretty good new update every time network fluctuates bit thw disconnect match deducts exp even though connect back within second',\n",
       "       'good cost prize draw odds get well item joke good thing make easy spend money',\n",
       "       'issue battle royale freeze mid restart whole thing hope get fix great',\n",
       "       'overall really cool however app crash middle gameplay developer fix yet season hopefully bug fix near future update season still fix freeze middle samsung phone issue internet either',\n",
       "       'good u need optimize well performance many thing use like zombie mode item expire need clear r take useless space increase size unnecessarily even feel irritated see thing use u',\n",
       "       'fun af addictive understatement get tell wife kid sorry spending time something new happen need fix autofire anyone prone position really annoy devs please fix change rating back star thanks',\n",
       "       'new update horrible keep hang sound weapon totaly change lose origional sound suppose best go bad please change sound',\n",
       "       'actually kinda fun update go elite rookie take long get elite progress ranked match go',\n",
       "       'enjoyable however africa deal kick match due server disconnection constant lag good luck get server africa',\n",
       "       'good still require lot work audio match mess share cause player behavior member community get afk bring overall team lead lose also br fight issue lag even keep phone low setting',\n",
       "       'keeps freeze ranked match force close window penalizes happens every time also ranked match unfair connection host server',\n",
       "       'great gameplay log get bad dis update plz fix even get shoot time aim die plz plz plz fix uninstall want fix plz help help help plz give mi hope u guy fix asap',\n",
       "       'everything good except fact remove ranked selection coz people hate snd please remove bring back rank selection mode many u hate check please something snd atleast decrease percentage ranked',\n",
       "       'change rating mic system still work correctly require mics system broken new update delayed week instantly mic restart get work work stop',\n",
       "       'good graphic great gameplay physic realistic lot update weekly monthly change rating since keep crash update please fix issue',\n",
       "       'amazing graphic bug let move low wifi sign come per second fast broadband nothing wrong wifi please fix',\n",
       "       'face issue communicate team member new version sometime hear sometime please fix soon',\n",
       "       'great flaw wear level vest hit target full burst end round wear printable feature sticker indicates feature within short radius sometimes work time warfare mountain stream drain sea field sand thick forest much tell much well give star',\n",
       "       'decrease size plz',\n",
       "       'anyone else music play constantly loop whilst started day ago annoy',\n",
       "       'wish could pay cp please put free way get cp free love anyway',\n",
       "       'last update really turn bad lagg bad annoy',\n",
       "       'okay much space funny', 'everything go right tank good hate tank',\n",
       "       'nice', 'eh', 'still bug remain like high ping ads also available',\n",
       "       'great access event menu please fix bug complete event get reward rude',\n",
       "       'bad',\n",
       "       'peaple bring back zombie two mode codmobile zombies br please atleast update u bring zombie back please please please please',\n",
       "       'fun update huge', 'great way battle pas compare use way bad',\n",
       "       'graphic good add son friend saudi son philippines one please help u',\n",
       "       'toxic waste name update change toxic lag', 'give bash',\n",
       "       'huge problem fix mic teammate hard contact developer work',\n",
       "       'screen keep go dark middle', 'peole fair add tank',\n",
       "       'great much lag freeze time mostly br mode',\n",
       "       'good take much space literally thing phone download',\n",
       "       'needs high internet speed otherwise full glitch',\n",
       "       'good pubg immediately soldier die bullet like plz change die bullet require time like pubg',\n",
       "       'upgrade much', 'pay win',\n",
       "       'dropping star play perfect several connection issue already contact customer support please fix',\n",
       "       'overall great fpp tpp mode new mode weapon keep fresh amount lag bug unreal gb ram phone adreno graphic still randomly freeze even friend well phone face problem audio glitch mic stop work cant hear friend unless either restart sometimes completely reinstall fix bug sure banger',\n",
       "       'screen go blank middle every battle royal samsung galaxy restart order continue kindly fix issue',\n",
       "       'change rating star coz lag even ping m change back star problem resolve',\n",
       "       'everything good time face excessive ping great internet bit everytime ping',\n",
       "       'team death match awesome still need upgrade battle royale mode need map',\n",
       "       'ads work try purchase cp work aswell fix please overall good',\n",
       "       'one thing good get star fix rate star update always gb gb plz try make update lil small ik ask lot please',\n",
       "       '', 'lot thing need fix',\n",
       "       'amaze please battle royale mode good improvement would apreciated',\n",
       "       'good bring back outlaw',\n",
       "       'app need update like pubg mobile graphic quality low good call duty man need like commando',\n",
       "       'great excite stuff handle control l suggest phone pad wish app something',\n",
       "       'good',\n",
       "       'great nice experience season hit u hard connectivity much latency issue players compete player way also sound bug please fix may well internet win',\n",
       "       'please call duty lite release',\n",
       "       'laggy crappy killcam fix screen rotation',\n",
       "       'battle royale mod work properly plz slove problem',\n",
       "       'login issue bad thats anymore really want',\n",
       "       'love app unfortunately need uninstall app bad optimisation bad graphic company involve app',\n",
       "       'face much lag battleroyal mode pls fix issue', 'big',\n",
       "       'ranked make wait', 'ok',\n",
       "       'season update sound bad bad sometimes sound also',\n",
       "       'food please increase graphic low end device also improve free battle pas reward',\n",
       "       'mny error connection network get lag',\n",
       "       'good mostly everyday problem like keep show version info load screen doesnt load cant get help ill give well score',\n",
       "       'hasnain',\n",
       "       'lot issue new update bad part audio connectivity automatically get mute unable communicate team match',\n",
       "       'else look perfect apart login process cant get former account back',\n",
       "       'updates file longer like plus gb', 'nic graphics ok good',\n",
       "       'time pasing',\n",
       "       'update app regularly half update automatically cancel',\n",
       "       'lot connection error lose alot rank point please fix fast',\n",
       "       'think damage output much high aim somebody escape though overall class skils scorestreaks much well pubg still fell need something ballttle royale multiplayer favourite nice proper damage output',\n",
       "       'controlls terrible simple fire mode bad thing ever see take swop mode',\n",
       "       'good stuff crash tho like start match black',\n",
       "       'reinstall like time still blackscreen issue battle royale mode please fix problem use galaxy overall awesome',\n",
       "       'useful hai leg',\n",
       "       'amazing give u mean user much update also mb gb obly thing bad otherwise realfantastic reason give three star two star cut big big big update thank reader',\n",
       "       'bad optimisation mic issue',\n",
       "       'yo even tho love cod get graphic terrible think get trash graphic cuz need properly sign ipad need phone well graphic',\n",
       "       'im try google pixelbook anyone know work device',\n",
       "       'get cry work hatd championshinp pro jion guy make cry',\n",
       "       'able open show download error use also till work quite perfectly totally work please fix issue',\n",
       "       'love seem people cheat good anyway',\n",
       "       'awesome season excellent battle mode please bring zombie mode back l u nerf please bring back new season bad sick',\n",
       "       'able match get well good work',\n",
       "       'graphic definitely improve update bug mic sometimes say microphone connect sometimes automatically switch friend team',\n",
       "       'cool',\n",
       "       'work good scam cod mobile put like halloween lucky day new toxic draw witch doctor want money back',\n",
       "       'please make computer player b c im chrome book',\n",
       "       'ok bad optimisation mic issue',\n",
       "       'played guest account fb account show unable login please add option google login',\n",
       "       'cod plz help ive losing rank points says reconetting hace fast wifi plz help',\n",
       "       'give nd free xp give star',\n",
       "       'edit recent update cause multiple issue soft lock every hour need reboot lag crash make update almost unplayable plz fix great mobile phone top line phone good internet connection phone old wifi connection fast',\n",
       "       'verry adict best mobile ever shut owner',\n",
       "       'necesito ayuda estaba en veterano v justo punto de pasar lite pero devolvi novato v necesito una solucin por favor',\n",
       "       'great app keep crash cost point ranked', 'nice',\n",
       "       'ranked trash get force mode hate take away option choose mode lot hacker try hards put people well ping constantly ping amaze know use computer see get kill killcam even though screen already behind cover people use mobile never match computer player player controller fix',\n",
       "       'try get acount give sombody el acount dont like',\n",
       "       'good many hacker pls fix',\n",
       "       'play multiplayer mode sometime freeze moment character move another place think need fix',\n",
       "       'alot fun plays like old school cod crate feel get ripped draw even bad extremely clear way get jackpot spend enough every single roll worse odds win star',\n",
       "       'nice please put choice squad team come like make squad country thanks',\n",
       "       'initially give star season suck wheres capture flag u guy remove one fun mode dont understahd many cheater man crazy',\n",
       "       'give app star force make star absolutely wonderful glitch sometimes damage glitch shoot enemy bullet go people hitmarkers show also becomes laggy even though good stable internet connection still olay hop developer fix bug glitch',\n",
       "       'lost phone main account login e mail password work',\n",
       "       'good till season update every time phone crash',\n",
       "       'hate delete zombie mode fun friend miss cod add session pls else one star delete five star keep',\n",
       "       'good everything good except br lag make need restart app reconnect',\n",
       "       'turn music background really hear enemy come background music play everything fine',\n",
       "       'new update get ton lag thought internet provider look like ton people issue',\n",
       "       'pubg mode', 'fun hate get item pay',\n",
       "       'since last review cod issue mic glitch addictive fun thanks soo much',\n",
       "       'many serious bug voix chat also filter team mic enable player even player specific language wish see reward system base task similar pubg current one confuse useless',\n",
       "       'update come function work slowly fast like invite join friend time mike work perfect enter time camera move fastly',\n",
       "       'fantastic lag f unreal fix freak everything sure lag recent iphone f annoy deal f everything lags missed shots p damage player affect hp fu hackers controller mobile players please ban cheat player',\n",
       "       'image black pc', 'allright depends phone', 'love star',\n",
       "       'download app multiple time enough storage finally download want load load screen',\n",
       "       'first time play preety cool gon na check check rest',\n",
       "       'awesome day unable login attempted numerous password reset never recieved one email use register disappointed really enjoy play change rating',\n",
       "       'pretty good voice chat always problem since season currently season bad annoy everytime make want sometimes',\n",
       "       'ok guess uninstalled repeat repeat repeat', 'gleche',\n",
       "       'use samsung galaxy dont mic speaker could help give btw mp awesome',\n",
       "       'im try chromebook',\n",
       "       'good app random back round music cant turn start update',\n",
       "       'download could zombie take away dont really want anymore',\n",
       "       'kinda like guy need add zombie call duty zombie',\n",
       "       'repeat crash moto power load minute crash late update please fix',\n",
       "       'awesome also request please add desert eagle long barrel attachment please play ever since release level plz respond take long load ranked',\n",
       "       'nice m go high seytled dead usually battle royal guy need resolve thus',\n",
       "       'new update level get kill people level please make fair always use legendary gun even battle royale squad member always noobs squad level player impossible kill people tank',\n",
       "       'let watch video intel briefing also pay name change card crazy game charge change name even get option change download',\n",
       "       'run smooth optimise graphic goo rat star lag main reason m high sometime play battle royal please fix change rating',\n",
       "       'initially great last update longer download',\n",
       "       'go mic invite people game ranked unless team request dont send update cause many glitch',\n",
       "       'mic issue group match frienda frequent problem speak within team clear difficult along friend frustrated switch team friend none work team could battle royale gon na weak last update still problem persist',\n",
       "       'server connectivity bug ruin',\n",
       "       'new update pathetic microphone disconnect connects anytime totally ruin experience gameplay restart want switch br multiplayer cause voice connect even get disconnect anytime bewteen also br join leave room rejoin room voice connect basically every new room restart damn phone samsung fix asap',\n",
       "       'voice issue new update poor voice connection',\n",
       "       'availability though aiddrop',\n",
       "       'really great usual new season update mic issue cause lot problem audio work clearly teammate hear say please resolve thank',\n",
       "       'lag', 'graphic low pubg take much time opening thanks',\n",
       "       'please make map',\n",
       "       'multiplayer mode nice except one thing communicate friend report twice still fix developer read review please fix please really inconvenient please fix asap',\n",
       "       'almost time controller lag time even disconnect wifi bad issue use controller still happens also disconnect ranked match give penalty leaving justified blatantly tell disconnect still get penalty',\n",
       "       'sexist pay female character',\n",
       "       'get wrong love cod grow play since last update graphic glitching lot map glitch audio issue honestly like amount microtransactions appering every absolutely love ads first person prespictive',\n",
       "       'suggestion query tank remove single double team br may add tank class help every team make battle equal want send invitation clan world platform invitation go accepted rank player automatically strict penalty left team join monthly review take user make app',\n",
       "       'asome pls fix tire upto free buying cp pls give emonjies avatar increase tier rating free like pubg mobile pls fix possible soon give review',\n",
       "       'take lot storage day day bad', 'op',\n",
       "       'love start lag intensely since last update',\n",
       "       'missing single offline like pc version please add also develop port medal honor wolfenstein pc game android smartphone nokia ta qualcomm snapdragon',\n",
       "       'dear cod mobile team complain many time new update event lucky board work properly device alway say watch intel briefing try midnight utc however watch single advertisement pls fix soon possible',\n",
       "       'good', 'go faster anyone lose piss',\n",
       "       'fix mic recognition work lobby never matter always something app',\n",
       "       'mic work season checked mic access reinstall still work please fix',\n",
       "       'really good tooooooo big please cut size way',\n",
       "       'think awsome open thing cant try still load tell load wt',\n",
       "       'start play love level weapon different skin kinda tedious',\n",
       "       'want zombie mode cod',\n",
       "       'best battle royale till wish developer optimize well response almost freeze even low graphic redmi note rank season played smoothly',\n",
       "       'good give large update right', 'voice chat work',\n",
       "       'good elite quit amd start ply realise lose everything vry sad spent straight try push rank btw happen time enough unistalled hope see dis want rate could',\n",
       "       'originally constant glitch connection error give massive amount lag new tank battle royale ruin power whoever get generally win',\n",
       "       'awesome log google account change password try time ask google account pas plz reply codm',\n",
       "       'awesome',\n",
       "       'good gameplay require great internet really good skin really expensive battle pas say next season coronavirus gameplay fight away make interest please make well skin free',\n",
       "       'glitch everytime played also hang multiple occasion new update make bad certainly enjoy due constant interruption form glitch lag',\n",
       "       'even less people play zombie remove please bring back',\n",
       "       'superb best game feature control modify',\n",
       "       'please fix blackscreen issue blacksout game affect ranking disappointing',\n",
       "       'fantastic feature fun jump peek fire trinig mod even well thank',\n",
       "       'hello codm developer would like share experience download friend suggest rat due big update need reinstall time previous season lose point rank penalty start crash reinstall update really love crash till today crash time go master due rank penalty point help',\n",
       "       'star play auto closing correct',\n",
       "       'rank match start mobile gameloop emulator need improve',\n",
       "       'good im run one place anouther sends back place well im run even shot guy well run sent back building oi like bruh fix develipore also hate ranked lose barely rank like give rank tiny bost trashhh like rate poeple keep lose litraly stop play ranked cuz take ever rank like dued',\n",
       "       'multiplayer mode well think battle royale horrible u shoot doesnt fire target also hate drive',\n",
       "       'microphone work hear team member',\n",
       "       'good since late update hard time get always say internet connection',\n",
       "       'slight video lag smooth last season', 'hackers',\n",
       "       'really fun take lot space',\n",
       "       'would give star could unlink fb account somehow link properly seperate cod account',\n",
       "       'good good grafics give star one map royal battle mode add diffrent map royal battle like pubg matter size increase keep quality also',\n",
       "       'great get wrong warzone many update user still get option rest mode without update',\n",
       "       'ever since new update mic bad cant hear teammate cant hear sometimea connection fine know communication key battle',\n",
       "       'awesome wish wld sort put bug lag mic issue really make unpleasant really awesome issue need get sort asap',\n",
       "       'new update make extremely laggy please something bring fix',\n",
       "       'always ask full internet access despite internet able',\n",
       "       'want give update come please stop give like update', 'awesome',\n",
       "       'please fix keep trouble automation login keep sign wont let sign recovery password nothing happen also show error',\n",
       "       'since guy add new place br map another thing would see graphic get original thing look like leftover whenever br like make house original even though setting vey high graphic still something look leftover rest fantastic',\n",
       "       'post android update one plus phone get launch',\n",
       "       'extremely good please fix problem always show network error sick',\n",
       "       'trouble multiplayer match multiplayer match often one day maximum time load screen count upto also match start',\n",
       "       'op beatr freefire',\n",
       "       'lots cheater unfortunately see anything also time increase number click click time match finish annoy ranked match search destroy free depend much others team',\n",
       "       'lot anoying hacker cheater know great hacker cheater trainer etc ruin like every know games',\n",
       "       'good always improvement make big complaint lag voice chat doesnt always work ill turn ill able hear soon start matter many time toggle mic button speaker button cant hear cant hear battle royale also multiplayer would really appreciate address next update please',\n",
       "       'overall great way br design trick stuff make really fun issue problem lag occurs like dear god cool kickass lag like run two bit device even point moment net connection go good well start glitching tank new update make gameplay unfair',\n",
       "       'codm awesome start initially easy time get use addictive however challenge face term acquire weapon quite hard acquire suffisticated weapon counterpart use weapon also wish could played offline mode would require data charges easy access maybe storyline thanks much say big well do producer',\n",
       "       'time lag glitch frustrate shoot target fast round affect target love addict improve definitely run much data even wifi many lag glitch also weapon also issue suck able aquire awesome weapon like oppose team',\n",
       "       'good general probably trick person think console one flaw crate lucky draw nobody want waste money gun skin dont even know want get since bundle kind solves problem except fact good skin crate lucky draw',\n",
       "       'would give star problem advanced mode kill people crawl kill kill plus crawl still hit yeah besides love amaze fun hope get little bug fix bug dan dan daaan',\n",
       "       'new gameplay awesom friend also face many problem like lag lot microphone work time especially br play get stuck wall sometimes stop match love much give less rating hope guy fix soon',\n",
       "       'amaze simplify damn menu hundred thing click tap many menu delay rejoin another make thing easy fast menu way much navigate way many pop ups please add option item like mark view annoy see yellow icon get tap consecutive menu make disappear',\n",
       "       'lately trouble since launch new season first sometimes happens unable join ranked match due issue side next know fin point ranked leave ranked inthe midst fair u see hard rank every single would give star sort',\n",
       "       'really like graphic etc thing like free battle pas pas every time come always hope give u cp would really appreciate cod team recommend friend yeah people get cp know',\n",
       "       'well really enjoy play attractive battle outstanding weapon etc maps also wonderful suggest warfare multi battle royal available time season weapons ability increase also increase withstand ability power also one tank drop air drop useful since capture tank survive good also item give free',\n",
       "       'first reluctant try awesome wish weapon add variety like pc especially low mid level also please add tip people new e join clan also people maxed already hope expand allow progressive',\n",
       "       'amazing fun great experience friend problem though lot lag frustrate lethal mid also battle royale sometimes black screen problem still hear continue completely blind continue star otherwise',\n",
       "       'use star removal zombie remove fun complaint controller option personal opinion need remove together least please well make sure screen player get pair controller player guy do pretty well still find pair oppose player use controller',\n",
       "       'really good fun could hour end reason give full five star tank battle royale mode toxic overpowered hard destroy one good could easily get kill im say take necessarily least nerf heavily',\n",
       "       'damn good entertain reason give star bcz mic speaker developed properly even though mic speaker turn play multiplayer sometimes teammate problem hearing voice hear even though mic speaker turn',\n",
       "       'really awesome pubg u know like high grafic smooth run character also cool saw play awesome man really man kill say least u life see dynamic feel u get thank last really thank creator team make awesome thanks lot guy',\n",
       "       'give app star cause even login cod account always make new account even try change password still create new account kindly repair bug way gameplay graphic always best really appreciate work creater',\n",
       "       'ok request listen new gameplay awesom ping improve friend menu tho still request new gameplay awesomes first menu menu like tbh br bug improve frame rate drop dramatically voice chat bug like sometimes work sometimes really annoy enable permission checked everything pls help fix otherwise awesome thanks awesome gameplay awesome thank',\n",
       "       'great definitely worth get battle royale great walk building whatever there loot ground gun ect dont show floor walk round aimlessly come onto nearby list also recently issue completely glitch restarts phone frustrate however actually work probably best cod like',\n",
       "       'sad say really love late gameplay awesome battle royal lag lot mic reason never work use discord please look matter really pain good championship give advantage thank could please give south african server aswell ping also good lobby ping well give advantage',\n",
       "       'love issue like pubg fortnight runs smooth kaboom mic actually work without wifi lucky draw fix expensive basically scam short buck credit purchase unreliable crate chance low expensive every time buy something something well come along make regret want spender reward people spend need party controller mapping support bought say work lie thank',\n",
       "       'really like new gameplay awesome problem mic play need manually change friend team previously auto issue thought device switch emulator issue happens kindly please look thank give star fix issue',\n",
       "       'great love new map gun problem many many microphone work time sometimes get ta restart time finally able hear talk friend please fix issue hand well do great',\n",
       "       'really good shoot wood crate shoot brick wall metal wall also make challenge say win round map would make even choose make begin would make lot enjoyable also gameplay awesomes big ever like one gameplay awesome gig room like anything else suck',\n",
       "       'sone voice glitch lobby also battle royal mode sometimes hear team mate lobby suddenly enter battle royal one hear one team radio please fix give cheap stuff buy bcoz really expensive try give cheap cool stuff average get new character stuff easily pubgm last year time codm shine hopefully cheers',\n",
       "       'multiplayer mode best compair mobile game battle royal ranked attachment make sense plus auto shoot bit delay time fine auto shoot enemy prone even shoot trip mine n rcs aim wish fix issue people say gun status correct know correct',\n",
       "       'new season implement quite fun new know season end like season complete one objective get cordite receive indication objective practically last day progress naught completely erase everything change new season quite annoy almost want quit altogether new season cool stay',\n",
       "       'awesome able draw lucky board day season also report lucky board response cod team please check id issue screen display watch intel briefing today watch intel briefing midnight utc look issue revert back thanks advance cod team awaiting response',\n",
       "       'thissss gameee time fav admire cod franchise childhood want ruin gameplay awesome many issue like match make server issue ping etc annoyed render issue like someone kill even frame mosttt annoying plzzzzzz fix plan get leader board season issue sucksi push hard get legendary',\n",
       "       'really anymore might one best fps game mobile surprising since tencent also make pubg mobile partial controller support nice relatively intuitive control combine least decent graphic everything else normal cod experience overload menu annoy leveling push notification nightmare though',\n",
       "       'love best mobile ever played love pay win free player also enjoy however problem mic even turn either friend cant hear cant hear friend also hope change way add friend queue bcs select friend time want invite',\n",
       "       'nice enjoyable addictive good graphic many good gameplay awesome per week enjoyable best multiplayer give five star solve gameplay awesome problem ok problem happen like update first time go show download pending ok thank',\n",
       "       'game awesome hate lag get notification apps turn notification able great wish way get cool stuff instead pay bu next season itll something newer youd want obtainable either purchasing complete task',\n",
       "       'error error show everytime want start though good internet connection error message say sorry error google download please make sure connect stable network try later solve please go official website community page help please help resolve issue',\n",
       "       'best ever played still room improvement late update lot bug glitch till think season well rank problem stuff also point rank increase much season br encounter one big bug like load screen glitch mic button small lag also lobby etc',\n",
       "       'great game experience wonderful graphic crisp movement sensitivity giving star glitch multiplayer mode opponent prone mode weapon catch aim unfair many instance hope developer could improve otherwise great',\n",
       "       'love rilly fun enjoyable friend every day like pay get cp point battle pas like talk friend teammate since season come voice chat work right pretty shure crate rig',\n",
       "       'great recommend lot fun play issue lag even though good wifi main problem lately log download configuration fail even though connect strong connection anybody encounter issue would love solution explanation say work amaze',\n",
       "       'star first thank lot big change gameplay battal rotal become good multiplayer big real issue time become bad gun list sort gun skin upgrade folder forgun name battal royal gun list wish lot come happen fast ad',\n",
       "       'issue recently mic seem work properly play team fellow team mate able hear even face issue sometimes log log sometimes mic respond kindly solve issue asap',\n",
       "       'amaze problem earlier wifi problem still disconnect game ranked match couldnt reconnect make penalty please make system detects player disconnect due reason purposefully disconnect',\n",
       "       'fun even wifi bluetooth earbuds connect solid ping cause problem player may play long two three week approx notice glare aspect heard people connection issue random bug middle map make unplayable experienced issue random scream nothing beyond annoy',\n",
       "       'great win pay win pack worth spending like look good lol like mobile experience console update provide console experience rate need good processor compete high level',\n",
       "       'love literally best could find genre graphic simply amaze everything smooth wow recent update discover something absolutely like ppl start spawn everywhere spawn directly enemy spawn point time spawn right behind back really love abandon world please change really annoy piss everyone',\n",
       "       'amaze great graphic great gameplay brilliant concept reason give star lag especially battle royale though get ping lag often br especially fight enemy overall amaze',\n",
       "       'best ever played mobile much lag update earlier morning still played match yet connect match aim sight really good recommend add scope battle royale like pubg mobile lot scope scope great long short range hope u see try fix lag bug add scope next update thank',\n",
       "       'like thing make sense good word comic last season good word also bomb kill make sense kill whole tanks also need remove take solo edit rank lose many rank point due teammate make top three lose team get point take away',\n",
       "       'one best shoot flawless enjoyable high speed data connection story completely different slow moderate data speed lag issue slow data speed instead provide weapon different colour new weapon add add extra charm please add map frontline mp mode lastly best shoot thanks',\n",
       "       'good fps mobile like yo change well bad ill post p fkn mp gun accuracy seem like gotten point ssux update make br mode change parachute seem slow land uncontrollable scope wavy thing seem idk real good way lag unheard like good connection lag like odd slow movement maybe maybe device sux emphasis cod mobile',\n",
       "       'know kind change guy make audio aspect comms work anymore either cant hear teammate hear pretty annoy makes wan na squad fix guy else guy gon na lose lot active player',\n",
       "       'great perfect graphic new tank item unfair really hard destroy tank team get tank first winner really bother get kill tank unskilled destroy tank opinion time limit minute use tank much easy destroy delete tank item could much fair enjoy thank',\n",
       "       'best mobile fps period oneplus device dont get extremely frustrate lag black screen middle match play since come amaze experience crate draw waist cp unless purchase waste cp crate useless item piss flaw feel cheat purchasing nothing else base battle pas get new phone work flawless guess support',\n",
       "       'love take load also sure randomize team u play people level think always level unless u join ur friend high level anyhow like say love',\n",
       "       'like game system mini version awesome however play battle royal occasionally crash go black l new update look fantastic especially worg tank im lag much time time gotten well wish get compensate blackout',\n",
       "       'developed long way initial update almost fix every bug initially found still bug present network issue shot never connect even u correctly aim even low ping possible still smooth experience u would get console cod snipers shoot scoping use scope shoot button separately snip totally different cods',\n",
       "       'excite update happy notice battle royale display size teammate class small pretty good hope u guy r gon na fix find option setting change size update good n clearly visible barely read name n identify class thank',\n",
       "       'love doubt play since cod introduce pc game mobile version also good sometimes enter mp match team always lose already start hate side u enter match battle royal mode new map thats everything great far',\n",
       "       'really good recent update brought new lucky board get character skin etc watch ad stubborn get deny chance tell exceed quota ad day unable see even one ad day update pls fix asap',\n",
       "       'fun good graphic hope get different weapon different skin also would randomly freeze way continue would close completely start back right away match still go resume gameplay u play br time restart phone get kill would resume screen would regularly u die thank',\n",
       "       'fine last update seem main screen cut paste layer point hard tell also trouble load weapon show look overall excellent enjoyable unrelated note hip fire somewhat difficult joystick look around side hip fire button star issue resolve',\n",
       "       'great multiplayer shame zombie mode would great could get old map waw black opps zombie add crazy easter egg aliens could shoot roger family guy easy add new unlockable secret weapon pakka punch blow style make fun playable get probably best release ever good total',\n",
       "       'every mobile played best bad thing buy battle pas get like even tier get next battle pas free really concern bcz like pubg give next battle pas free complete previous bought think mobile gamers like friend quit codm think codm fix mean nothing fix ya kn wht mean',\n",
       "       'superb enjoy deal still issue like run mic suddenly stop work sometimes also screen go black one big issue take loot airdrop water note season bad thing hardpoint map like tunisia plz make map available mode',\n",
       "       'love console game change star bug longer stay alive br likey freeze loop match understand big map alot player per server please fix using note fiber optic wifi',\n",
       "       'update season open go spin get captain green lime tap watch video show watch enough video watch update thursday please check watch happen account login facebook',\n",
       "       'play non stop since feb really downside apart penalize well battle royale always fault team mate glitched floor rare though great otherwise',\n",
       "       'one best mobile shoot game ever played part people make love reason star rat cod point wish could least win enough get stuff buy cod team least make challenge get cod point',\n",
       "       'really good season error battle royale season bug fix cod team work thankful star reduce issue play lucky draw video free coin unavailable please fixx otherwpise really good',\n",
       "       'best first person shooter ive played yet far love thing dont understand sometimes unload almost whole clip enemy turn shoot twice im one get kill sure sopposed way dosnt seem fair four thumb',\n",
       "       'experience overall good come comms work lobby talk properly problem comms dissappear sometimes hear teammate back comms audio mic nothing work major problem cause play team group friend communication key especially upcoming tournament please fix audio issue',\n",
       "       'second time report issue nothing fix correct last last season premium battle crate award geometry never make loadout paid real money prem battle pas get huge old fan used purchase game please correct fair another bug drive crazy complete daily mission dont receive point fix',\n",
       "       'really fun ok free item really get anything good u get ta spend like dollar worth cod point order even come close get something cool really awesome suggest everyone start add cool stuff grind add new map every month everything flat good nice job everyone work still continue bring cool thing',\n",
       "       'free say really sad cp currency obtain buying could give cp day good idea maybe turn c cp want good idea cp per ad really dissatisfied get amaze stuff cp get glittery textured gun skin thank',\n",
       "       'love reminds good old day wish get legendary weapon easy play past season fell love effect problem spent get legendary weapon think able convert credit cod point make drop rate large',\n",
       "       'everything correct except mode ranked match remain part wonderful anyways practice v ai fascinate mode allows u relax losing consecutive ranked matches teammates skilled expected solution anger control losing ranked match practice v ai ensures sure win',\n",
       "       'still cut full connection tempt spend money believe payer get preferential treatment also use bluetooth controller mobile phone sony strike could link phone ps would buy another',\n",
       "       'codm definetely one best best shoot multiplayer lot mode definitely friendly make worth well cool skin character gun give star rank system rank mode specifically ranked mp pretty flaw main thing hate get point take away lose there event every new moon lock point think deduct point norm',\n",
       "       'opinion best playstore would put star wasnt laggy lag constantly ruin experience good point watch people would spend money could often love cod series play laggy kinda make sad please fix lag bet people already',\n",
       "       'please fix problem make game experience well battle royale work play br suddenly device restarts also happens multiplayer also sometimes screen turn black randomly plus screen get stuck load please patient percent high hopes',\n",
       "       'fun addictive load different playable mode great graphic gameplay control place pretty lackluster payment department support gpay support mere country compare something like paypal support whop country across globe fortnite support paypal huge win star guess thank',\n",
       "       'enjoy mobile need zombie mode literally big tease get zombie mode get take hud screen look excite without clue come back bring zombies back leave rate',\n",
       "       'best shooter ever played galaxy bug battle royal mode screen turn black one twice match battle royal hope fix update wonder voice ok screen turn black loose every match get star fix problem thanks care support bye',\n",
       "       'nice enjoyable fun lot shoot plus lot mission lot price win advance level pretty quickly upgrade weapon sweat favorite mobile right',\n",
       "       'awesome issue face battle royale even let move smoothly map get frame lag screen becomes frozen im able hear audio try restart enter match screen get frozen issue may season come love battle royale get love codm official need optimise properly u',\n",
       "       'fix damn spawn ffa horrible fix matchmaking ranked get team noobs carry team full pro sweat setting make shoot automaticly op noobs use lot probelms mention good get annoy time everything else amaze thank',\n",
       "       'play uncalled lag network signal spawn team able kill die hearing team announcement screen randomly go black still player turn invisible sometimes weapon aim fire use controller etc thing fix edit review get fix',\n",
       "       'love amaze problem experienced battle royale blackout issue although get first time sice start play month ago still new update problem free lucky draw freeze please solve problem hoping see improvement bug fix season would great optional downloadable campaign mode like call duty title',\n",
       "       'love bought bp play since last year recently app turn black crash sudden middle especially br cause lose battle please fix bug make money time worth',\n",
       "       'encounter glitch profile pic change even change facebook log several time issue persist please see great love everything improve every update',\n",
       "       'everything good problem mic even turn teammate hear turn permission mic still doesnt work request call duty mobile see matter fix mic bug',\n",
       "       'solid person shooter especially consider mobile yes pay win yes balance yes one us team chat awesome regardless recommend bluetooth controller xbox one controller pair phone turn option setting put sensitivity high absolutely time well feel natural massive improvement screen control get',\n",
       "       'love although wish button press want shoot instead aim enemy gun shoot love think download unless allow gun game',\n",
       "       'overall good multiplayer mode awesome need improvement battle royal mode graphic control movement fix mic glitch also friend also hear sound mic show error please fix soon possible',\n",
       "       'love new update lot bug especially voice chat cant hear opposite team despite friend channel play private match please fix asap enjoy new season tyvm also please add free core mode',\n",
       "       'remember pretty rude reinstall actually work yay one picture zombie mode wish bring back want see like like plus think thing good zombies mode mode attack undead way forgot thing zombie thing anymore',\n",
       "       'love give star still season get new map battle royale mode although major update old map still map new zone add give star get new map battle royale mode',\n",
       "       'accept payment purchasing battle pass fill bug late update voice chat buggy crash would give longtime cod do issue really put mobile version',\n",
       "       'originally would rat star best mobile ever recently become buggy maybe server overload recent upgrade help much however still best mobile ever',\n",
       "       'season run well device season get lag spike like crazy server lag terrible sad see favourite go path every update get harder harder run device mine heartbroken',\n",
       "       'best played take much space thank',\n",
       "       'good till season keep crash black screen majority android device please fix quick tournament stage come',\n",
       "       'nice graphic good everything thing else good',\n",
       "       'mean love fun reason redownload',\n",
       "       'slightly lag opening pls try improve',\n",
       "       'amazing awesome gameplay excellent graphic',\n",
       "       'great would like see option different map like airport skyline make scenario interest',\n",
       "       'good time',\n",
       "       'good noooob player pro player please cause great problem pro player win',\n",
       "       'good sense update lot bug found main screen second model pose background face backwards every time enter multiplayer music start play know turn even though music option turn setting continue non stop unless close often crash cause much lag close lose ranked points',\n",
       "       'bit laggy im play',\n",
       "       'goodgame please put erangel map also battle royal',\n",
       "       'update definite performance improvement far good',\n",
       "       'awesome sever problem',\n",
       "       'fun great graphic support please take search destroy ranked bad mode player agree fun especially team get as whoop enemy bring demolition make ranked would way competitive fun',\n",
       "       'thik thak ha', 'delete zombie multiplayer fun fw tho', 'ok',\n",
       "       'nice take lot data download', 'please remove bug give',\n",
       "       'extremely good ply fix lag battleroyale mode',\n",
       "       'call duty mobile dope af trash haha',\n",
       "       'last update mic work properly communicate squad',\n",
       "       'fun need story mode', 'good awesome gameplay excellent graphic',\n",
       "       'nice', 'awesome forth number world best game little laggy stuff',\n",
       "       'problem update always big every wifi even pubg gameplay awesome big',\n",
       "       'good good graphic love new map expansin new battle pas think make well campaing story line',\n",
       "       'big expect bugs good say best doesnot suit like though',\n",
       "       'good enjoy lot play think clip previously played game know fault learn new strategy atleast half day hr availbale watch',\n",
       "       'beg name god remove tank br level play field javelin like',\n",
       "       'pooping time well',\n",
       "       'godd bring back zombie make dereisendrache zombie map please',\n",
       "       'great',\n",
       "       'good graphic nice character also like map thaf much star',\n",
       "       'like much begin wait long battle royal map salt',\n",
       "       'better free fire hopless land well pubg good graphic high storage',\n",
       "       'really like quallity low',\n",
       "       'great awesome gameplay excellent graphic',\n",
       "       'great time killer especially friend feel like console version minor difference take away br chat seem bit iffy hopefully improve chat department well communication friend',\n",
       "       'forever download',\n",
       "       'good use wireless controller us usb wireless plz fix',\n",
       "       'br mode nice also need finish touch mr mode best really fun',\n",
       "       'improve lot awesome gameplay excellent graphic',\n",
       "       'add hardcore mode',\n",
       "       'good lack much always lack take much data much data problem',\n",
       "       'absolutely amazing season minor issues great', 'best shoot ever',\n",
       "       'bekar ha aaathu', 'good love thou improve shoot skill',\n",
       "       'good awesome gameplay excellent graphic',\n",
       "       'good without friend good zombie battle royal good upgrade vehicle control get skin like fortnite',\n",
       "       'guy add ground war mode conquest mode like battlefield codm',\n",
       "       'good give best update miss zambie like pic story new mape battel match put fly ship cool tank supper cool like',\n",
       "       'everytime one shot one kill freeze boot whole phone restart',\n",
       "       'know phone probably suck take much space give star review gameplay fun chat mostly nice new player graphic good',\n",
       "       'good',\n",
       "       'change region join mate competition region mine say reason',\n",
       "       'difficult indicate direction map add map indicator function',\n",
       "       'amazing awesome gameplay excellent graphic',\n",
       "       'splendid though alots huge space graphic gameplay every mode outstanding',\n",
       "       'fun decent mode glitch random screen flip music glitch play music louder sound also cant mute might cause headphone also appear music ever use',\n",
       "       'awesome really fun make enjoyable add feature cod war zone',\n",
       "       'good man war good', 'good awesome gameplay excellent graphic',\n",
       "       'b force b ops pubg call duty well game rate star think sometimes free cp coin make well know championship cp also thanks good',\n",
       "       'fix microphone access error',\n",
       "       'good problem story mode want many player want battle royal interest add story mode like cod type modewe need please improve battle royal mode please add story mode amaze story mode free mobile good grafix',\n",
       "       'nice experience awesome gameplay excellent graphic',\n",
       "       'great lot bot also glitch get app screen blank white',\n",
       "       'multiplayer mode awesome battle royale suck bad please fix graphic like pubg',\n",
       "       'fun every one must try',\n",
       "       'love best ever even probleme voice chat thank',\n",
       "       'good automatic aim annoy', 'challenging need broader map',\n",
       "       'awesome gameplay excellent graphic prolly best mobile right',\n",
       "       'lasr updation start lagging thank',\n",
       "       'many manoeuvers need do match finish one land main screen',\n",
       "       'great seem like move around seemingly anymore get back position',\n",
       "       'awesome lag much always space improvement also improve map graphic little bit',\n",
       "       'ok good real cod modern warfare need private battle royales',\n",
       "       'best ever played friend play every time every one call duty',\n",
       "       'cod best ever', 'love hope fix server',\n",
       "       'overall good go wrong remove zombie mode remove battle royale instead cuz cod actually famous multiplayer anyway hope cod rethink consider opinion',\n",
       "       'excitingly good face small issue say sometimes suddenly close play battle royale match annoy humble request solve problem tell something solve problem please solve problem give five star',\n",
       "       'hii cod work whenever try enter cod like error something playstore something like network problem',\n",
       "       'kove cod please bring back zombie mode love option want three different mode',\n",
       "       'great multiple mode captivate weapon skin qualm controller balance appear least one allow team majority player still significant advantage mobile matches take pick player early earn scorestreaks recoil management aim farther seem lot easy something do offline also add potentially bot like console game',\n",
       "       'good graphic awesome gameplay excellent graphic',\n",
       "       'still lag battle royal', 'plz make ranked skilled base plz',\n",
       "       'good awesome gameplay excellent graphic thank',\n",
       "       'good take along time install update every time try update first try almost do stop restart proccess give star control everything perfect',\n",
       "       'awesome gameplay excellent graphic good', 'every time br crash',\n",
       "       'good battle royal large bring weapon new mode',\n",
       "       'fix matchmaking constant tdm season',\n",
       "       'please go back last season battle pas get item every rank increase whether paid premium also bug delete friend still count towards friend total add even clearly limit add friend like great skill balance issue player pay premium',\n",
       "       'great love play experience get well new modification though area sure anything weaponset character select get backpack stuff yet able set character weaponset also helmet interchangeable clarity would great use remove',\n",
       "       'would give could best fps ever played graphic awesome weapon incredible multi battle royal mode booooooom except fact add certain friend update keep update much still love anyways thank',\n",
       "       'love beta tester gameplay awesome problem email issue fix new thing improve yall experience lag probably phone service always want little well minimum requirement people like great service really nice phone lag battle royal mp likely due hacker hack cause lag hope help enjoy',\n",
       "       'update play battle royale awesome still would could actually stay keep shut minute idk happen would like anyone else experience someone help reguardless issue still rate star try cant live without please someone help think die dont fix',\n",
       "       'bet best mobile planet amaze freeze lag lot play lag problem frequent play battle royale developer fix big issue soon possible reporting issue month solution please fix please',\n",
       "       'probably one best game app store absolutely drawn different mode classic match make variation also battle royal ranked zombie lots content explore lots custom control option match make seem balance far fine example standard future mobile game employ bravo',\n",
       "       'excellent lag issue rarely encounter suddenly close app run smoothly graphic amaze gameplay fantastic different mode great addictive minute end play hour fun personally one best mobile game ever played thank',\n",
       "       'fun addictive fps game much fun multiplayer ranked match battle royal know favorite want go back finish undead even make lot friend idea make lot plus would always go back prize finish objective feature far favorite thank activation infinity ward timi studio tencent game',\n",
       "       'fantastic never played call duty title surprised enjoyable graphics spectacular look decent less powerful device super plenty content new season every month new weapon map mode scorestreaks operator skill controls one strong point useable overall fantastic almost every way definitely recommend',\n",
       "       'truly exceptional really great job bring cod traditional gameplay go controls fully customisable overall run well many device mobile business multiplayer probably best battle royale rest great lot fun highly recommend new player genre aswell competitive player',\n",
       "       'fun addictive like call duty want go feel like sit front console great way get fix map previous game weapon loadouts great easy use new skin weapon able earn purchase everything need call duty mobile',\n",
       "       'excellent love cod favorite consol must great thing dont spend money advance make thing pretty dang cool lol played alot game mobile end delete long acouple day get bore do outstanding job mobile could rate star would sure cant wait see else store u later love',\n",
       "       'six month one best mobile fps game although control bit clunky first eventually get use good call duty fun gameplay highly engage graphic amaze mobile app purchase affect gameplay exist unlock cosmetic highly recommend',\n",
       "       'awesome keep entertain awhile doesnt glitch basically run place uninstalled reinstall like twice still please fix asap edit holy hell guy fantastic job smooth update everything need timing perfect getaway sure appreciate improvement',\n",
       "       'wow love mobile addict game college year decide quit console affect work life monitor use phone help stay within range mode amaze except battle royale lol would suggest parent pay attention say chat room report chat w joke underage sex racism company also update faq link glossary thank',\n",
       "       'great actually stop play everything perfect graphic gameplay season battle pas useless must say told u military base experience character look like cleaner need soldiers main idea come mind hear call duty continue change way like loose fan gradually',\n",
       "       'issue pair player put beginner say level far experienced player say lvl cap range play team team one play level high development allows get well overly discourage thank',\n",
       "       'cod fan long time use pc skeptical mobile interface good pubg something really addictive could fact cod could comfortable user experience whatever reason hooked onto multiplayer battle royale due love fast lag issue stability seem improve day day really good love',\n",
       "       'amazing intense immersive although complaint regard vehicles need work probably clunky part makes pubgm drive feel like heaven audio need work may already know definitely big gripe world chat absolutely need moderator never see toxic racist chat life trolling trash talk apart culture sure damn need mod asap',\n",
       "       'gameplay fluid awesomely optimise mobile device action gunplay exhilarate yet smooth combine right amount pace movement fight roam personally favour multiplayer mode fast crisp numerous mode event map love control far best control experience shooter smooth easy cope beginner swift extremely responsive fully customizable',\n",
       "       'say goodass know whole lot gameplay yet get watch as mine online would give five would give five point war wing equal least say whole lot continue learn get well well continue kick ass goodass come get motherfukers',\n",
       "       'reluctant try play warfare warzone pc god damn good job typically like mobile game since bit cartoony excellent include numerous map pc console version along gun game mode play controller found anything dislike plain fun run smooth good job devs thank',\n",
       "       'like cod modern warfare black ops infinite warfare like damn near like game except mobile like spend money get well stuff need never smack people spend money update often new map mode scenario etc update change v v battle royal gun one shot one kill etc etc dont loss',\n",
       "       'helarious play alot time level enough well pubg wish give googol star thing improve try kill guy scopeing dy time try kill guy scopeing dy couple second pls improve',\n",
       "       'amazing give star would impressed well make edit last year write say disappointed battle royale mode since laggy buggy atleast right developer impressed improve much last one want give quick thanks developer thanks fix able battle royale mode also friend thanks',\n",
       "       'cod mobile best playstore pay season much great play friend bit toxic community voice chat serious issue easily conference call gameplay excite lay new season plus developer aware curre event use platform help marginalize community pretty minimal still rerate see fit love',\n",
       "       'hi big fan game suggestion make enjoyable talk br mode addition tank awesome increase number tanks please point important add new class name engineer man job fix tank vehicle get damage add scorestreaks br mode wonderful like kill enemy call airstreak hit tank something like',\n",
       "       'probably one mobile game willing pc console fun force pay anything pay win item pay unlike game like raid rarely mobile game since bait player pay money gameplay lastly gamepad support ice cake',\n",
       "       'amazing really give complaint run generally good choppy phone low end something like super low graphic low end performance mode would incredible really wish different classic queue system like etc well prestige people already level much get level',\n",
       "       'sometimes suddenly kick app middle open app find middle battle kill please fix errorthe new update voice chat horrible always huge f issue update need fix asap sorry season far like',\n",
       "       'awesome everything graphic feature event perfect totally love gameevery season update give glow make well well even though girl like much well pubg',\n",
       "       'everything excellent must expand airplane line start due reach respective destination still try reach destination airplane go certain distance please extend distance airplane till end map overall everything excellent thank',\n",
       "       'would thought quality could possible mobile phone think best app ever instal come person born grown basic cpu game console well do team impressive thank make possible cheers',\n",
       "       'far absolute best ever played mobile device come top free buy thing want time want still kick as like anybody else far number one book keep like perfect keep good work truly like play playstation xboxit exactly look like play love tx',\n",
       "       'love star there always room improvement guy post gameplay awesome pretty consistantly always fix bug gameplay smooth fair need pay win worry best gun thing different paint stats pay really cosmetic thank',\n",
       "       'hey cod mobile game experience tremendously awesome far however reason update season keep crash load screen really like enjoy new update everyone else really love would appreciate fixation would make possible',\n",
       "       'epic versatility game experience make easy pick person shooter market available today highly recommend anyone regardless experience fps video game look forward see evolves future thank',\n",
       "       'fantastic certainly make covid home bearable especially android phone accepts wireless controller experience like play console limited mobile phone new update season shall see good continue use oneplus game speed graphic immensely satisfy say well samsung apple platforo',\n",
       "       'great way pas time call duty mobile provide good balance quality gameplay well ability customize soldier item three week good would recommend anyone always want cod played online game console mobile experience',\n",
       "       'good weapon use smgs sniper smgs well almost every single assault rifle fire rate damage compare accurate range fire rate damage smgs outclass every weapon every fire fight mid close range majority fight also need buff pathetic',\n",
       "       'one stress buster lockdown period quite frankly always big fan cod since childhood handheld device phenomenal experience glitch software talk get well time excited season kudos developer work rigorously improve',\n",
       "       'honestly know start first graphic good never see mobile like preformence good lagg love feature make u choose low medium high preformence like feature beacuse everybody get diffrent phone diffrent limit thank',\n",
       "       'give update season opening say good network connection really strong network connection say solve problem go personal official page anyone please say personal official page call duty',\n",
       "       'holy smoke get much well get pretty bore season please fix lag issue run mbps sit right next router still lag every occasion per battle take kill anyway guy graphic frame rate automatically adjust prevent lag awesome assume get well well like hammer say touch',\n",
       "       'season app segment woah mean really grow new update wow yeah say new map neither less game segment compete someone prefers quality surely go tech amaze team work perform exceptionally outstanding awesome',\n",
       "       'honestly love never realize much effort work tencent do like like household game console come mobile game love wish warfare could get different map complain much go pubg',\n",
       "       'love multi enjoy mobile version matches quick join control responsive graphics good easily tune device spending time cod warzone due able jump br less half decent pc use gameloop official pc emulator',\n",
       "       'well built mobile shooter br snip need slight fix like see one hit head shot legendary one like see thermal weapon thermal ars smg lmg would rock also would love see br base team team defend gas mask set target say x amount time team assault try destroy end destroyed circle close',\n",
       "       'think great many game option multilayer really enjoy br map vast fun would like skin character choose purchase battle pas annoy little bug problem patch available time awesome gameplay excellent graphic thank',\n",
       "       'graphic awesome lobby best ever see even sound effect flawless especially update make even well overall best play never felt boring would take lesser storage space could well still leave youll get connect',\n",
       "       'awesome truly like version quality control bang aside issue earlier mention left side shoot button drag left analog sprint one thing get fact brought zombie survival n much fun there zombie still option zombie load wich rub face upon time could zombie bring back plz',\n",
       "       'overall great experience beautiful graphic mobile exceptionally good gameplay con addictive free reward bring whole new level fun challenge complete there always something keep player happy cod mobile team community always bring great addition',\n",
       "       'top reduce input lag bluetooth controller would like see switch controller support could hide mobile hud use controller br mode absolutely like suggestions could pull parachute similar warzone would nice best mobile yet even without use controller feel right thank',\n",
       "       'good try join beta version many day showes price take time remain frustrate accuracy aim shoot need update matter bullet hit body die awesome gameplay excellent graphic thank',\n",
       "       'favourite time thought pubg well app pubg like pubg way well battle royal fun play becomes boring new update rust much fun battle royale want zombie back family would kill zombie creator cod please bring back zombie wan na please',\n",
       "       'one fabulous game ever played would support codm pubg mobile play cod since pre season make lot improvement gameplay new mode new map amaze see go pre season season well timi game well do tencent game make fabulous would love gameplay awesome tournament thanks amaze',\n",
       "       'excellent long stay way change issue account need sort though randomly sign account disconnect due latency loose xp gain match penalty also people cheat take advantage like spawn trap kill need sort give star thing change rating go',\n",
       "       'best shoot ever played graphics awesome mode cool loadout many gun mind blowing skin really love one problem hard point multiplayer battle royale show point obtain team number player alive',\n",
       "       'download yesterday use samsung galaxy metro experienced lag type bug operating system one best shooter ever played cell phone highly reccomend download see battlefield awesome gameplay excellent graphic',\n",
       "       'blow mobile apps water recently figure get controller connect phone hop ability menu without touch phone doesnt hurt gameplay tell difference cod use hit nostalgia every map',\n",
       "       'awesome control smooth graphic superb multiplayer mode great play battle royale screen simply becomes black middle nothing screen restart request cod mobile team fix issue love play thank',\n",
       "       'beyond expectation awesome keep get well season love second none guaranteed new update forget offer half much call duty mobile say enough good',\n",
       "       'awesome control excellent gameplay impatiently wait cod mobile release officially play month disappointed multiplayer mode also amaze graphic mind blowing plus battle royal cherry cake hope new map battle royal come soon awesome gameplay excellent graphic',\n",
       "       'time review final mobile version give classic cod experience remember love finally give star occasionally receive phone call text message would mess connection ranked match get point penalty leave match never fault thankfully reconnect match hands well store',\n",
       "       'really love much usually finally decide update also miss zombie well much first come addict zombie anyways want say thanks activition company without game would boring thanks activition keep good work',\n",
       "       'love best multiplayer action shoot mode less time also waste time bore quick min relaxes try join beta version take lot time even say join since last day even iam able join beta version awesome gameplay excellent graphic',\n",
       "       'touch counsel since original xbox playstation home time wish could year even first ever download phone could pleased experience far clue speak far graphic match council blown water great job cod team thank',\n",
       "       'new rating unsatisfied know user use cellular data play game etc situation gb update installation sort impossible sometimes download get disconnect automatically please solve either lessen update installation make gb let u download update part please ping unbearable awesome great graphic great innovation future ready concept',\n",
       "       'shoot game best kind online offline multiplayer many different mode u quick longer soooo many different gun couple different class u choose u want thanks developer keep entertain dont buy ofcourse u get u buy u dont need star',\n",
       "       'never console grow miss whole cod experience big fan team battle royal feature amaze hardly even pubg anymore fun nice job additional edit next update installs updating review keep get well l finish last season master good old noob',\n",
       "       'honestly really good mobile probably best played love music auto aim annoy u know know use ya learn rly good get good gun ur play style dor multiplayer get later people say battle royal lag phone problem rly get lag multiplayer amazing u team friend try new mode come every week review bye thank',\n",
       "       'love concept graphics everything etc playing screens getting black hear voice co know problem mobile also pubg issues till date love pubg everything due issue close open comes minutes screen go black kno awesome gameplay excellent graphic',\n",
       "       'best mobile far spend money want extraordinary amount content graphical design phone battle royale huge mobile map google pixel play seemlessly long internet connection par well would pass playstation console except community great say file subsequent seasonal gameplay awesome large memory space confine thank',\n",
       "       'absolutely love definitely stand legendary cod status story mode would ice cake though battle royale good sure gon na get well gameplay awesome need female character need gun would love see addition uzi scar aug double uzis would kick as addition need map battle royale network error result penalty ranked match',\n",
       "       'season update suck partiality want win match battle royal buy premium pas let win give battle pas holder less damage combat kill easily give damage pro legendary rank holder br match b pass holder use emote match continuously fire effect say bt allow',\n",
       "       'honestly really freak cool atleast day daily reward rarely crash mostly cause heat phone many open apps notice though player screen tends crash wish could get cod points earn think kind bummer pay flashy stuff free app get ta make money somewhere guess',\n",
       "       'mobile do right could download one mobile would spend money game industry favor spend buck watch ad industry know quality expect consumer gratitude developer put together great without constantly try take money pocket great awesome gameplay excellent graphic',\n",
       "       'honestly best ever come mobile devs listen community ban hacker always bring amaze new gameplay awesome make soldier base cod specialty unlike pubg new stuff pay option give best reward depend skill amount money spend nope way people player must try since strategy unlike pubg',\n",
       "       'definitely favorite mobile honestly complaint wish could turn icon change hud layout limit set screen really fun tho spent may normally spend money mobile game also really wish could get beta tell im join day never join',\n",
       "       'lovable mode playability adapt new system generation even hook entertainment free plus buy extra stuff actual swag new gen love love new battle royale simplify utterly awesome classic xbox cod franchise fan new fortnite mode lover gen',\n",
       "       'well make enjoyable addictive hard get bonus hoping developer would bring back zombie mode sadly get also please improve br mode need play mode atm boring also kill confirm mode standardise thoroughly enjoy awesome gameplay excellent graphic',\n",
       "       'played many mobile shooter far best one great graphics great controls lots fun know people complain mobile game pay win one isnt three modes zombies multiplayer battle royale zombies remove lack quality always improve gameplay awesome new battle pass new mode multiplayer never get old love great job developer thank',\n",
       "       'hei unfair archive legend league br season get money supply league unfair even get skin ak give wc tournement like becouse thing make even get free draw watch vdos unless graphic control good choose cod mobile plz kindly take step make well thank',\n",
       "       'bruh say like best mobile played far sometimes lose sometimes win know stand number one intense fun constant gameplay awesome like want recommend reading bot trust',\n",
       "       'awesome good control graphic best ever played never bore pubg bad boring hard cod bit easy pubg cod get skin accord level tier lubv use money real money conclude say call duty baap pubg season awesome gameplay excellent graphic',\n",
       "       'bad thing lack multi touch support use three finger simultaneously thing notice unable get sometimes keep load forever recommend hope fix soon',\n",
       "       'everything wonderful hate fact necessary reach top ranked level ranked battle royale match demote elite rookie ranked match pro veteran battle royale yet second time aggravating please change thank',\n",
       "       'game like annoy like character need pay real money stupidity like like game app cool lucky install app first time played app felt like best ever played love take lot gb thank cooperation awesome gameplay excellent graphic',\n",
       "       'almost perfect battle royale add follow best ever please allow u drive tank put death machine helicopter rear passenger compartment put military plane jet well let u dismount death machine antelope carry put version battle royal team capture land across map hold terrian defeat opponent big team updated star cause put tank thank',\n",
       "       'skeptical qt first good phone game control honestly say one best phone ever played cod always favorite military franchise system mainly campaigns cellphone point say buy season pas guy deserve thanks friend',\n",
       "       'really good already fan call duty also love way multilayer mode work battle royale problem phone use old version would like fix everything good thanks lot create cod mobile',\n",
       "       'best completely free option buy skin stuff definitely pay win quality constant gameplay awesome far best graphic mobile mobile device say enough good thing exactly expect cod get ready grind amaze',\n",
       "       'awesome best mobile yet app need download great graphic awesome online want put close console get mobile phone best weapon upgrade well scorstreaks perk could go jump find hesitate come emerse one best first person shooter game time thanks awesome gameplay excellent graphic',\n",
       "       'crash middle sometimes get message connecting cant properly please something network issue time end lose side clear cache instal issue remain never face network issue pubgmobile im take back stars issue clear',\n",
       "       'awesome enjoy play graphic perfect mean know else explain download try see mean get lose try like uninstall tell disappointed addict play call duty mobile best mobile found yet join u come thank',\n",
       "       'bug occur black screen crash frequency every match one five match completely random etc completely random modes mp br mode mode main menu last minute potential trigger always occur x action anything specific nothing smecific device version number samsung galaxy sm uid username',\n",
       "       'good easy get hang good battle royal dont like much tho hard get hold hard see place map mini map could prove also sometimes multiplayer lag die cant try win battle great',\n",
       "       'far best first person shooter store apple store etc hard work year make incredible series call duty game mind blowing graphic well amazingly real campaign play call duty mobile quite bit long ago remove zombie rely sad also kind annoyed single cod point give prize ever awesome gameplay excellent graphic',\n",
       "       'good mobile uave played perfect way u mix mode together e x u mix rapid fire free something similar thank make hope u great day black lives matter goes racist people thank',\n",
       "       'good awesome gameplay', 'good thank', 'bestest must try',\n",
       "       'like pubg good job creaters awesome gameplay excellent graphic',\n",
       "       'addicting use everyday', 'good', 'super first wow', 'great',\n",
       "       'awesome', 'good yes', 'osm game',\n",
       "       'awesome gameplay excellent graphic', 'love love cod',\n",
       "       'awesome cool great use hard time sometimes try get new gameplay awesome tho',\n",
       "       'u offline aswell', 'awesome', 'good', 'best ever played',\n",
       "       'really great love play', 'good thank',\n",
       "       'good awesome gameplay excellent graphic',\n",
       "       'beans great star pay win skills win really great beginner experienced player also cod fan like really great think anyone play say good lose mind best ever create grow console mobile freaking way reaction also yes say freak really great also might toxic player watch',\n",
       "       'awesome multiplayer mode perfect', 'add zombie back',\n",
       "       'fun take much storage', 'like new map tunisia rust last month',\n",
       "       'good waste roughly try update guy look please thank',\n",
       "       'graphics really good large option list interest would love play boring',\n",
       "       'one best till', 'speechless awesome gameplay excellent graphic',\n",
       "       'gives nostalgia counter strike love',\n",
       "       'best ever season update movement get bit slow please increase movement speed',\n",
       "       'graphic design cool nice teamwork',\n",
       "       'u add practice mode help improve tactic skill help grow large gameplay awesome time take atlest month update',\n",
       "       'say trash', 'good pubg free fire', 'good thank',\n",
       "       'awesome gameplay excellent graphic', 'like well pubg',\n",
       "       'good graphic excellent gameplayenough',\n",
       "       'nice somebody told warfare zone delete',\n",
       "       'bring back zombies please add zombie map',\n",
       "       'fun even talk friend people around world',\n",
       "       'best ever played phone', 'call duty cool friend', 'awesome',\n",
       "       'fantastic awesome gameplay', 'good add zombie please',\n",
       "       'give star give star r much hacker r use trainer n destroy creator nothing',\n",
       "       'best', 'enjoy lot good', 'nice',\n",
       "       'good graphic excellent gameplaygame', 'great love',\n",
       "       'superb graphics awesome multiplayer mode mode fabulous',\n",
       "       'awesome graphic awesome beautiful', 'awesome af',\n",
       "       'ausome ive get kill probaly awesome gameplay',\n",
       "       'waited eye like co vid petri dish nixe battle royal extend map one tweek would great multiplayer mode would great kould kustomize whixh map eye kare muxh summit thanks awesomeness tencent',\n",
       "       'awesome',\n",
       "       'really good allot pay win player player lvl lobby level',\n",
       "       'super high graphic',\n",
       "       'good graphic excellent gameplaygame multilayer say one best phone optimise',\n",
       "       'great indeed ping much problem since connect wifi also really enjoy new map gun character ect love easy fun youtube channel btw teltcodm',\n",
       "       'best played awesome gameplay', 'super good fun',\n",
       "       'seriously best super cool graphic would suggest make br map big many huge building loot still love thumbs developer plz add cod warzone mobile keep good graphic excellent gameplaywork',\n",
       "       'amazing', 'amaze gmae ever see',\n",
       "       'good graphic excellent gameplayawesome gameplay awesome graphic',\n",
       "       'love call duty',\n",
       "       'graphic good graphic excellent gameplayand bbn everything love cod mobile',\n",
       "       'say awesome', 'awesome love',\n",
       "       'good graphic excellent gameplayawesome gameplay',\n",
       "       'good graphic excellent gameplaythank', 'good',\n",
       "       'favorite ever wish could offline mode still love',\n",
       "       'nice development well', 'amazing killer age',\n",
       "       'awesome graphic excellent feel like play pc mobile',\n",
       "       'wow beautiful', 'awesome', 'awesome gameplay',\n",
       "       'awesome replica thank', 'fun', 'talk',\n",
       "       'worlds mobile favourite thanks tencent timi studio much better pubg pubg rubbish',\n",
       "       'good graphic excellent gameplayjk',\n",
       "       'pubg free fire bast call duty india bast ihapyy injoy good graphic excellent gameplaygraphics gameplay awesomegrpis call offc game nwe map',\n",
       "       'good graphic excellent gameplayawesome gameplay excellent graphic',\n",
       "       'lovely',\n",
       "       'far good graphic excellent gameplay fun high quality control map graphic selection start play many week ago however found fun good experience',\n",
       "       'speed action zombie battle royale arm hero like',\n",
       "       'mic glitch problem use happen pubg happens cod'], dtype='<U345')"
      ]
     },
     "execution_count": 56,
     "metadata": {},
     "output_type": "execute_result"
    }
   ],
   "source": [
    "pos_reviews"
   ]
  },
  {
   "cell_type": "code",
   "execution_count": 57,
   "metadata": {},
   "outputs": [],
   "source": [
    "neg_words = prepare_Words(neg_reviews)\n",
    "neu_words = prepare_Words(neu_reviews)\n",
    "pos_words = prepare_Words(pos_reviews)"
   ]
  },
  {
   "cell_type": "code",
   "execution_count": 58,
   "metadata": {},
   "outputs": [
    {
     "data": {
      "text/plain": [
       "str"
      ]
     },
     "execution_count": 58,
     "metadata": {},
     "output_type": "execute_result"
    }
   ],
   "source": [
    "type(pos_words)"
   ]
  },
  {
   "cell_type": "code",
   "execution_count": 59,
   "metadata": {},
   "outputs": [],
   "source": [
    "wordcloud_draw(neg_words,-1)\n",
    "wordcloud_draw(neu_words,0)\n",
    "wordcloud_draw(pos_words,1)"
   ]
  },
  {
   "cell_type": "code",
   "execution_count": 60,
   "metadata": {},
   "outputs": [],
   "source": [
    "wordcloud_draw2(neg_words,-1)\n",
    "wordcloud_draw2(neu_words,0)\n",
    "wordcloud_draw2(pos_words,1)"
   ]
  },
  {
   "cell_type": "code",
   "execution_count": null,
   "metadata": {},
   "outputs": [],
   "source": []
  }
 ],
 "metadata": {
  "kernelspec": {
   "display_name": "Python 3",
   "language": "python",
   "name": "python3"
  },
  "language_info": {
   "codemirror_mode": {
    "name": "ipython",
    "version": 3
   },
   "file_extension": ".py",
   "mimetype": "text/x-python",
   "name": "python",
   "nbconvert_exporter": "python",
   "pygments_lexer": "ipython3",
   "version": "3.7.6"
  }
 },
 "nbformat": 4,
 "nbformat_minor": 4
}
