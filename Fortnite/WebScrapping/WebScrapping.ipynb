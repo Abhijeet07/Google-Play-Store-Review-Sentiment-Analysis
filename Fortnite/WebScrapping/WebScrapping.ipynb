{
 "cells": [
  {
   "cell_type": "code",
   "execution_count": 1,
   "metadata": {},
   "outputs": [],
   "source": [
    "import json"
   ]
  },
  {
   "cell_type": "code",
   "execution_count": 2,
   "metadata": {},
   "outputs": [],
   "source": [
    "import pandas as pd"
   ]
  },
  {
   "cell_type": "code",
   "execution_count": 3,
   "metadata": {},
   "outputs": [],
   "source": [
    "from tqdm import tqdm"
   ]
  },
  {
   "cell_type": "code",
   "execution_count": 4,
   "metadata": {},
   "outputs": [],
   "source": [
    "import seaborn as sns\n",
    "import matplotlib.pyplot as plt"
   ]
  },
  {
   "cell_type": "code",
   "execution_count": 5,
   "metadata": {},
   "outputs": [],
   "source": [
    "from pygments import highlight\n",
    "from pygments.lexers import JsonLexer\n",
    "from pygments.formatters import TerminalFormatter"
   ]
  },
  {
   "cell_type": "code",
   "execution_count": 6,
   "metadata": {},
   "outputs": [],
   "source": [
    "from google_play_scraper import Sort, reviews, app"
   ]
  },
  {
   "cell_type": "code",
   "execution_count": 7,
   "metadata": {},
   "outputs": [],
   "source": [
    "%matplotlib inline\n",
    "%config InlineBackend.figure_format='retina'"
   ]
  },
  {
   "cell_type": "code",
   "execution_count": 8,
   "metadata": {},
   "outputs": [],
   "source": [
    "def print_json(json_object):\n",
    "    json_str = json.dumps(\n",
    "        json_object,\n",
    "        indent=2,\n",
    "        sort_keys=True,\n",
    "        default=str\n",
    "  )\n",
    "    print(highlight(json_str, JsonLexer(), TerminalFormatter()))"
   ]
  },
  {
   "cell_type": "code",
   "execution_count": 9,
   "metadata": {},
   "outputs": [],
   "source": [
    "sns.set(style='whitegrid', palette='muted', font_scale=1.2)"
   ]
  },
  {
   "cell_type": "code",
   "execution_count": 10,
   "metadata": {},
   "outputs": [],
   "source": [
    "app_packages = ['com.activision.callofduty.shooter']"
   ]
  },
  {
   "cell_type": "code",
   "execution_count": 11,
   "metadata": {},
   "outputs": [
    {
     "name": "stderr",
     "output_type": "stream",
     "text": [
      "100%|██████████| 1/1 [00:05<00:00,  5.85s/it]\n"
     ]
    }
   ],
   "source": [
    "app_reviews = []\n",
    "for ap in tqdm(app_packages):\n",
    "        for score in list(range(1,6)):\n",
    "            for sort_order in [Sort.MOST_RELEVANT, Sort.NEWEST]:\n",
    "                rvs, _ = reviews(\n",
    "                    ap,\n",
    "                    lang='en',\n",
    "                    country='us',\n",
    "                    sort=sort_order,\n",
    "                    count= 200 if score == 3 else 100,\n",
    "                    filter_score_with=score\n",
    "                  )\n",
    "                \n",
    "                for r in rvs:\n",
    "                    r['sortOrder'] = 'most_relevant' if sort_order == Sort.MOST_RELEVANT else 'newest'\n",
    "                    r['appId'] = ap\n",
    "                    app_reviews.extend(rvs)"
   ]
  },
  {
   "cell_type": "code",
   "execution_count": 12,
   "metadata": {},
   "outputs": [
    {
     "name": "stdout",
     "output_type": "stream",
     "text": [
      "{\n",
      "  \u001b[94m\"appId\"\u001b[39;49;00m: \u001b[33m\"com.activision.callofduty.shooter\"\u001b[39;49;00m,\n",
      "  \u001b[94m\"at\"\u001b[39;49;00m: \u001b[33m\"2020-06-18 21:06:53\"\u001b[39;49;00m,\n",
      "  \u001b[94m\"content\"\u001b[39;49;00m: \u001b[33m\"Ok so from a five star rating I'm gonna give a two star now after many issues in the game it is not that fun like before the tank system dropping from master 4 to elite 1 was just horrible. Before me and my friends used to match up daily for more than 3 to 4 hours and now not even for an hour\"\u001b[39;49;00m,\n",
      "  \u001b[94m\"repliedAt\"\u001b[39;49;00m: \u001b[34mnull\u001b[39;49;00m,\n",
      "  \u001b[94m\"replyContent\"\u001b[39;49;00m: \u001b[34mnull\u001b[39;49;00m,\n",
      "  \u001b[94m\"reviewCreatedVersion\"\u001b[39;49;00m: \u001b[33m\"1.0.15\"\u001b[39;49;00m,\n",
      "  \u001b[94m\"reviewId\"\u001b[39;49;00m: \u001b[33m\"gp:AOqpTOFfs5qiLW1ZyNPay3kVq8Mgyt50CLFvApgj56-DC2XcJrIhNeJA1kgYHPlF_cad0GfAHCrtSKx-h_piCw\"\u001b[39;49;00m,\n",
      "  \u001b[94m\"score\"\u001b[39;49;00m: \u001b[34m2\u001b[39;49;00m,\n",
      "  \u001b[94m\"sortOrder\"\u001b[39;49;00m: \u001b[33m\"newest\"\u001b[39;49;00m,\n",
      "  \u001b[94m\"thumbsUpCount\"\u001b[39;49;00m: \u001b[34m0\u001b[39;49;00m,\n",
      "  \u001b[94m\"userImage\"\u001b[39;49;00m: \u001b[33m\"https://lh3.googleusercontent.com/a-/AOh14GgMd84PXN_vwYVdCodNkovV9nZzpfM__P6204lsrw\"\u001b[39;49;00m,\n",
      "  \u001b[94m\"userName\"\u001b[39;49;00m: \u001b[33m\"Lloyd Fernandes\"\u001b[39;49;00m\n",
      "}\n",
      "\n"
     ]
    }
   ],
   "source": [
    "print_json(app_reviews[32013])"
   ]
  },
  {
   "cell_type": "code",
   "execution_count": 13,
   "metadata": {},
   "outputs": [
    {
     "data": {
      "text/plain": [
       "160000"
      ]
     },
     "execution_count": 13,
     "metadata": {},
     "output_type": "execute_result"
    }
   ],
   "source": [
    "len(app_reviews)"
   ]
  },
  {
   "cell_type": "code",
   "execution_count": 14,
   "metadata": {},
   "outputs": [],
   "source": [
    "app_reviews_df = pd.DataFrame(app_reviews)"
   ]
  },
  {
   "cell_type": "code",
   "execution_count": 15,
   "metadata": {},
   "outputs": [
    {
     "data": {
      "text/html": [
       "<div>\n",
       "<style scoped>\n",
       "    .dataframe tbody tr th:only-of-type {\n",
       "        vertical-align: middle;\n",
       "    }\n",
       "\n",
       "    .dataframe tbody tr th {\n",
       "        vertical-align: top;\n",
       "    }\n",
       "\n",
       "    .dataframe thead th {\n",
       "        text-align: right;\n",
       "    }\n",
       "</style>\n",
       "<table border=\"1\" class=\"dataframe\">\n",
       "  <thead>\n",
       "    <tr style=\"text-align: right;\">\n",
       "      <th></th>\n",
       "      <th>reviewId</th>\n",
       "      <th>userName</th>\n",
       "      <th>userImage</th>\n",
       "      <th>content</th>\n",
       "      <th>score</th>\n",
       "      <th>thumbsUpCount</th>\n",
       "      <th>reviewCreatedVersion</th>\n",
       "      <th>at</th>\n",
       "      <th>replyContent</th>\n",
       "      <th>repliedAt</th>\n",
       "      <th>sortOrder</th>\n",
       "      <th>appId</th>\n",
       "    </tr>\n",
       "  </thead>\n",
       "  <tbody>\n",
       "    <tr>\n",
       "      <th>0</th>\n",
       "      <td>gp:AOqpTOF5JJFwbLdy32W6-Npw6gpVsAxEOOmZaydk3_Q...</td>\n",
       "      <td>james bragg</td>\n",
       "      <td>https://lh3.googleusercontent.com/a-/AOh14Gj3P...</td>\n",
       "      <td>Changing my last review. Since the last update...</td>\n",
       "      <td>1</td>\n",
       "      <td>527</td>\n",
       "      <td>1.0.15</td>\n",
       "      <td>2020-06-16 19:21:13</td>\n",
       "      <td>None</td>\n",
       "      <td>None</td>\n",
       "      <td>most_relevant</td>\n",
       "      <td>com.activision.callofduty.shooter</td>\n",
       "    </tr>\n",
       "    <tr>\n",
       "      <th>1</th>\n",
       "      <td>gp:AOqpTOES6OFCeHpzC20L5nSNaxpqKQjPbQRDX1C-gZB...</td>\n",
       "      <td>Berenice Fernandez</td>\n",
       "      <td>https://lh3.googleusercontent.com/a-/AOh14GjER...</td>\n",
       "      <td>I loved the game but my screen keeps going bla...</td>\n",
       "      <td>1</td>\n",
       "      <td>28</td>\n",
       "      <td>1.0.15</td>\n",
       "      <td>2020-06-17 03:33:53</td>\n",
       "      <td>None</td>\n",
       "      <td>None</td>\n",
       "      <td>most_relevant</td>\n",
       "      <td>com.activision.callofduty.shooter</td>\n",
       "    </tr>\n",
       "    <tr>\n",
       "      <th>2</th>\n",
       "      <td>gp:AOqpTOF2qb1hxTyvu59dSNfBpZsmosz1iZFqmhR5qxM...</td>\n",
       "      <td>akhon na pore</td>\n",
       "      <td>https://lh3.googleusercontent.com/-CRE0DBCAYiQ...</td>\n",
       "      <td>Ugh ..I'm so frustrated . I can't play the gam...</td>\n",
       "      <td>1</td>\n",
       "      <td>37</td>\n",
       "      <td>1.0.15</td>\n",
       "      <td>2020-06-16 13:37:24</td>\n",
       "      <td>None</td>\n",
       "      <td>None</td>\n",
       "      <td>most_relevant</td>\n",
       "      <td>com.activision.callofduty.shooter</td>\n",
       "    </tr>\n",
       "    <tr>\n",
       "      <th>3</th>\n",
       "      <td>gp:AOqpTOFutVB7bhnti1sWMuoSFDj4f3-DXbDNqQ0C8xh...</td>\n",
       "      <td>InsomniacZac</td>\n",
       "      <td>https://lh3.googleusercontent.com/a-/AOh14GiA8...</td>\n",
       "      <td>Stop spamming me with **** I've seen 1000 time...</td>\n",
       "      <td>1</td>\n",
       "      <td>3</td>\n",
       "      <td>1.0.15</td>\n",
       "      <td>2020-06-17 06:41:36</td>\n",
       "      <td>None</td>\n",
       "      <td>None</td>\n",
       "      <td>most_relevant</td>\n",
       "      <td>com.activision.callofduty.shooter</td>\n",
       "    </tr>\n",
       "    <tr>\n",
       "      <th>4</th>\n",
       "      <td>gp:AOqpTOEKLKTZSKPguvCXQKAs6cOCM3NWUvpsbLeZIno...</td>\n",
       "      <td>Rah'B Bryson</td>\n",
       "      <td>https://lh3.googleusercontent.com/a-/AOh14GiYd...</td>\n",
       "      <td>No matter what you try, on any adroid device o...</td>\n",
       "      <td>1</td>\n",
       "      <td>8</td>\n",
       "      <td>1.0.15</td>\n",
       "      <td>2020-06-17 03:12:24</td>\n",
       "      <td>None</td>\n",
       "      <td>None</td>\n",
       "      <td>most_relevant</td>\n",
       "      <td>com.activision.callofduty.shooter</td>\n",
       "    </tr>\n",
       "  </tbody>\n",
       "</table>\n",
       "</div>"
      ],
      "text/plain": [
       "                                            reviewId            userName  \\\n",
       "0  gp:AOqpTOF5JJFwbLdy32W6-Npw6gpVsAxEOOmZaydk3_Q...         james bragg   \n",
       "1  gp:AOqpTOES6OFCeHpzC20L5nSNaxpqKQjPbQRDX1C-gZB...  Berenice Fernandez   \n",
       "2  gp:AOqpTOF2qb1hxTyvu59dSNfBpZsmosz1iZFqmhR5qxM...       akhon na pore   \n",
       "3  gp:AOqpTOFutVB7bhnti1sWMuoSFDj4f3-DXbDNqQ0C8xh...        InsomniacZac   \n",
       "4  gp:AOqpTOEKLKTZSKPguvCXQKAs6cOCM3NWUvpsbLeZIno...        Rah'B Bryson   \n",
       "\n",
       "                                           userImage  \\\n",
       "0  https://lh3.googleusercontent.com/a-/AOh14Gj3P...   \n",
       "1  https://lh3.googleusercontent.com/a-/AOh14GjER...   \n",
       "2  https://lh3.googleusercontent.com/-CRE0DBCAYiQ...   \n",
       "3  https://lh3.googleusercontent.com/a-/AOh14GiA8...   \n",
       "4  https://lh3.googleusercontent.com/a-/AOh14GiYd...   \n",
       "\n",
       "                                             content  score  thumbsUpCount  \\\n",
       "0  Changing my last review. Since the last update...      1            527   \n",
       "1  I loved the game but my screen keeps going bla...      1             28   \n",
       "2  Ugh ..I'm so frustrated . I can't play the gam...      1             37   \n",
       "3  Stop spamming me with **** I've seen 1000 time...      1              3   \n",
       "4  No matter what you try, on any adroid device o...      1              8   \n",
       "\n",
       "  reviewCreatedVersion                  at replyContent repliedAt  \\\n",
       "0               1.0.15 2020-06-16 19:21:13         None      None   \n",
       "1               1.0.15 2020-06-17 03:33:53         None      None   \n",
       "2               1.0.15 2020-06-16 13:37:24         None      None   \n",
       "3               1.0.15 2020-06-17 06:41:36         None      None   \n",
       "4               1.0.15 2020-06-17 03:12:24         None      None   \n",
       "\n",
       "       sortOrder                              appId  \n",
       "0  most_relevant  com.activision.callofduty.shooter  \n",
       "1  most_relevant  com.activision.callofduty.shooter  \n",
       "2  most_relevant  com.activision.callofduty.shooter  \n",
       "3  most_relevant  com.activision.callofduty.shooter  \n",
       "4  most_relevant  com.activision.callofduty.shooter  "
      ]
     },
     "execution_count": 15,
     "metadata": {},
     "output_type": "execute_result"
    }
   ],
   "source": [
    "app_reviews_df.head()"
   ]
  },
  {
   "cell_type": "code",
   "execution_count": 16,
   "metadata": {},
   "outputs": [
    {
     "data": {
      "text/plain": [
       "160000"
      ]
     },
     "execution_count": 16,
     "metadata": {},
     "output_type": "execute_result"
    }
   ],
   "source": [
    "len(app_reviews_df)"
   ]
  },
  {
   "cell_type": "code",
   "execution_count": 17,
   "metadata": {},
   "outputs": [
    {
     "data": {
      "text/plain": [
       "(160000, 12)"
      ]
     },
     "execution_count": 17,
     "metadata": {},
     "output_type": "execute_result"
    }
   ],
   "source": [
    "app_reviews_df.shape"
   ]
  },
  {
   "cell_type": "code",
   "execution_count": 18,
   "metadata": {},
   "outputs": [],
   "source": [
    "app_reviews_df.drop_duplicates(keep='first', inplace = True)"
   ]
  },
  {
   "cell_type": "code",
   "execution_count": 19,
   "metadata": {},
   "outputs": [
    {
     "data": {
      "text/plain": [
       "(1200, 12)"
      ]
     },
     "execution_count": 19,
     "metadata": {},
     "output_type": "execute_result"
    }
   ],
   "source": [
    "app_reviews_df.shape\n"
   ]
  },
  {
   "cell_type": "code",
   "execution_count": 20,
   "metadata": {},
   "outputs": [],
   "source": [
    "app_reviews_df.drop(['reviewId', 'thumbsUpCount','sortOrder','userName', 'userImage','at','replyContent','repliedAt','appId','reviewCreatedVersion'], axis =1, inplace = True)"
   ]
  },
  {
   "cell_type": "code",
   "execution_count": 21,
   "metadata": {},
   "outputs": [
    {
     "data": {
      "text/html": [
       "<div>\n",
       "<style scoped>\n",
       "    .dataframe tbody tr th:only-of-type {\n",
       "        vertical-align: middle;\n",
       "    }\n",
       "\n",
       "    .dataframe tbody tr th {\n",
       "        vertical-align: top;\n",
       "    }\n",
       "\n",
       "    .dataframe thead th {\n",
       "        text-align: right;\n",
       "    }\n",
       "</style>\n",
       "<table border=\"1\" class=\"dataframe\">\n",
       "  <thead>\n",
       "    <tr style=\"text-align: right;\">\n",
       "      <th></th>\n",
       "      <th>content</th>\n",
       "      <th>score</th>\n",
       "    </tr>\n",
       "  </thead>\n",
       "  <tbody>\n",
       "    <tr>\n",
       "      <th>0</th>\n",
       "      <td>Changing my last review. Since the last update...</td>\n",
       "      <td>1</td>\n",
       "    </tr>\n",
       "    <tr>\n",
       "      <th>1</th>\n",
       "      <td>I loved the game but my screen keeps going bla...</td>\n",
       "      <td>1</td>\n",
       "    </tr>\n",
       "    <tr>\n",
       "      <th>2</th>\n",
       "      <td>Ugh ..I'm so frustrated . I can't play the gam...</td>\n",
       "      <td>1</td>\n",
       "    </tr>\n",
       "    <tr>\n",
       "      <th>3</th>\n",
       "      <td>Stop spamming me with **** I've seen 1000 time...</td>\n",
       "      <td>1</td>\n",
       "    </tr>\n",
       "    <tr>\n",
       "      <th>4</th>\n",
       "      <td>No matter what you try, on any adroid device o...</td>\n",
       "      <td>1</td>\n",
       "    </tr>\n",
       "    <tr>\n",
       "      <th>...</th>\n",
       "      <td>...</td>\n",
       "      <td>...</td>\n",
       "    </tr>\n",
       "    <tr>\n",
       "      <th>150095</th>\n",
       "      <td>😘😘</td>\n",
       "      <td>5</td>\n",
       "    </tr>\n",
       "    <tr>\n",
       "      <th>150096</th>\n",
       "      <td>❤ lovely❤</td>\n",
       "      <td>5</td>\n",
       "    </tr>\n",
       "    <tr>\n",
       "      <th>150097</th>\n",
       "      <td>So far the game had been very good and fun to ...</td>\n",
       "      <td>5</td>\n",
       "    </tr>\n",
       "    <tr>\n",
       "      <th>150098</th>\n",
       "      <td>Speed, action, zombies, battle royale, arms, h...</td>\n",
       "      <td>5</td>\n",
       "    </tr>\n",
       "    <tr>\n",
       "      <th>150099</th>\n",
       "      <td>There is mic glitch problem which used to happ...</td>\n",
       "      <td>5</td>\n",
       "    </tr>\n",
       "  </tbody>\n",
       "</table>\n",
       "<p>1200 rows × 2 columns</p>\n",
       "</div>"
      ],
      "text/plain": [
       "                                                  content  score\n",
       "0       Changing my last review. Since the last update...      1\n",
       "1       I loved the game but my screen keeps going bla...      1\n",
       "2       Ugh ..I'm so frustrated . I can't play the gam...      1\n",
       "3       Stop spamming me with **** I've seen 1000 time...      1\n",
       "4       No matter what you try, on any adroid device o...      1\n",
       "...                                                   ...    ...\n",
       "150095                                                 😘😘      5\n",
       "150096                                          ❤ lovely❤      5\n",
       "150097  So far the game had been very good and fun to ...      5\n",
       "150098  Speed, action, zombies, battle royale, arms, h...      5\n",
       "150099  There is mic glitch problem which used to happ...      5\n",
       "\n",
       "[1200 rows x 2 columns]"
      ]
     },
     "execution_count": 21,
     "metadata": {},
     "output_type": "execute_result"
    }
   ],
   "source": [
    "app_reviews_df"
   ]
  },
  {
   "cell_type": "code",
   "execution_count": null,
   "metadata": {},
   "outputs": [],
   "source": []
  },
  {
   "cell_type": "code",
   "execution_count": 22,
   "metadata": {},
   "outputs": [],
   "source": [
    "app_reviews_df.to_csv(r'/Users/abhijeet/Documents/Review Sentiment Analysis/COD/reviews_cod.csv', index=None, header=True)"
   ]
  }
 ],
 "metadata": {
  "kernelspec": {
   "display_name": "Python 3",
   "language": "python",
   "name": "python3"
  },
  "language_info": {
   "codemirror_mode": {
    "name": "ipython",
    "version": 3
   },
   "file_extension": ".py",
   "mimetype": "text/x-python",
   "name": "python",
   "nbconvert_exporter": "python",
   "pygments_lexer": "ipython3",
   "version": "3.7.6"
  }
 },
 "nbformat": 4,
 "nbformat_minor": 4
}
