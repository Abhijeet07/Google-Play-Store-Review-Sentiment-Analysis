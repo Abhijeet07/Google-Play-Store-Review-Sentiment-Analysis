{
 "cells": [
  {
   "cell_type": "code",
   "execution_count": 3,
   "metadata": {},
   "outputs": [],
   "source": [
    "import numpy as np\n",
    "import matplotlib.pyplot as plt\n",
    "import pandas as pd"
   ]
  },
  {
   "cell_type": "code",
   "execution_count": 4,
   "metadata": {},
   "outputs": [],
   "source": [
    "PUBG_Reviews_data = pd.read_csv('/Users/abhijeet/Documents/Review Sentiment Analysis/PUBG/reviews_pubg.csv')\n",
    "Fortnite_Reviews_data = pd.read_csv('/Users/abhijeet/Documents/Review Sentiment Analysis/Fortnite/reviews_fortnite.csv')\n",
    "COD_Reviews_data = pd.read_csv('/Users/abhijeet/Documents/Review Sentiment Analysis/COD/reviews_cod.csv')\n",
    "PUBG_Reviews_data.dropna(inplace= True)\n",
    "COD_Reviews_data.dropna(inplace= True)\n",
    "Fortnite_Reviews_data.dropna(inplace = True)"
   ]
  },
  {
   "cell_type": "code",
   "execution_count": 5,
   "metadata": {},
   "outputs": [
    {
     "data": {
      "text/html": [
       "<div>\n",
       "<style scoped>\n",
       "    .dataframe tbody tr th:only-of-type {\n",
       "        vertical-align: middle;\n",
       "    }\n",
       "\n",
       "    .dataframe tbody tr th {\n",
       "        vertical-align: top;\n",
       "    }\n",
       "\n",
       "    .dataframe thead th {\n",
       "        text-align: right;\n",
       "    }\n",
       "</style>\n",
       "<table border=\"1\" class=\"dataframe\">\n",
       "  <thead>\n",
       "    <tr style=\"text-align: right;\">\n",
       "      <th></th>\n",
       "      <th>content</th>\n",
       "      <th>score</th>\n",
       "    </tr>\n",
       "  </thead>\n",
       "  <tbody>\n",
       "    <tr>\n",
       "      <th>0</th>\n",
       "      <td>I turned the 5 star to a 1 star. The game is a...</td>\n",
       "      <td>1</td>\n",
       "    </tr>\n",
       "    <tr>\n",
       "      <th>1</th>\n",
       "      <td>Don't even bother downloading the game. It's l...</td>\n",
       "      <td>1</td>\n",
       "    </tr>\n",
       "    <tr>\n",
       "      <th>2</th>\n",
       "      <td>The game has become too full of glitches...and...</td>\n",
       "      <td>1</td>\n",
       "    </tr>\n",
       "    <tr>\n",
       "      <th>3</th>\n",
       "      <td>It's a decent game, just really bad implementa...</td>\n",
       "      <td>1</td>\n",
       "    </tr>\n",
       "    <tr>\n",
       "      <th>4</th>\n",
       "      <td>The game servers are glitched now. Even with l...</td>\n",
       "      <td>1</td>\n",
       "    </tr>\n",
       "    <tr>\n",
       "      <th>...</th>\n",
       "      <td>...</td>\n",
       "      <td>...</td>\n",
       "    </tr>\n",
       "    <tr>\n",
       "      <th>1171</th>\n",
       "      <td>Outstanding graphics and excellent gameplay</td>\n",
       "      <td>5</td>\n",
       "    </tr>\n",
       "    <tr>\n",
       "      <th>1172</th>\n",
       "      <td>Kadak game</td>\n",
       "      <td>5</td>\n",
       "    </tr>\n",
       "    <tr>\n",
       "      <th>1173</th>\n",
       "      <td>Outstanding graphics and excellent gameplay</td>\n",
       "      <td>5</td>\n",
       "    </tr>\n",
       "    <tr>\n",
       "      <th>1174</th>\n",
       "      <td>I Have No Words😘😘😘😘😘</td>\n",
       "      <td>5</td>\n",
       "    </tr>\n",
       "    <tr>\n",
       "      <th>1175</th>\n",
       "      <td>I love this game pubg mobile is most world pop...</td>\n",
       "      <td>5</td>\n",
       "    </tr>\n",
       "  </tbody>\n",
       "</table>\n",
       "<p>1176 rows × 2 columns</p>\n",
       "</div>"
      ],
      "text/plain": [
       "                                                content  score\n",
       "0     I turned the 5 star to a 1 star. The game is a...      1\n",
       "1     Don't even bother downloading the game. It's l...      1\n",
       "2     The game has become too full of glitches...and...      1\n",
       "3     It's a decent game, just really bad implementa...      1\n",
       "4     The game servers are glitched now. Even with l...      1\n",
       "...                                                 ...    ...\n",
       "1171        Outstanding graphics and excellent gameplay      5\n",
       "1172                                         Kadak game      5\n",
       "1173        Outstanding graphics and excellent gameplay      5\n",
       "1174                               I Have No Words😘😘😘😘😘      5\n",
       "1175  I love this game pubg mobile is most world pop...      5\n",
       "\n",
       "[1176 rows x 2 columns]"
      ]
     },
     "execution_count": 5,
     "metadata": {},
     "output_type": "execute_result"
    }
   ],
   "source": [
    "PUBG_Reviews_data"
   ]
  },
  {
   "cell_type": "code",
   "execution_count": 6,
   "metadata": {},
   "outputs": [],
   "source": [
    "total_pubg_reviews = PUBG_Reviews_data.shape[0]\n",
    "total_cod_reviews = COD_Reviews_data.shape[0]\n",
    "total_fortnite_reviews = Fortnite_Reviews_data.shape[0]\n",
    "\n",
    "neg_pubg = ((PUBG_Reviews_data[PUBG_Reviews_data['score']<3]).shape[0]/total_pubg_reviews)*100\n",
    "neut_pubg =  ((PUBG_Reviews_data[PUBG_Reviews_data['score']==3]).shape[0]/total_pubg_reviews)*100\n",
    "pos_pubg = ((PUBG_Reviews_data[PUBG_Reviews_data['score']>3]).shape[0]/total_pubg_reviews)*100\n",
    "\n",
    "neg_cod = ((COD_Reviews_data[COD_Reviews_data['score']<3]).shape[0]/total_cod_reviews)*100\n",
    "neut_cod = ((COD_Reviews_data[COD_Reviews_data['score']==3]).shape[0]/total_cod_reviews)*100\n",
    "pos_cod = ((COD_Reviews_data[COD_Reviews_data['score']>3]).shape[0]/total_cod_reviews)*100\n",
    "\n",
    "neg_fn = ((Fortnite_Reviews_data[Fortnite_Reviews_data['score']<3]).shape[0]/total_fortnite_reviews)*100\n",
    "neut_fn = ((Fortnite_Reviews_data[Fortnite_Reviews_data['score']<3]).shape[0]/total_fortnite_reviews)*100\n",
    "pos_fn = ((Fortnite_Reviews_data[Fortnite_Reviews_data['score']<3]).shape[0]/total_fortnite_reviews)*100"
   ]
  },
  {
   "cell_type": "code",
   "execution_count": 20,
   "metadata": {},
   "outputs": [],
   "source": [
    "review_types = 3\n",
    "pubg_percentages = (neg_pubg,neut_pubg,pos_pubg)\n",
    "fn_percentages = (neg_fn,neut_fn,pos_fn)\n",
    "cod_percentages =(neg_cod, neut_cod, pos_cod)"
   ]
  },
  {
   "cell_type": "code",
   "execution_count": 21,
   "metadata": {
    "scrolled": false
   },
   "outputs": [
    {
     "data": {
      "image/png": "[encoded data removed]",
      "text/plain": [
       "<Figure size 432x288 with 1 Axes>"
      ]
     },
     "metadata": {
      "needs_background": "light"
     },
     "output_type": "display_data"
    }
   ],
   "source": [
    "# create plot\n",
    "fig, ax = plt.subplots()\n",
    "index = np.arange(review_types)\n",
    "bar_width = 0.2\n",
    "opacity = 0.6\n",
    " \n",
    "rects1 = plt.bar(index, pubg_percentages, bar_width,\n",
    "                 alpha=opacity,\n",
    "                 color='skyblue',\n",
    "                 label='PUBG')\n",
    " \n",
    "rects2 = plt.bar(index + bar_width, cod_percentages, bar_width,\n",
    "                 alpha=opacity,\n",
    "                 color='darkblue',\n",
    "                 label='Call Of Duty')\n",
    " \n",
    "rects3 = plt.bar(index + 2*bar_width, fn_percentages, bar_width,\n",
    "                 alpha=opacity,\n",
    "                 color='indigo',\n",
    "                 label='Fortnite')\n",
    "     \n",
    "plt.xlabel('Category of Review')\n",
    "plt.ylabel('Percentage')\n",
    "plt.title('Comparison of reviews of Fortnite, PUBG and Call Of Duty')\n",
    "plt.xticks(index + bar_width, ('Negative', 'Neutral', 'Positive'))\n",
    "plt.legend()\n",
    "plt.tight_layout()\n",
    "plt.savefig('/Users/abhijeet/Documents/Review Sentiment Analysis/bar_graph.png')"
   ]
  },
  {
   "cell_type": "code",
   "execution_count": null,
   "metadata": {},
   "outputs": [],
   "source": []
  }
 ],
 "metadata": {
  "kernelspec": {
   "display_name": "Python 3",
   "language": "python",
   "name": "python3"
  },
  "language_info": {
   "codemirror_mode": {
    "name": "ipython",
    "version": 3
   },
   "file_extension": ".py",
   "mimetype": "text/x-python",
   "name": "python",
   "nbconvert_exporter": "python",
   "pygments_lexer": "ipython3",
   "version": "3.7.6"
  }
 },
 "nbformat": 4,
 "nbformat_minor": 2
}
