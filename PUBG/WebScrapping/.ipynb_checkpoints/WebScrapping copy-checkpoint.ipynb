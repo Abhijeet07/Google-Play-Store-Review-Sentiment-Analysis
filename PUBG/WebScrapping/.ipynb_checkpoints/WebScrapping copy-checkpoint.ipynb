{
 "cells": [
  {
   "cell_type": "code",
   "execution_count": 2,
   "metadata": {},
   "outputs": [],
   "source": [
    "import json"
   ]
  },
  {
   "cell_type": "code",
   "execution_count": 3,
   "metadata": {},
   "outputs": [],
   "source": [
    "import pandas as pd"
   ]
  },
  {
   "cell_type": "code",
   "execution_count": 4,
   "metadata": {},
   "outputs": [],
   "source": [
    "from tqdm import tqdm"
   ]
  },
  {
   "cell_type": "code",
   "execution_count": 5,
   "metadata": {},
   "outputs": [],
   "source": [
    "import seaborn as sns\n",
    "import matplotlib.pyplot as plt"
   ]
  },
  {
   "cell_type": "code",
   "execution_count": 6,
   "metadata": {},
   "outputs": [],
   "source": [
    "from pygments import highlight\n",
    "from pygments.lexers import JsonLexer\n",
    "from pygments.formatters import TerminalFormatter"
   ]
  },
  {
   "cell_type": "code",
   "execution_count": 7,
   "metadata": {},
   "outputs": [],
   "source": [
    "from google_play_scraper import Sort, reviews, app"
   ]
  },
  {
   "cell_type": "code",
   "execution_count": 8,
   "metadata": {},
   "outputs": [],
   "source": [
    "%matplotlib inline\n",
    "%config InlineBackend.figure_format='retina'"
   ]
  },
  {
   "cell_type": "code",
   "execution_count": 9,
   "metadata": {},
   "outputs": [],
   "source": [
    "def print_json(json_object):\n",
    "  json_str = json.dumps(\n",
    "    json_object,\n",
    "    indent=2,\n",
    "    sort_keys=True,\n",
    "    default=str\n",
    "  )\n",
    "  print(highlight(json_str, JsonLexer(), TerminalFormatter()))"
   ]
  },
  {
   "cell_type": "code",
   "execution_count": 10,
   "metadata": {},
   "outputs": [],
   "source": [
    "sns.set(style='whitegrid', palette='muted', font_scale=1.2)"
   ]
  },
  {
   "cell_type": "code",
   "execution_count": 11,
   "metadata": {},
   "outputs": [],
   "source": [
    "app_packages = ['com.tencent.ig']"
   ]
  },
  {
   "cell_type": "code",
   "execution_count": 12,
   "metadata": {},
   "outputs": [
    {
     "name": "stderr",
     "output_type": "stream",
     "text": [
      "100%|██████████| 1/1 [00:07<00:00,  7.05s/it]\n"
     ]
    }
   ],
   "source": [
    "app_reviews = []\n",
    "for ap in tqdm(app_packages):\n",
    "        for score in list(range(1,6)):\n",
    "            for sort_order in [Sort.MOST_RELEVANT, Sort.NEWEST]:\n",
    "                rvs, _ = reviews(\n",
    "                    ap,\n",
    "                    lang='en',\n",
    "                    country='us',\n",
    "                    sort=sort_order,\n",
    "                    count= 200 if score == 3 else 100,\n",
    "                    filter_score_with=score\n",
    "                  )\n",
    "                \n",
    "                for r in rvs:\n",
    "                    r['sortOrder'] = 'most_relevant' if sort_order == Sort.MOST_RELEVANT else 'newest'\n",
    "                    r['appId'] = ap\n",
    "                    app_reviews.extend(rvs)"
   ]
  },
  {
   "cell_type": "code",
   "execution_count": 12,
   "metadata": {},
   "outputs": [
    {
     "name": "stdout",
     "output_type": "stream",
     "text": [
      "{\n",
      "  \u001b[94m\"appId\"\u001b[39;49;00m: \u001b[33m\"com.tencent.ig\"\u001b[39;49;00m,\n",
      "  \u001b[94m\"at\"\u001b[39;49;00m: \u001b[33m\"2020-06-16 22:35:18\"\u001b[39;49;00m,\n",
      "  \u001b[94m\"content\"\u001b[39;49;00m: \u001b[33m\"I would give it a 5 start but recently i got 80 merit when my genade accidentally hit my knock teamate and now i cant play squad....hope u fix this issue because the game never know u purposely kill your teamate or accidentally.....\"\u001b[39;49;00m,\n",
      "  \u001b[94m\"repliedAt\"\u001b[39;49;00m: \u001b[34mnull\u001b[39;49;00m,\n",
      "  \u001b[94m\"replyContent\"\u001b[39;49;00m: \u001b[34mnull\u001b[39;49;00m,\n",
      "  \u001b[94m\"reviewCreatedVersion\"\u001b[39;49;00m: \u001b[34mnull\u001b[39;49;00m,\n",
      "  \u001b[94m\"reviewId\"\u001b[39;49;00m: \u001b[33m\"gp:AOqpTOE7FYOvBkdM4587jsDB1hyjf510u23rmNNER7D3p8MnTbeANiP6prNVsL-zHeCZlCOxe8LG1_q5zPbdmBE\"\u001b[39;49;00m,\n",
      "  \u001b[94m\"score\"\u001b[39;49;00m: \u001b[34m2\u001b[39;49;00m,\n",
      "  \u001b[94m\"sortOrder\"\u001b[39;49;00m: \u001b[33m\"newest\"\u001b[39;49;00m,\n",
      "  \u001b[94m\"thumbsUpCount\"\u001b[39;49;00m: \u001b[34m0\u001b[39;49;00m,\n",
      "  \u001b[94m\"userImage\"\u001b[39;49;00m: \u001b[33m\"https://lh3.googleusercontent.com/a-/AOh14GinhDH5wEhvyxDHUx_Sl-GXOxSPWWL2AX6mlr9I\"\u001b[39;49;00m,\n",
      "  \u001b[94m\"userName\"\u001b[39;49;00m: \u001b[33m\"Fiecian\"\u001b[39;49;00m\n",
      "}\n",
      "\n"
     ]
    }
   ],
   "source": [
    "print_json(app_reviews[32013])"
   ]
  },
  {
   "cell_type": "code",
   "execution_count": 13,
   "metadata": {},
   "outputs": [
    {
     "data": {
      "text/plain": [
       "160000"
      ]
     },
     "execution_count": 13,
     "metadata": {},
     "output_type": "execute_result"
    }
   ],
   "source": [
    "len(app_reviews)"
   ]
  },
  {
   "cell_type": "code",
   "execution_count": 14,
   "metadata": {},
   "outputs": [
    {
     "data": {
      "text/html": [
       "<div>\n",
       "<style scoped>\n",
       "    .dataframe tbody tr th:only-of-type {\n",
       "        vertical-align: middle;\n",
       "    }\n",
       "\n",
       "    .dataframe tbody tr th {\n",
       "        vertical-align: top;\n",
       "    }\n",
       "\n",
       "    .dataframe thead th {\n",
       "        text-align: right;\n",
       "    }\n",
       "</style>\n",
       "<table border=\"1\" class=\"dataframe\">\n",
       "  <thead>\n",
       "    <tr style=\"text-align: right;\">\n",
       "      <th></th>\n",
       "      <th>reviewId</th>\n",
       "      <th>userName</th>\n",
       "      <th>userImage</th>\n",
       "      <th>content</th>\n",
       "      <th>score</th>\n",
       "      <th>thumbsUpCount</th>\n",
       "      <th>reviewCreatedVersion</th>\n",
       "      <th>at</th>\n",
       "      <th>replyContent</th>\n",
       "      <th>repliedAt</th>\n",
       "      <th>sortOrder</th>\n",
       "      <th>appId</th>\n",
       "    </tr>\n",
       "  </thead>\n",
       "  <tbody>\n",
       "    <tr>\n",
       "      <th>0</th>\n",
       "      <td>gp:AOqpTOGNqcPbJeMUSVQpJevJDkIRAcQ0InIwJWN5s4m...</td>\n",
       "      <td>vicky adok</td>\n",
       "      <td>https://lh3.googleusercontent.com/a-/AOh14Gh3d...</td>\n",
       "      <td>I turned the 5 star to a 1 star. The game is a...</td>\n",
       "      <td>1</td>\n",
       "      <td>3</td>\n",
       "      <td>0.18.0</td>\n",
       "      <td>2020-06-15 17:03:40</td>\n",
       "      <td>None</td>\n",
       "      <td>NaT</td>\n",
       "      <td>most_relevant</td>\n",
       "      <td>com.tencent.ig</td>\n",
       "    </tr>\n",
       "    <tr>\n",
       "      <th>1</th>\n",
       "      <td>gp:AOqpTOFebQZzqnwUBQHyrOBIowglRpoBbk-SsDVVWGR...</td>\n",
       "      <td>Adhir Maraj</td>\n",
       "      <td>https://lh3.googleusercontent.com/--wyzTELlt2I...</td>\n",
       "      <td>Don't even bother downloading the game. It's l...</td>\n",
       "      <td>1</td>\n",
       "      <td>312</td>\n",
       "      <td>0.18.0</td>\n",
       "      <td>2020-06-13 22:42:52</td>\n",
       "      <td>Hi Adhir, We have a zero-tolerance stance on c...</td>\n",
       "      <td>2020-06-15 17:02:38</td>\n",
       "      <td>most_relevant</td>\n",
       "      <td>com.tencent.ig</td>\n",
       "    </tr>\n",
       "    <tr>\n",
       "      <th>2</th>\n",
       "      <td>gp:AOqpTOEjnEdM9asngodMC3hPr0LA5MNYk2NJGEpbo-z...</td>\n",
       "      <td>jayasoorya sukumaran</td>\n",
       "      <td>https://lh3.googleusercontent.com/a-/AOh14Gg13...</td>\n",
       "      <td>The game has become too full of glitches...and...</td>\n",
       "      <td>1</td>\n",
       "      <td>50</td>\n",
       "      <td>0.18.0</td>\n",
       "      <td>2020-06-15 11:38:21</td>\n",
       "      <td>Hello jayasoorya, we understand your concern t...</td>\n",
       "      <td>2020-06-16 12:09:45</td>\n",
       "      <td>most_relevant</td>\n",
       "      <td>com.tencent.ig</td>\n",
       "    </tr>\n",
       "    <tr>\n",
       "      <th>3</th>\n",
       "      <td>gp:AOqpTOGYYo7sqhQ2pQfq4IdfrwhH8w1Llbi5_bm400g...</td>\n",
       "      <td>Cayne Game</td>\n",
       "      <td>https://lh3.googleusercontent.com/a-/AOh14Ghkz...</td>\n",
       "      <td>It's a decent game, just really bad implementa...</td>\n",
       "      <td>1</td>\n",
       "      <td>1234</td>\n",
       "      <td>0.18.0</td>\n",
       "      <td>2020-05-21 18:18:38</td>\n",
       "      <td>Hello, thanks for your valuable feedback! We a...</td>\n",
       "      <td>2020-05-26 16:34:16</td>\n",
       "      <td>most_relevant</td>\n",
       "      <td>com.tencent.ig</td>\n",
       "    </tr>\n",
       "    <tr>\n",
       "      <th>4</th>\n",
       "      <td>gp:AOqpTOFD_kawfhbfYiPh-cH8jfH6k0sBIKQNXoFyJkd...</td>\n",
       "      <td>danny alonso</td>\n",
       "      <td>https://lh3.googleusercontent.com/-jh89VLezdAw...</td>\n",
       "      <td>The game servers are glitched now. Even with l...</td>\n",
       "      <td>1</td>\n",
       "      <td>0</td>\n",
       "      <td>0.18.0</td>\n",
       "      <td>2020-06-15 23:04:50</td>\n",
       "      <td>None</td>\n",
       "      <td>NaT</td>\n",
       "      <td>most_relevant</td>\n",
       "      <td>com.tencent.ig</td>\n",
       "    </tr>\n",
       "  </tbody>\n",
       "</table>\n",
       "</div>"
      ],
      "text/plain": [
       "                                            reviewId              userName  \\\n",
       "0  gp:AOqpTOGNqcPbJeMUSVQpJevJDkIRAcQ0InIwJWN5s4m...            vicky adok   \n",
       "1  gp:AOqpTOFebQZzqnwUBQHyrOBIowglRpoBbk-SsDVVWGR...           Adhir Maraj   \n",
       "2  gp:AOqpTOEjnEdM9asngodMC3hPr0LA5MNYk2NJGEpbo-z...  jayasoorya sukumaran   \n",
       "3  gp:AOqpTOGYYo7sqhQ2pQfq4IdfrwhH8w1Llbi5_bm400g...            Cayne Game   \n",
       "4  gp:AOqpTOFD_kawfhbfYiPh-cH8jfH6k0sBIKQNXoFyJkd...          danny alonso   \n",
       "\n",
       "                                           userImage  \\\n",
       "0  https://lh3.googleusercontent.com/a-/AOh14Gh3d...   \n",
       "1  https://lh3.googleusercontent.com/--wyzTELlt2I...   \n",
       "2  https://lh3.googleusercontent.com/a-/AOh14Gg13...   \n",
       "3  https://lh3.googleusercontent.com/a-/AOh14Ghkz...   \n",
       "4  https://lh3.googleusercontent.com/-jh89VLezdAw...   \n",
       "\n",
       "                                             content  score  thumbsUpCount  \\\n",
       "0  I turned the 5 star to a 1 star. The game is a...      1              3   \n",
       "1  Don't even bother downloading the game. It's l...      1            312   \n",
       "2  The game has become too full of glitches...and...      1             50   \n",
       "3  It's a decent game, just really bad implementa...      1           1234   \n",
       "4  The game servers are glitched now. Even with l...      1              0   \n",
       "\n",
       "  reviewCreatedVersion                  at  \\\n",
       "0               0.18.0 2020-06-15 17:03:40   \n",
       "1               0.18.0 2020-06-13 22:42:52   \n",
       "2               0.18.0 2020-06-15 11:38:21   \n",
       "3               0.18.0 2020-05-21 18:18:38   \n",
       "4               0.18.0 2020-06-15 23:04:50   \n",
       "\n",
       "                                        replyContent           repliedAt  \\\n",
       "0                                               None                 NaT   \n",
       "1  Hi Adhir, We have a zero-tolerance stance on c... 2020-06-15 17:02:38   \n",
       "2  Hello jayasoorya, we understand your concern t... 2020-06-16 12:09:45   \n",
       "3  Hello, thanks for your valuable feedback! We a... 2020-05-26 16:34:16   \n",
       "4                                               None                 NaT   \n",
       "\n",
       "       sortOrder           appId  \n",
       "0  most_relevant  com.tencent.ig  \n",
       "1  most_relevant  com.tencent.ig  \n",
       "2  most_relevant  com.tencent.ig  \n",
       "3  most_relevant  com.tencent.ig  \n",
       "4  most_relevant  com.tencent.ig  "
      ]
     },
     "execution_count": 14,
     "metadata": {},
     "output_type": "execute_result"
    }
   ],
   "source": [
    "app_reviews_df = pd.DataFrame(app_reviews)\n",
    "app_reviews_df.head()"
   ]
  },
  {
   "cell_type": "code",
   "execution_count": 15,
   "metadata": {},
   "outputs": [],
   "source": [
    "app_reviews_df.drop(['reviewId', 'userName', 'userImage','at','replyContent','repliedAt','appId','reviewCreatedVersion','thumbsUpCount','sortOrder'], axis =1, inplace = True)\n",
    "app_reviews_df.drop_duplicates(keep='first', inplace = True)"
   ]
  },
  {
   "cell_type": "code",
   "execution_count": 18,
   "metadata": {},
   "outputs": [
    {
     "data": {
      "text/html": [
       "<div>\n",
       "<style scoped>\n",
       "    .dataframe tbody tr th:only-of-type {\n",
       "        vertical-align: middle;\n",
       "    }\n",
       "\n",
       "    .dataframe tbody tr th {\n",
       "        vertical-align: top;\n",
       "    }\n",
       "\n",
       "    .dataframe thead th {\n",
       "        text-align: right;\n",
       "    }\n",
       "</style>\n",
       "<table border=\"1\" class=\"dataframe\">\n",
       "  <thead>\n",
       "    <tr style=\"text-align: right;\">\n",
       "      <th></th>\n",
       "      <th>content</th>\n",
       "      <th>score</th>\n",
       "    </tr>\n",
       "  </thead>\n",
       "  <tbody>\n",
       "    <tr>\n",
       "      <th>0</th>\n",
       "      <td>I turned the 5 star to a 1 star. The game is a...</td>\n",
       "      <td>1</td>\n",
       "    </tr>\n",
       "    <tr>\n",
       "      <th>1</th>\n",
       "      <td>Don't even bother downloading the game. It's l...</td>\n",
       "      <td>1</td>\n",
       "    </tr>\n",
       "    <tr>\n",
       "      <th>2</th>\n",
       "      <td>The game has become too full of glitches...and...</td>\n",
       "      <td>1</td>\n",
       "    </tr>\n",
       "    <tr>\n",
       "      <th>3</th>\n",
       "      <td>It's a decent game, just really bad implementa...</td>\n",
       "      <td>1</td>\n",
       "    </tr>\n",
       "    <tr>\n",
       "      <th>4</th>\n",
       "      <td>The game servers are glitched now. Even with l...</td>\n",
       "      <td>1</td>\n",
       "    </tr>\n",
       "  </tbody>\n",
       "</table>\n",
       "</div>"
      ],
      "text/plain": [
       "                                             content  score\n",
       "0  I turned the 5 star to a 1 star. The game is a...      1\n",
       "1  Don't even bother downloading the game. It's l...      1\n",
       "2  The game has become too full of glitches...and...      1\n",
       "3  It's a decent game, just really bad implementa...      1\n",
       "4  The game servers are glitched now. Even with l...      1"
      ]
     },
     "execution_count": 18,
     "metadata": {},
     "output_type": "execute_result"
    }
   ],
   "source": [
    "app_reviews_df.head()"
   ]
  },
  {
   "cell_type": "code",
   "execution_count": 19,
   "metadata": {},
   "outputs": [],
   "source": [
    "app_reviews_df.to_csv(r'/Users/abhijeet/Documents/Review Sentiment Analysis/PUBG/reviews_pubg.csv', index=None, header=True)"
   ]
  },
  {
   "cell_type": "code",
   "execution_count": null,
   "metadata": {},
   "outputs": [],
   "source": []
  },
  {
   "cell_type": "code",
   "execution_count": null,
   "metadata": {},
   "outputs": [],
   "source": []
  }
 ],
 "metadata": {
  "kernelspec": {
   "display_name": "Python 3",
   "language": "python",
   "name": "python3"
  },
  "language_info": {
   "codemirror_mode": {
    "name": "ipython",
    "version": 3
   },
   "file_extension": ".py",
   "mimetype": "text/x-python",
   "name": "python",
   "nbconvert_exporter": "python",
   "pygments_lexer": "ipython3",
   "version": "3.7.6"
  }
 },
 "nbformat": 4,
 "nbformat_minor": 4
}
